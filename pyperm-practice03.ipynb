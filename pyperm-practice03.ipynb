{
 "cells": [
  {
   "cell_type": "markdown",
   "metadata": {},
   "source": [
    "# Программирование на Python\n",
    "\n",
    "*Алла Тамбовцева, НИУ ВШЭ*\n",
    "\n",
    "## Практикум 3: условные конструкции и цикл `while`"
   ]
  },
  {
   "cell_type": "markdown",
   "metadata": {},
   "source": [
    "### Задача 1\n",
    "\n",
    "Напишите программу, которая запрашивает с клавиатуры какое-то одно слово и выводит на экран строку \"Это имя собственное\", если слово начинается с заглавной буквы, а остальные буквы строчные, и строку \"Наверное, это не имя собственное\" в обратном случае. Строки с сообщениями сохранены в переменных `true` и `false`."
   ]
  },
  {
   "cell_type": "code",
   "execution_count": null,
   "metadata": {},
   "outputs": [],
   "source": [
    "true = \"Это имя собственное\"\n",
    "false = \"Наверное, это не имя собственное\"\n",
    "\n",
    "### YOUR CODE HERE ###"
   ]
  },
  {
   "cell_type": "markdown",
   "metadata": {},
   "source": [
    "### Задача 2\n",
    "\n",
    "В списке `files` сохранены названия файлов с разными расширениями. Напишите программу, которая сохранит в список `docs` только файлы с расширением `.doc` или `.docx`. Элементы в списке `docs` должны быть отсортированы по алфавиту."
   ]
  },
  {
   "cell_type": "code",
   "execution_count": null,
   "metadata": {},
   "outputs": [],
   "source": [
    "files = [\"review.doc\", \"main.html\", \"mydoc.docx\", \"dreams-data.csv\", \n",
    "         \"intro.R\", \"hw01.tex\", \"Заявление.docx\", \"Заявление(копия).docx\", \n",
    "         \"Расписание.xlsx\", \"Сценарий.doc\"]\n",
    "\n",
    "### YOUR CODE HERE ###"
   ]
  },
  {
   "cell_type": "markdown",
   "metadata": {},
   "source": [
    "### Задача 3\n",
    "\n",
    "У питона есть набор любимых чисел.\n",
    "\n",
    "    favorites = [3, 7, 11, 23, 18, 48, 81]\n",
    "\n",
    "Напишите программу, которая просит пользователя ввести целое число, и если оно нравится питону, на экран будет выводиться сообщение: \"Мое любимое число!\", если нет – \"Эх, ну почему?\"."
   ]
  },
  {
   "cell_type": "code",
   "execution_count": null,
   "metadata": {},
   "outputs": [],
   "source": [
    "favorites = [3, 7, 11, 23, 18, 48, 81]\n",
    "\n",
    "### YOUR CODE HERE ###"
   ]
  },
  {
   "cell_type": "markdown",
   "metadata": {},
   "source": [
    "### Задача 4\n",
    "\n",
    "В списке `marks` сохранены имена и оценки студентов в шкале от 0 до 10. Напишите программу, которая запрашивает с клавиатуры целое число от 0 до 10 и сохраняет в список `upper` имена студентов из списка, чьи оценки не менее введенного значения. "
   ]
  },
  {
   "cell_type": "code",
   "execution_count": null,
   "metadata": {},
   "outputs": [],
   "source": [
    "marks = [(\"Harry\", 8), (\"Tim\", 9), (\"Berta\", 6), (\"Sue\", 7), (\"Tom\", 3),\n",
    "         (\"Cassandra\", 10), (\"Sam\", 5), (\"George\", 4), (\"Violetta\", 8)]\n",
    "value = int(input())\n",
    "\n",
    "### YOUR CODE HERE ###"
   ]
  },
  {
   "cell_type": "markdown",
   "metadata": {},
   "source": [
    "### Задача 5\n",
    "\n",
    "Напишите программу, которая запрашивает у пользователя пароль, и далее:\n",
    "\n",
    "* если пароль верный, выводит на экран сообщение \"Login success\".\n",
    "* если пароль неверный, выводит на экран сообщение \"Incorrect password, try again!\" до тех пор, пока пользователь не введет верный пароль.\n",
    "\n",
    "Считайте, что верный пароль сохранен в строке `password`."
   ]
  },
  {
   "cell_type": "code",
   "execution_count": null,
   "metadata": {},
   "outputs": [],
   "source": [
    "password = \"hsepassword\"\n",
    "\n",
    "### YOUR CODE HERE ###"
   ]
  }
 ],
 "metadata": {
  "kernelspec": {
   "display_name": "Python 3",
   "language": "python",
   "name": "python3"
  },
  "language_info": {
   "codemirror_mode": {
    "name": "ipython",
    "version": 3
   },
   "file_extension": ".py",
   "mimetype": "text/x-python",
   "name": "python",
   "nbconvert_exporter": "python",
   "pygments_lexer": "ipython3",
   "version": "3.7.4"
  }
 },
 "nbformat": 4,
 "nbformat_minor": 2
}
