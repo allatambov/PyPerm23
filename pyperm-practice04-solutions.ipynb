{
 "cells": [
  {
   "cell_type": "markdown",
   "metadata": {},
   "source": [
    "# Программирование на Python\n",
    "\n",
    "*Алла Тамбовцева, НИУ ВШЭ*\n",
    "\n",
    "## Практикум 4: работа с текстовыми файлами"
   ]
  },
  {
   "cell_type": "markdown",
   "metadata": {},
   "source": [
    "### Задача 1\n",
    "\n",
    "В файле `ducks.txt` хранятся цитаты героев \"Утиных историй\" с указанием автора цитаты (одна строка в файле – цитата и имя героя, разделенные табуляцией).\n",
    "\n",
    "Глобальная задача: написать игру-угадайку, где пользователю на экран последовательно выводятся цитаты и в ответ на каждую цитату предлагается ввести с клавиатуры имя соответствующего героя.\n",
    "\n",
    "Для простоты давайте считать, что набор имен ограничен, пользователь должен вводить имена героев из следующего списка: Скрудж, Зигзаг, Клювдия.\n",
    "\n",
    "Пошаговый алгоритм решения:\n",
    "\n",
    "1. Считать строки из файла и сохранить их в список.\n",
    "\n",
    "2. Перебрать строки в списке, разбить каждую по символу табуляции, результаты сохранить в виде кортежей с парами (цитата, герой) в список `results`.\n",
    "\n",
    "3. Создать переменную `score`, равную нулю. Для каждой пары из `results` вывести на экран цитату (первый элемент пары), запросить ответ, и если он совпадает с автором цитаты (вторым элементом пары), добавить к `score` 1 балл. В конце вывести общий набранный балл в следующем формате:\n",
    "\n",
    "        Ваш результат: [score]/7."
   ]
  },
  {
   "cell_type": "code",
   "execution_count": 1,
   "metadata": {},
   "outputs": [
    {
     "name": "stdout",
     "output_type": "stream",
     "text": [
      "Были бы крылья, разбиться сумеем!\n",
      "Зигзаг\n",
      "Не волнуйтесь, ребята, все мечтают, чтобы я потерялся, но я всегда возвращаюсь!\n",
      "Зигзаг\n",
      "На моей кухне я привидений не потерплю!\n",
      "Клювдия\n",
      "ГРАБИТЕЛИ! ВОРЫ! ПОЛИТИКИ!\n",
      "\n",
      "Катастрофа, которую можно избежать — приятная катастрофа.\n",
      "Зигзаг\n",
      "Если авария неизбежна, то пусть она будет хотя бы красивой.\n",
      "\n",
      "Что лучше: богатый селезень или мертвый?\n",
      "\n",
      "Ваш результат: 4/7.\n"
     ]
    }
   ],
   "source": [
    "file = open(\"ducks.txt\", encoding = \"UTF-8\")\n",
    "lines = file.readlines()\n",
    "lines = [line.rstrip() for line in lines]\n",
    "results = [tuple(line.split(\"\\t\")) for line in lines]\n",
    "score = 0\n",
    "for phrase, hero in results:\n",
    "    print(phrase)\n",
    "    answer = input()\n",
    "    if answer == hero:\n",
    "        score += 1\n",
    "print(f\"Ваш результат: {score}/7.\")"
   ]
  },
  {
   "cell_type": "markdown",
   "metadata": {},
   "source": [
    "### Задача 2\n",
    "\n",
    "Напишите программу, которая приводит текст, сохранённый в файле `text.txt`, к нормальному виду и записывает его в файл `text_norm.txt`. Нормальный вид текста: текст состоит только из слов в начальной форме, записанных маленькими буквами через пробел, нет никаких посторонних символов.\n",
    "\n",
    "Алгоритм работы после считывания текста в строку:\n",
    "\n",
    "1. Привести все буквы к нижнему регистру.\n",
    "2. Заменить все знаки препинания на пробелы.\n",
    "3. Разбить текст на слова и получить список слов.\n",
    "4. Избавиться от лишних пробелов в словах внутри полученного списка.\n",
    "5. Привести каждое слово в списке к начальной форме.\n",
    "6. Склеить все слова в начальной форме в одну строку с текстом.\n",
    "\n",
    "**Полезный код 1.** Знаки препинания можно извлечь из строки `punctuation`, которая хранится в модуле `string`. Однако там не все знаки препинания, например, нет русских кавычек-ёлочек и длинного тире. Их можно добавить самостоятельно!"
   ]
  },
  {
   "cell_type": "code",
   "execution_count": null,
   "metadata": {},
   "outputs": [],
   "source": [
    "from string import punctuation\n",
    "print(punctuation)"
   ]
  },
  {
   "cell_type": "markdown",
   "metadata": {},
   "source": [
    "**Полезный код 2.** Привести слова к начальной форме без специальных библиотек не получится. Можно установить библиотеку `pymorphy2`, в неё встроен морфологический анализатор – программа, которая позволяет выполнять морфологический разбор слова.\n",
    "\n",
    "Установка библиотеки:"
   ]
  },
  {
   "cell_type": "code",
   "execution_count": null,
   "metadata": {},
   "outputs": [],
   "source": [
    "!pip install pymorphy2"
   ]
  },
  {
   "cell_type": "markdown",
   "metadata": {},
   "source": [
    "Пример работы:"
   ]
  },
  {
   "cell_type": "code",
   "execution_count": 2,
   "metadata": {},
   "outputs": [
    {
     "name": "stdout",
     "output_type": "stream",
     "text": [
      "программист\n"
     ]
    }
   ],
   "source": [
    "from pymorphy2 import MorphAnalyzer\n",
    "\n",
    "# создаем анализатор\n",
    "morph = MorphAnalyzer()\n",
    "\n",
    "# делаем разбор и забираем начальную форму\n",
    "print(morph.parse('программистами')[0].normal_form)"
   ]
  },
  {
   "cell_type": "code",
   "execution_count": 3,
   "metadata": {},
   "outputs": [
    {
     "data": {
      "text/plain": [
       "[Parse(word='стекло', tag=OpencorporaTag('NOUN,inan,neut sing,nomn'), normal_form='стекло', score=0.690476, methods_stack=((DictionaryAnalyzer(), 'стекло', 157, 0),)),\n",
       " Parse(word='стекло', tag=OpencorporaTag('NOUN,inan,neut sing,accs'), normal_form='стекло', score=0.285714, methods_stack=((DictionaryAnalyzer(), 'стекло', 157, 3),)),\n",
       " Parse(word='стекло', tag=OpencorporaTag('VERB,perf,intr neut,sing,past,indc'), normal_form='стечь', score=0.023809, methods_stack=((DictionaryAnalyzer(), 'стекло', 1015, 3),))]"
      ]
     },
     "execution_count": 3,
     "metadata": {},
     "output_type": "execute_result"
    }
   ],
   "source": [
    "morph.parse('стекло')"
   ]
  },
  {
   "cell_type": "markdown",
   "metadata": {},
   "source": [
    "### Задача 3\n",
    "\n",
    "Напишите программу, которая на основе текста в нормализованном виде строит облако слов с помощью библиотеки `wordcloud`."
   ]
  },
  {
   "cell_type": "markdown",
   "metadata": {},
   "source": [
    "Устанавливаем библиотеку:"
   ]
  },
  {
   "cell_type": "code",
   "execution_count": null,
   "metadata": {},
   "outputs": [],
   "source": [
    "!pip install wordcloud"
   ]
  },
  {
   "cell_type": "markdown",
   "metadata": {},
   "source": [
    "Импортируем оттуда функцию `WordCloud()`, а также модуль `pyplot` для отрисовки графиков (библиотека `matplotlib` установлена вместе с Anaconda):"
   ]
  },
  {
   "cell_type": "code",
   "execution_count": null,
   "metadata": {},
   "outputs": [],
   "source": [
    "from wordcloud import WordCloud\n",
    "from matplotlib import pyplot as plt"
   ]
  },
  {
   "cell_type": "code",
   "execution_count": null,
   "metadata": {},
   "outputs": [],
   "source": [
    "# text: a string with normalised text\n",
    "\n",
    "wordcloud = WordCloud().generate(text)\n",
    "plt.imshow(wordcloud, interpolation='bilinear')\n",
    "plt.axis(\"off\")\n",
    "plt.show()"
   ]
  },
  {
   "cell_type": "markdown",
   "metadata": {},
   "source": [
    "Чтобы убрать стоп-слова (частые слова вроде предлогов, союзов и местоимений, которые не несут большой смысловой нагрузки), загрузим их из текстового файла со словами на Github:"
   ]
  },
  {
   "cell_type": "code",
   "execution_count": 2,
   "metadata": {},
   "outputs": [],
   "source": [
    "import requests\n",
    "\n",
    "# отправляем запрос по ссылке\n",
    "url = \"https://raw.githubusercontent.com/stopwords-iso/stopwords-ru/master/stopwords-ru.txt\"\n",
    "response = requests.get(url)\n",
    "\n",
    "# забираем текст с веб-страницы\n",
    "stop_text = response.text"
   ]
  },
  {
   "cell_type": "markdown",
   "metadata": {},
   "source": [
    "Получите на основе `stop_text` список стоп-слов и используйте его в качестве аргумента аргумент `stopwords` в коде ниже:"
   ]
  },
  {
   "cell_type": "code",
   "execution_count": null,
   "metadata": {},
   "outputs": [],
   "source": [
    "# заодно сделаем цвет фона белым\n",
    "\n",
    "wordcloud = WordCloud(stopwords = stop_words, \n",
    "                     background_color=\"white\").generate(final)\n",
    "\n",
    "plt.imshow(wordcloud, interpolation='bilinear')\n",
    "plt.axis(\"off\")\n",
    "plt.show()"
   ]
  }
 ],
 "metadata": {
  "kernelspec": {
   "display_name": "Python 3",
   "language": "python",
   "name": "python3"
  },
  "language_info": {
   "codemirror_mode": {
    "name": "ipython",
    "version": 3
   },
   "file_extension": ".py",
   "mimetype": "text/x-python",
   "name": "python",
   "nbconvert_exporter": "python",
   "pygments_lexer": "ipython3",
   "version": "3.7.4"
  }
 },
 "nbformat": 4,
 "nbformat_minor": 2
}
