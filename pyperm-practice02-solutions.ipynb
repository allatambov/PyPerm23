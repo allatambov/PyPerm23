{
 "cells": [
  {
   "cell_type": "markdown",
   "metadata": {},
   "source": [
    "# Программирование на Python\n",
    "\n",
    "*Алла Тамбовцева*\n",
    "\n",
    "## Практикум 2: списки, строки, цикл `for`"
   ]
  },
  {
   "cell_type": "markdown",
   "metadata": {},
   "source": [
    "### Задача 1\n",
    "\n",
    "Чип и Дейл собирают орехи, чтобы Спасатели (а их в команде пятеро) смогли ими перекусить во время совместного вечернего просмотра фильма о пришельцах. Спасатели всегда делят орехи поровну.\n",
    "\n",
    "Напишите программу, которая запрашивает с клавиатуры число орехов, набранное Чипом и Дейлом по-отдельности (два целых числа через пробел) и выводит на экран через пробел число орехов, которое достанется каждому из Спасателей, и число орехов, которое при таком дележе останется. \n",
    "\n",
    "**Пример работы программы:**\n",
    "\n",
    "Ввод:\n",
    "\n",
    "    20 30\n",
    "\n",
    "Вывод:\n",
    "\n",
    "    10 0\n",
    "    \n",
    "Ввод:\n",
    "\n",
    "    30 12\n",
    "\n",
    "Вывод:\n",
    "\n",
    "    8 2\n",
    "    \n",
    "Ввод:\n",
    "\n",
    "    62 34\n",
    "\n",
    "Вывод:\n",
    "\n",
    "    19 1"
   ]
  },
  {
   "cell_type": "code",
   "execution_count": 1,
   "metadata": {},
   "outputs": [
    {
     "name": "stdout",
     "output_type": "stream",
     "text": [
      "62 34\n",
      "19 1\n"
     ]
    }
   ],
   "source": [
    "# обычное решение\n",
    "\n",
    "inp = input()\n",
    "nuts = inp.split()\n",
    "chip = int(nuts[0])\n",
    "dale = int(nuts[1])\n",
    "Sum = chip + dale\n",
    "print(Sum // 5, Sum % 5) "
   ]
  },
  {
   "cell_type": "code",
   "execution_count": 2,
   "metadata": {},
   "outputs": [
    {
     "name": "stdout",
     "output_type": "stream",
     "text": [
      "62 34\n",
      "19 1\n"
     ]
    }
   ],
   "source": [
    "# более компактное решение\n",
    "# используем map()\n",
    "\n",
    "nuts = list(map(int, input().split()))\n",
    "print(sum(nuts) // 5, sum(nuts) % 5)"
   ]
  },
  {
   "cell_type": "code",
   "execution_count": 4,
   "metadata": {},
   "outputs": [
    {
     "data": {
      "text/plain": [
       "[2.0, 5.0, 7.0]"
      ]
     },
     "execution_count": 4,
     "metadata": {},
     "output_type": "execute_result"
    }
   ],
   "source": [
    "# map(): применяет функцию ко всем элементам списка\n",
    "# без цикла\n",
    "\n",
    "L = [2, 5, 7]\n",
    "list(map(float, L))"
   ]
  },
  {
   "cell_type": "markdown",
   "metadata": {},
   "source": [
    "### Задача 2\n",
    "\n",
    "Напишите программу, которая запрашивает с клавиатуры время в формате `ЧЧ:ММ:СС` (часы в 24-часовом формате, минуты и секунды) и выводит на экран число секунд, которое прошло с начала дня.\n",
    "\n",
    "**Пример работы программы:**\n",
    "\n",
    "Ввод:\n",
    "\n",
    "    00:01:20\n",
    "\n",
    "Вывод:\n",
    "\n",
    "    80\n",
    "    \n",
    "Ввод:\n",
    "\n",
    "    15:25:30\n",
    "\n",
    "Вывод:\n",
    "\n",
    "    55530"
   ]
  },
  {
   "cell_type": "code",
   "execution_count": 5,
   "metadata": {},
   "outputs": [
    {
     "name": "stdout",
     "output_type": "stream",
     "text": [
      "15:25:30\n",
      "55530\n"
     ]
    }
   ],
   "source": [
    "# обычное решение\n",
    "\n",
    "time = input()\n",
    "time = time.split(\":\")\n",
    "hours = int(time[0])\n",
    "minutes = int(time[1])\n",
    "seconds = int(time[2])\n",
    "seconds = seconds + minutes * 60 + hours * 3600\n",
    "print(seconds)"
   ]
  },
  {
   "cell_type": "code",
   "execution_count": 8,
   "metadata": {},
   "outputs": [
    {
     "name": "stdout",
     "output_type": "stream",
     "text": [
      "15:25:30\n",
      "55530\n"
     ]
    }
   ],
   "source": [
    "# компактное решение с map() и множественным присваиванием\n",
    "\n",
    "hours, minutes, seconds = list(map(int, input().split(':')))\n",
    "print(hours * 60 * 60 + minutes * 60 + seconds)"
   ]
  },
  {
   "cell_type": "markdown",
   "metadata": {},
   "source": [
    "### Задача 3\n",
    "\n",
    "Есть список имён:"
   ]
  },
  {
   "cell_type": "code",
   "execution_count": 9,
   "metadata": {},
   "outputs": [],
   "source": [
    "girls = [\"Иветта\", \"Виолетта\", \"Кассандра\", \"Вирджиния\", \n",
    "         \"Амелия\", \"Розамунда\", \"Янина\", \"Беатриса\"]"
   ]
  },
  {
   "cell_type": "markdown",
   "metadata": {},
   "source": [
    "Используя список `girls`, выведите на экран следующие списки:\n",
    "\n",
    "    [\"Виолетта\", \"Кассандра\", \"Вирджиния\", \"Амелия\"]\n",
    "    [\"Вирджиния\", \"Амелия\", \"Розамунда\", \"Янина\", \"Беатриса\"]\n",
    "    [\"Иветта\", \"Виолетта\", \"Вирджиния\", \"Амелия\"]\n",
    "    [\"Кассандра\", \"Амелия\", \"Розамунда\"]"
   ]
  },
  {
   "cell_type": "code",
   "execution_count": 15,
   "metadata": {},
   "outputs": [
    {
     "name": "stdout",
     "output_type": "stream",
     "text": [
      "['Виолетта', 'Кассандра', 'Вирджиния', 'Амелия']\n",
      "['Вирджиния', 'Амелия', 'Розамунда', 'Янина', 'Беатриса']\n",
      "['Иветта', 'Виолетта', 'Вирджиния', 'Амелия']\n",
      "['Кассандра', 'Амелия', 'Розамунда']\n"
     ]
    }
   ],
   "source": [
    "print(girls[1:5])\n",
    "print(girls[3:])\n",
    "print(girls[0:2] + girls[3:5])\n",
    "print(girls[2:3] + girls[4:6])"
   ]
  },
  {
   "cell_type": "markdown",
   "metadata": {},
   "source": [
    "### Задача 4\n",
    "\n",
    "Напишите программу, которая запрашивает с клавиатуры два целых числа через пробел (назовём их $a$ и $b$) и выводит на экран перечень целых чисел от $a$ до $b$ включительно.\n",
    "\n",
    "**Пример работы программы**\n",
    "\n",
    "Ввод:\n",
    "\n",
    "    2 7\n",
    "\n",
    "Вывод:\n",
    "\n",
    "    2 3 4 5 6 7"
   ]
  },
  {
   "cell_type": "code",
   "execution_count": 21,
   "metadata": {},
   "outputs": [
    {
     "name": "stdout",
     "output_type": "stream",
     "text": [
      "2 7\n",
      "2 3 4 5 6 7\n"
     ]
    }
   ],
   "source": [
    "L = input().split()\n",
    "a = int(L[0])\n",
    "b = int(L[1])\n",
    "print(*range(a, b + 1))"
   ]
  },
  {
   "cell_type": "markdown",
   "metadata": {},
   "source": [
    "### Задача 5\n",
    "\n",
    "Напишите программу, которая запрашивает с клавиатуры целое число $n$ и выводит на экран сумму квадратов чисел от 1 до $n$ включительно.\n",
    "\n",
    "Решите эту задачу:\n",
    "\n",
    "* в предположении, что создавать список и считать сумму его элементов можно;\n",
    "\n",
    "* в предположении, что создавать списки нельзя."
   ]
  },
  {
   "cell_type": "code",
   "execution_count": 22,
   "metadata": {},
   "outputs": [
    {
     "name": "stdout",
     "output_type": "stream",
     "text": [
      "4\n",
      "30\n"
     ]
    }
   ],
   "source": [
    "# со списком\n",
    "\n",
    "n = int(input())\n",
    "squares = []\n",
    "for num in range(n + 1):\n",
    "    squares.append(num ** 2)\n",
    "print(sum(squares))"
   ]
  },
  {
   "cell_type": "code",
   "execution_count": 23,
   "metadata": {},
   "outputs": [
    {
     "name": "stdout",
     "output_type": "stream",
     "text": [
      "4\n",
      "30\n"
     ]
    }
   ],
   "source": [
    "# без списка – обновляем «счетчик»\n",
    "\n",
    "n = int(input())\n",
    "res = 0\n",
    "for num in range(n + 1):\n",
    "    res += num ** 2\n",
    "print(res)"
   ]
  },
  {
   "cell_type": "markdown",
   "metadata": {},
   "source": [
    "### Задача 6\n",
    "\n",
    "API ВКонтакте (интерфейс, который включает в себя базу данных, к которой можно отправить запрос и выгрузить доступные данные о пользователях/сообществах/постах) разрешает за один раз выгрузить не более 100 постов со стены пользователя или сообщества (параметр `count`). \n",
    "\n",
    "Однако возможность выгрузить более 100 постов есть – в запросе нужно указать параметр сдвига `offset`, который позволит начинать выгрузку не с начала, а с определённого места. Так, если `offset` равен 0, выкачиваться будут посты с 0 по 100, если `offset` равен 100, выкачиваться будут посты с 100 по 200, если `offset` равен 200, посты с 200 по 300, и так далее.\n",
    "\n",
    "Число постов на стене сообщества сохранено в переменной `nposts`, текстовый шаблон для запроса – в переменной `req`, число постов для выгрузки за один раз – в переменной `count`, параметр сдвига – в переменной `offset`."
   ]
  },
  {
   "cell_type": "code",
   "execution_count": 24,
   "metadata": {},
   "outputs": [
    {
     "name": "stdout",
     "output_type": "stream",
     "text": [
      "https://api.vk.com/method/wall.get?access_token=123&v=5.131&domain=hseteachers&count=100&offset=0\n"
     ]
    }
   ],
   "source": [
    "nposts = 1467\n",
    "count = 100\n",
    "offset = 0\n",
    "\n",
    "# wall.get, метод для выгрузки постов со стены\n",
    "# access_token=123, условный токен доступа, обычно он длинный\n",
    "# v=5.131, версия API\n",
    "# domain=hseteachers, сообщество Цитатник ВШЭ\n",
    "\n",
    "# \\ позволяет развивать текст на несколько строк\n",
    "# для удобства, не добавляяя лишние переносы и пробелы\n",
    "\n",
    "req = f\"https://api.vk.com/method/wall.get?access_token=123\\\n",
    "&v=5.131&domain=hseteachers&count={count}&offset={offset}\"\n",
    "\n",
    "print(req)"
   ]
  },
  {
   "cell_type": "markdown",
   "metadata": {},
   "source": [
    "Допишите код ниже таким образом, чтобы он выводил на экран подходящие запросы столько раз, сколько необходимо для выгрузки всех постов."
   ]
  },
  {
   "cell_type": "code",
   "execution_count": 25,
   "metadata": {},
   "outputs": [
    {
     "name": "stdout",
     "output_type": "stream",
     "text": [
      "https://api.vk.com/method/wall.get?access_token=123&v=5.131&domain=hseteachers&count=100&offset=0\n",
      "https://api.vk.com/method/wall.get?access_token=123&v=5.131&domain=hseteachers&count=100&offset=100\n",
      "https://api.vk.com/method/wall.get?access_token=123&v=5.131&domain=hseteachers&count=100&offset=200\n",
      "https://api.vk.com/method/wall.get?access_token=123&v=5.131&domain=hseteachers&count=100&offset=300\n",
      "https://api.vk.com/method/wall.get?access_token=123&v=5.131&domain=hseteachers&count=100&offset=400\n",
      "https://api.vk.com/method/wall.get?access_token=123&v=5.131&domain=hseteachers&count=100&offset=500\n",
      "https://api.vk.com/method/wall.get?access_token=123&v=5.131&domain=hseteachers&count=100&offset=600\n",
      "https://api.vk.com/method/wall.get?access_token=123&v=5.131&domain=hseteachers&count=100&offset=700\n",
      "https://api.vk.com/method/wall.get?access_token=123&v=5.131&domain=hseteachers&count=100&offset=800\n",
      "https://api.vk.com/method/wall.get?access_token=123&v=5.131&domain=hseteachers&count=100&offset=900\n",
      "https://api.vk.com/method/wall.get?access_token=123&v=5.131&domain=hseteachers&count=100&offset=1000\n",
      "https://api.vk.com/method/wall.get?access_token=123&v=5.131&domain=hseteachers&count=100&offset=1100\n",
      "https://api.vk.com/method/wall.get?access_token=123&v=5.131&domain=hseteachers&count=100&offset=1200\n",
      "https://api.vk.com/method/wall.get?access_token=123&v=5.131&domain=hseteachers&count=100&offset=1300\n",
      "https://api.vk.com/method/wall.get?access_token=123&v=5.131&domain=hseteachers&count=100&offset=1400\n"
     ]
    }
   ],
   "source": [
    "repeat = nposts // 100 + 1\n",
    "\n",
    "for i in range(repeat):\n",
    "    # YOUR CODE HERE\n",
    "    req = f\"https://api.vk.com/method/wall.get?access_token=123&v=5.131&domain=hseteachers&count={count}&offset={offset}\"\n",
    "    print(req)\n",
    "    offset += 100"
   ]
  },
  {
   "cell_type": "markdown",
   "metadata": {},
   "source": [
    "### Задача 7\n",
    "\n",
    "Даны два списка с частями адресов:"
   ]
  },
  {
   "cell_type": "code",
   "execution_count": null,
   "metadata": {},
   "outputs": [],
   "source": [
    "part01 = [\"Москва\", \"Санкт-Петербург\", \"Пермь\", \"Нижний Новгород\"]\n",
    "part02 = [\"Мясницкая улица, дом 20\", \n",
    "          \"Кантемировская улица дом 3, корп.1, лит. А\", \n",
    "          \"Студенческая улица, дом 38\", \n",
    "          \"Большая Печерская улица, дом 25/12\"]"
   ]
  },
  {
   "cell_type": "markdown",
   "metadata": {},
   "source": [
    "Напишите программу, которая сохраняет в список `full` полные адреса, то есть адреса, где части из `part01` и `part02` склеены с помощью запятой и пробела, например, \n",
    "так:\n",
    "\n",
    "    Москва, Мясницкая улица, 20"
   ]
  },
  {
   "cell_type": "code",
   "execution_count": null,
   "metadata": {},
   "outputs": [],
   "source": [
    "### YOUR CODE HERE ###\n",
    "\n",
    "# #7-8: обсудим в следующий раз!"
   ]
  },
  {
   "cell_type": "markdown",
   "metadata": {},
   "source": [
    "### Задача 8\n",
    "\n",
    "В списке `valid` сохранено число действительных бюллетеней на 5 избирательных участках, а в списке`invalid` – число недействительных бюллетеней на тех же участках. Также известно общее число избирателей на каждом участке, значения сохранены в списке `total`. Используя имеющиеся списки, вычислите явку (в процентах) на каждом избирательном участке и выведите на экран с новой строки полученные значения, округлённые до второго знака после запятой.\n",
    "\n",
    "Решите эту задачу:\n",
    "\n",
    "* без использования `zip()`;\n",
    "* с использованием `zip()`.\n",
    "\n",
    "*Напоминание.* Явка на каждом участке определяется как сумма действительных и недействительных бюллетеней, делённая на общее число зарегистированных избирателей (не забудьте перевести полученную долю в проценты).\n",
    "\n",
    "**Пример работы программы**\n",
    "\n",
    "На выходе:\n",
    "\n",
    "    51.11\n",
    "    96.02\n",
    "    60.83\n",
    "    88.76\n",
    "    46.52"
   ]
  },
  {
   "cell_type": "code",
   "execution_count": null,
   "metadata": {},
   "outputs": [],
   "source": [
    "valid = [450, 787, 630, 740, 950]\n",
    "invalid = [10, 202, 100, 50, 120]\n",
    "total = [900, 1030, 1200, 890, 2300]"
   ]
  },
  {
   "cell_type": "code",
   "execution_count": null,
   "metadata": {},
   "outputs": [],
   "source": [
    "### YOUR CODE HERE ###"
   ]
  }
 ],
 "metadata": {
  "kernelspec": {
   "display_name": "Python 3",
   "language": "python",
   "name": "python3"
  },
  "language_info": {
   "codemirror_mode": {
    "name": "ipython",
    "version": 3
   },
   "file_extension": ".py",
   "mimetype": "text/x-python",
   "name": "python",
   "nbconvert_exporter": "python",
   "pygments_lexer": "ipython3",
   "version": "3.7.4"
  }
 },
 "nbformat": 4,
 "nbformat_minor": 2
}
