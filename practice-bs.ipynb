{
 "cells": [
  {
   "cell_type": "markdown",
   "metadata": {},
   "source": [
    "# Программирование на Python\n",
    "\n",
    "*Алла Тамбовцева, НИУ ВШЭ*\n",
    "\n",
    "## Практикум по сбору информации о курсах валют\n",
    "### Часть 1: выгружаем данные"
   ]
  },
  {
   "cell_type": "markdown",
   "metadata": {},
   "source": [
    "Загружаем необходимые модули и библиотеки:"
   ]
  },
  {
   "cell_type": "code",
   "execution_count": 2,
   "metadata": {},
   "outputs": [],
   "source": [
    "import requests\n",
    "from bs4 import BeautifulSoup"
   ]
  },
  {
   "cell_type": "markdown",
   "metadata": {},
   "source": [
    "Отправляем запрос к странице с курсами валют от РБК (обновляется, результаты могут отличаться в зависимости от времени подключения), забираем исходный код HTML и превращаем его в объект BeautifulSoup:"
   ]
  },
  {
   "cell_type": "code",
   "execution_count": 3,
   "metadata": {},
   "outputs": [],
   "source": [
    "page = requests.get(\"https://cash.rbc.ru/\")\n",
    "soup = BeautifulSoup(page.text)"
   ]
  },
  {
   "cell_type": "markdown",
   "metadata": {},
   "source": [
    "Несмотря на то, что курсы валют в разных банках представлены в табличном виде, настоящей таблицей с тэгом `<table>` этот фрагмент страницы не является. Но это нестрашно, будем искать информацию по разделам с тэгами `<div>`. Найдем все разделы с подходящим классом и сохраним их в список `divs`, это будут «карточки» с информацией о курсе валют в разных банках:"
   ]
  },
  {
   "cell_type": "code",
   "execution_count": 4,
   "metadata": {},
   "outputs": [],
   "source": [
    "divs = soup.find_all(\"div\",\n",
    "                     {\"class\" : \"quote__office__one js-one-office\"})"
   ]
  },
  {
   "cell_type": "markdown",
   "metadata": {},
   "source": [
    "Сначала научимся извлекать информацию на примере одного банка:"
   ]
  },
  {
   "cell_type": "code",
   "execution_count": 12,
   "metadata": {},
   "outputs": [],
   "source": [
    "d = divs[1]"
   ]
  },
  {
   "cell_type": "code",
   "execution_count": 13,
   "metadata": {},
   "outputs": [
    {
     "name": "stdout",
     "output_type": "stream",
     "text": [
      "<div class=\"quote__office__one js-one-office\">\n",
      "<div class=\"quote__office__cell quote__office__one__star\">\n",
      "<div class=\"js-select-favorites\"></div>\n",
      "</div>\n",
      "<div class=\"quote__office__cell\">\n",
      "<a class=\"quote__office__one__name\" href=\"/cash/bank/103134.html\">Сбербанк ДО № 9038/01698</a>\n",
      "<div class=\"quote__office__one__phone\">+7 800 555-55-50</div>\n",
      "</div>\n",
      "<div class=\"quote__office__cell quote__office__one__button_full\">\n",
      "</div>\n",
      "<div class=\"quote__office__cell quote__office__one__rate quote__mode_list_view\">\n",
      "            83.45\n",
      "        </div>\n",
      "<div class=\"quote__office__cell quote__office__one__cash quote__mode_list_view\">\n",
      "            8345.00\n",
      "        </div>\n",
      "<div class=\"quote__office__cell quote__office__one__sell js-filter-pro quote__mode_list_view_pro\">\n",
      "            78.79\n",
      "                <div class=\"quote__office__one__diapason\">от </div>\n",
      "</div>\n",
      "<div class=\"quote__office__cell quote__office__one__buy js-filter-pro quote__mode_list_view_pro\">\n",
      "            83.45\n",
      "                <div class=\"quote__office__one__diapason\">от </div>\n",
      "</div>\n",
      "<div class=\"quote__office__cell quote__office__one__time\">\n",
      "            08:38\n",
      "        </div>\n",
      "<div class=\"quote__office__cell quote__office__one__button\">\n",
      "</div>\n",
      "<div class=\"quote__office__cell quote__office__one__metro\">\n",
      "<i class=\"metro__bg__51\"></i>\n",
      "<span>Южная</span>\n",
      "<span class=\"quote__office__metro__distance\">481 м</span>\n",
      "</div>\n",
      "<div class=\"quote__office__cell quote__office__one__phone2\">+7 800 555-55-50</div>\n",
      "</div>\n"
     ]
    }
   ],
   "source": [
    "print(d)"
   ]
  },
  {
   "cell_type": "markdown",
   "metadata": {},
   "source": [
    "Плюс автоматической выгрузки данных: в исходном коде страницы хранится больше информации, чем мы видим непосредственно как пользователи. В выгруженных «карточках» есть не только информация о покупке валюты, которая отображается на сайте по умолчанию, но и курс при продаже, а также ближайшая к банку станция метро с расстоянием до него."
   ]
  },
  {
   "cell_type": "markdown",
   "metadata": {},
   "source": [
    "Найдем ссылку на страницу банка и заберем из нее две части – саму ссылку (`link_href`) и название банка (`link_text`):"
   ]
  },
  {
   "cell_type": "code",
   "execution_count": 14,
   "metadata": {},
   "outputs": [
    {
     "name": "stdout",
     "output_type": "stream",
     "text": [
      "/cash/bank/103134.html Сбербанк ДО № 9038/01698\n"
     ]
    }
   ],
   "source": [
    "link = d.find(\"a\", {\"class\" : \"quote__office__one__name\"})\n",
    "link_href = link.get(\"href\")\n",
    "link_text = link.text\n",
    "print(link_href, link_text)"
   ]
  },
  {
   "cell_type": "markdown",
   "metadata": {},
   "source": [
    "Аналогичным образом извлечем телефон банка, курс валют при покупке и при продаже (попутно избавимся от лишних отступов и слов в курсах валют):"
   ]
  },
  {
   "cell_type": "code",
   "execution_count": 15,
   "metadata": {},
   "outputs": [],
   "source": [
    "phone = d.find(\"div\", {\"class\" : \"quote__office__one__phone\"}).text"
   ]
  },
  {
   "cell_type": "code",
   "execution_count": 16,
   "metadata": {},
   "outputs": [],
   "source": [
    "buy = d.find(\"div\", \n",
    "             {\"class\" : \"quote__office__cell quote__office__one__rate quote__mode_list_view\"}).text\n",
    "buy = buy.strip()\n",
    "\n",
    "sell = d.find(\"div\", \n",
    "              {\"class\" : \"quote__office__cell quote__office__one__sell js-filter-pro quote__mode_list_view_pro\"}).text\n",
    "sell = sell.replace(\"от\", \"\").strip()"
   ]
  },
  {
   "cell_type": "code",
   "execution_count": 17,
   "metadata": {},
   "outputs": [
    {
     "name": "stdout",
     "output_type": "stream",
     "text": [
      "+7 800 555-55-50 83.45 78.79\n"
     ]
    }
   ],
   "source": [
    "print(phone, buy, sell)"
   ]
  },
  {
   "cell_type": "markdown",
   "metadata": {},
   "source": [
    "Пока все значения оставим в виде строк (тип `str`), преобразование типов выполним в самом конце, когда соберем всю информацию и сохраним в датафрейм."
   ]
  },
  {
   "cell_type": "markdown",
   "metadata": {},
   "source": [
    "Теперь найдем ближайшую станцию метро и расстояние до нее (в первом случае тэг `<span>` не имеет атрибута `class`, это его отличительная особенность, поэтому класс будет пустой):"
   ]
  },
  {
   "cell_type": "code",
   "execution_count": 18,
   "metadata": {},
   "outputs": [
    {
     "name": "stdout",
     "output_type": "stream",
     "text": [
      "Южная 481 м\n"
     ]
    }
   ],
   "source": [
    "metro = d.find(\"span\", {\"class\" : None}).text\n",
    "distance = d.find(\"span\", \n",
    "                  {\"class\" : \"quote__office__metro__distance\"}).text\n",
    "print(metro, distance)"
   ]
  },
  {
   "cell_type": "markdown",
   "metadata": {},
   "source": [
    "Отлично! Всю информацию по одному банку выгружать мы научились. Напишем функцию, чтобы применить ее потом в цикле ко всем «карточкам» банков в `divs`. Собственно, для написания функции нам достаточно скопировать блоки кода выше и перечислить в `return` итоговые результаты в виде кортежа:"
   ]
  },
  {
   "cell_type": "code",
   "execution_count": 19,
   "metadata": {},
   "outputs": [],
   "source": [
    "def get_bank(d):\n",
    "    link = d.find(\"a\", {\"class\" : \"quote__office__one__name\"})\n",
    "    link_href = link.get(\"href\")\n",
    "    link_text = link.text\n",
    "    phone = d.find(\"div\", {\"class\" : \"quote__office__one__phone\"}).text\n",
    "    buy = d.find(\"div\", \n",
    "                 {\"class\" : \"quote__office__cell quote__office__one__rate quote__mode_list_view\"}).text\n",
    "    buy = buy.strip()\n",
    "    sell = d.find(\"div\", \n",
    "                  {\"class\" : \"quote__office__cell quote__office__one__sell js-filter-pro quote__mode_list_view_pro\"}).text\n",
    "    sell = sell.replace(\"от\", \"\").strip()\n",
    "    \n",
    "    metro = d.find(\"span\", {\"class\" : None}).text\n",
    "    distance = d.find(\"span\", \n",
    "                  {\"class\" : \"quote__office__metro__distance\"}).text\n",
    "    return link_href, link_text, phone, buy, sell, metro, distance"
   ]
  },
  {
   "cell_type": "markdown",
   "metadata": {},
   "source": [
    "Попробуем применить функцию ко всем элементам списка `divs`. Давайте напишем цикл с конструкцией `try-except`, чтобы если что, зафиксировать случаи, когда функция не срабатывает из-за ошибок:"
   ]
  },
  {
   "cell_type": "code",
   "execution_count": 20,
   "metadata": {},
   "outputs": [],
   "source": [
    "banks_info = []\n",
    "errors = []\n",
    "\n",
    "for bank in divs:\n",
    "    try:\n",
    "        res = get_bank(bank)\n",
    "        banks_info.append(res)\n",
    "    except:\n",
    "        errors.append(bank)"
   ]
  },
  {
   "cell_type": "markdown",
   "metadata": {},
   "source": [
    "Проверим, сколько у нас банков и сколько ошибок:"
   ]
  },
  {
   "cell_type": "code",
   "execution_count": 21,
   "metadata": {},
   "outputs": [
    {
     "name": "stdout",
     "output_type": "stream",
     "text": [
      "3 2\n"
     ]
    }
   ],
   "source": [
    "print(len(banks_info), len(errors))"
   ]
  },
  {
   "cell_type": "markdown",
   "metadata": {},
   "source": [
    "Список с фрагментами кода из `divs`, на которых функция не сработала, оказался непустым. Если мы изучим его элементы, окажется, что это те банки, у которых нет метро поблизости (станция и расстояние не указаны). Скорректируем нашу функцию на случай, если информация о метро отсутствует – добавим конструкцию `try-except`:"
   ]
  },
  {
   "cell_type": "code",
   "execution_count": 22,
   "metadata": {},
   "outputs": [],
   "source": [
    "def get_bank(d):\n",
    "    link = d.find(\"a\", {\"class\" : \"quote__office__one__name\"})\n",
    "    link_href = link.get(\"href\")\n",
    "    link_text = link.text\n",
    "    phone = d.find(\"div\", {\"class\" : \"quote__office__one__phone\"}).text\n",
    "    buy = d.find(\"div\", {\"class\" : \"quote__office__cell quote__office__one__rate quote__mode_list_view\"}).text\n",
    "    buy = buy.strip()\n",
    "    sell = d.find(\"div\", {\"class\" : \"quote__office__cell quote__office__one__sell js-filter-pro quote__mode_list_view_pro\"}).text\n",
    "    sell = sell.replace(\"от\", \"\").strip()\n",
    "    try:\n",
    "        metro = d.find(\"span\", {\"class\" : None}).text\n",
    "        distance = d.find(\"span\", \n",
    "                  {\"class\" : \"quote__office__metro__distance\"}).text\n",
    "    except:\n",
    "        metro = None\n",
    "        distance= None\n",
    "    return link_href, link_text, phone, buy, sell, metro, distance"
   ]
  },
  {
   "cell_type": "markdown",
   "metadata": {},
   "source": [
    "Повторяем выгрузку:"
   ]
  },
  {
   "cell_type": "code",
   "execution_count": 23,
   "metadata": {},
   "outputs": [],
   "source": [
    "banks_info = []\n",
    "errors = []\n",
    "\n",
    "for bank in divs:\n",
    "    try:\n",
    "        res = get_bank(bank)\n",
    "        banks_info.append(res)\n",
    "    except:\n",
    "        errors.append(bank)"
   ]
  },
  {
   "cell_type": "code",
   "execution_count": 24,
   "metadata": {},
   "outputs": [
    {
     "name": "stdout",
     "output_type": "stream",
     "text": [
      "5 0\n"
     ]
    }
   ],
   "source": [
    "print(len(banks_info), len(errors))"
   ]
  },
  {
   "cell_type": "markdown",
   "metadata": {},
   "source": [
    "Теперь все отлично! Осталось превратить все в датафрейм `pandas` и преобразовать данные."
   ]
  },
  {
   "cell_type": "markdown",
   "metadata": {},
   "source": [
    "### Часть 2: обрабатываем данные"
   ]
  },
  {
   "cell_type": "markdown",
   "metadata": {},
   "source": [
    "Импортируем библиотеку `pandas`:"
   ]
  },
  {
   "cell_type": "code",
   "execution_count": 25,
   "metadata": {},
   "outputs": [],
   "source": [
    "import pandas as pd"
   ]
  },
  {
   "cell_type": "markdown",
   "metadata": {},
   "source": [
    "Получаем датафрейм из списка кортежей:"
   ]
  },
  {
   "cell_type": "code",
   "execution_count": 26,
   "metadata": {},
   "outputs": [],
   "source": [
    "df = pd.DataFrame(banks_info)"
   ]
  },
  {
   "cell_type": "markdown",
   "metadata": {},
   "source": [
    "Приписываем названия столбцам:"
   ]
  },
  {
   "cell_type": "code",
   "execution_count": 27,
   "metadata": {},
   "outputs": [],
   "source": [
    "df.columns = [\"link\", \"name\", \"phone\", \n",
    "              \"buy\", \"sell\", \"metro\", \"distance\"]"
   ]
  },
  {
   "cell_type": "markdown",
   "metadata": {},
   "source": [
    "Сделаем ссылки на страницы банков абсолютными – доклеим к каждой ссылку на главную страницу. Чтобы избежать циклов, опишем нужное преобразование с помощью анонимной lambda-функции и применим ее ко всем элементам столбца `link` через метод `.apply()`:"
   ]
  },
  {
   "cell_type": "code",
   "execution_count": 28,
   "metadata": {},
   "outputs": [],
   "source": [
    "df[\"link\"] = df[\"link\"].apply(lambda x: \"https://cash.rbc.ru\" + x)"
   ]
  },
  {
   "cell_type": "markdown",
   "metadata": {},
   "source": [
    "Пока все столбцы в датафрейме у нас текстовые – в `pandas` вместо `string` текстовый тип назвается `object`:"
   ]
  },
  {
   "cell_type": "code",
   "execution_count": 29,
   "metadata": {},
   "outputs": [
    {
     "name": "stdout",
     "output_type": "stream",
     "text": [
      "<class 'pandas.core.frame.DataFrame'>\n",
      "RangeIndex: 5 entries, 0 to 4\n",
      "Data columns (total 7 columns):\n",
      " #   Column    Non-Null Count  Dtype \n",
      "---  ------    --------------  ----- \n",
      " 0   link      5 non-null      object\n",
      " 1   name      5 non-null      object\n",
      " 2   phone     5 non-null      object\n",
      " 3   buy       5 non-null      object\n",
      " 4   sell      5 non-null      object\n",
      " 5   metro     3 non-null      object\n",
      " 6   distance  3 non-null      object\n",
      "dtypes: object(7)\n",
      "memory usage: 408.0+ bytes\n"
     ]
    }
   ],
   "source": [
    "df.info()"
   ]
  },
  {
   "cell_type": "markdown",
   "metadata": {},
   "source": [
    "Скорректируем типы столбцов с курсами валют – переделаем их на `float`:"
   ]
  },
  {
   "cell_type": "code",
   "execution_count": 30,
   "metadata": {},
   "outputs": [
    {
     "data": {
      "text/html": [
       "<div>\n",
       "<style scoped>\n",
       "    .dataframe tbody tr th:only-of-type {\n",
       "        vertical-align: middle;\n",
       "    }\n",
       "\n",
       "    .dataframe tbody tr th {\n",
       "        vertical-align: top;\n",
       "    }\n",
       "\n",
       "    .dataframe thead th {\n",
       "        text-align: right;\n",
       "    }\n",
       "</style>\n",
       "<table border=\"1\" class=\"dataframe\">\n",
       "  <thead>\n",
       "    <tr style=\"text-align: right;\">\n",
       "      <th></th>\n",
       "      <th>link</th>\n",
       "      <th>name</th>\n",
       "      <th>phone</th>\n",
       "      <th>buy</th>\n",
       "      <th>sell</th>\n",
       "      <th>metro</th>\n",
       "      <th>distance</th>\n",
       "    </tr>\n",
       "  </thead>\n",
       "  <tbody>\n",
       "    <tr>\n",
       "      <th>0</th>\n",
       "      <td>https://cash.rbc.ru/cash/bank/103237.html</td>\n",
       "      <td>КБ ЮНИСТРИМ ОО № 154 Садовод</td>\n",
       "      <td>+7 989 048-11-35</td>\n",
       "      <td>82.90</td>\n",
       "      <td>81.75</td>\n",
       "      <td>None</td>\n",
       "      <td>None</td>\n",
       "    </tr>\n",
       "    <tr>\n",
       "      <th>1</th>\n",
       "      <td>https://cash.rbc.ru/cash/bank/103134.html</td>\n",
       "      <td>Сбербанк ДО № 9038/01698</td>\n",
       "      <td>+7 800 555-55-50</td>\n",
       "      <td>83.45</td>\n",
       "      <td>78.79</td>\n",
       "      <td>Южная</td>\n",
       "      <td>481 м</td>\n",
       "    </tr>\n",
       "    <tr>\n",
       "      <th>2</th>\n",
       "      <td>https://cash.rbc.ru/cash/bank/102664.html</td>\n",
       "      <td>Банк БКФ ДО На Проспекте Мира</td>\n",
       "      <td>+7 915 110-05-40</td>\n",
       "      <td>83.50</td>\n",
       "      <td>81.00</td>\n",
       "      <td>Алексеевская</td>\n",
       "      <td>709 м</td>\n",
       "    </tr>\n",
       "    <tr>\n",
       "      <th>3</th>\n",
       "      <td>https://cash.rbc.ru/cash/bank/102665.html</td>\n",
       "      <td>Банк БКФ ДО На Сущевском Валу</td>\n",
       "      <td>+7 915 022-53-67</td>\n",
       "      <td>83.50</td>\n",
       "      <td>81.00</td>\n",
       "      <td>Марьина Роща</td>\n",
       "      <td>276 м</td>\n",
       "    </tr>\n",
       "    <tr>\n",
       "      <th>4</th>\n",
       "      <td>https://cash.rbc.ru/cash/bank/103295.html</td>\n",
       "      <td>КБ Солидарность ДО Жуковский</td>\n",
       "      <td>+7 495 663-35-77 доб. 5399</td>\n",
       "      <td>85.00</td>\n",
       "      <td>80.50</td>\n",
       "      <td>None</td>\n",
       "      <td>None</td>\n",
       "    </tr>\n",
       "  </tbody>\n",
       "</table>\n",
       "</div>"
      ],
      "text/plain": [
       "                                        link                           name  \\\n",
       "0  https://cash.rbc.ru/cash/bank/103237.html   КБ ЮНИСТРИМ ОО № 154 Садовод   \n",
       "1  https://cash.rbc.ru/cash/bank/103134.html       Сбербанк ДО № 9038/01698   \n",
       "2  https://cash.rbc.ru/cash/bank/102664.html  Банк БКФ ДО На Проспекте Мира   \n",
       "3  https://cash.rbc.ru/cash/bank/102665.html  Банк БКФ ДО На Сущевском Валу   \n",
       "4  https://cash.rbc.ru/cash/bank/103295.html   КБ Солидарность ДО Жуковский   \n",
       "\n",
       "                        phone    buy   sell         metro distance  \n",
       "0            +7 989 048-11-35  82.90  81.75          None     None  \n",
       "1            +7 800 555-55-50  83.45  78.79         Южная    481 м  \n",
       "2            +7 915 110-05-40  83.50  81.00  Алексеевская    709 м  \n",
       "3            +7 915 022-53-67  83.50  81.00  Марьина Роща    276 м  \n",
       "4  +7 495 663-35-77 доб. 5399  85.00  80.50          None     None  "
      ]
     },
     "execution_count": 30,
     "metadata": {},
     "output_type": "execute_result"
    }
   ],
   "source": [
    "df[\"buy\"] = df[\"buy\"].astype(float)\n",
    "df[\"sell\"] = df[\"sell\"].astype(float)\n",
    "df.head(10)"
   ]
  },
  {
   "cell_type": "markdown",
   "metadata": {},
   "source": [
    "Теперь разберемся с расстоянием до метро. "
   ]
  },
  {
   "cell_type": "code",
   "execution_count": 31,
   "metadata": {},
   "outputs": [
    {
     "data": {
      "text/plain": [
       "0     None\n",
       "1    481 м\n",
       "2    709 м\n",
       "3    276 м\n",
       "4     None\n",
       "Name: distance, dtype: object"
      ]
     },
     "execution_count": 31,
     "metadata": {},
     "output_type": "execute_result"
    }
   ],
   "source": [
    "df[\"distance\"]"
   ]
  },
  {
   "cell_type": "markdown",
   "metadata": {},
   "source": [
    "Где-то расстояния указаны в метрах, где-то в километрах. Давайте напишем функцию, которая определяет по строке единицы измерения и возвращает расстояния до метро в метрах:"
   ]
  },
  {
   "cell_type": "code",
   "execution_count": 32,
   "metadata": {},
   "outputs": [],
   "source": [
    "def get_dist(x):\n",
    "    try:\n",
    "        if \"км\" in x:\n",
    "            km = float(x.split()[0])\n",
    "            m = km * 1000\n",
    "        elif \"м\" in x:\n",
    "            m = int(x.split()[0])\n",
    "    except:\n",
    "        m = None\n",
    "    return m"
   ]
  },
  {
   "cell_type": "markdown",
   "metadata": {},
   "source": [
    "Применяем эту функцию к столбцу `distance` и создаем новый столбец `distance_m`:"
   ]
  },
  {
   "cell_type": "code",
   "execution_count": 33,
   "metadata": {},
   "outputs": [
    {
     "data": {
      "text/html": [
       "<div>\n",
       "<style scoped>\n",
       "    .dataframe tbody tr th:only-of-type {\n",
       "        vertical-align: middle;\n",
       "    }\n",
       "\n",
       "    .dataframe tbody tr th {\n",
       "        vertical-align: top;\n",
       "    }\n",
       "\n",
       "    .dataframe thead th {\n",
       "        text-align: right;\n",
       "    }\n",
       "</style>\n",
       "<table border=\"1\" class=\"dataframe\">\n",
       "  <thead>\n",
       "    <tr style=\"text-align: right;\">\n",
       "      <th></th>\n",
       "      <th>link</th>\n",
       "      <th>name</th>\n",
       "      <th>phone</th>\n",
       "      <th>buy</th>\n",
       "      <th>sell</th>\n",
       "      <th>metro</th>\n",
       "      <th>distance</th>\n",
       "      <th>distance_m</th>\n",
       "    </tr>\n",
       "  </thead>\n",
       "  <tbody>\n",
       "    <tr>\n",
       "      <th>0</th>\n",
       "      <td>https://cash.rbc.ru/cash/bank/103237.html</td>\n",
       "      <td>КБ ЮНИСТРИМ ОО № 154 Садовод</td>\n",
       "      <td>+7 989 048-11-35</td>\n",
       "      <td>82.90</td>\n",
       "      <td>81.75</td>\n",
       "      <td>None</td>\n",
       "      <td>None</td>\n",
       "      <td>NaN</td>\n",
       "    </tr>\n",
       "    <tr>\n",
       "      <th>1</th>\n",
       "      <td>https://cash.rbc.ru/cash/bank/103134.html</td>\n",
       "      <td>Сбербанк ДО № 9038/01698</td>\n",
       "      <td>+7 800 555-55-50</td>\n",
       "      <td>83.45</td>\n",
       "      <td>78.79</td>\n",
       "      <td>Южная</td>\n",
       "      <td>481 м</td>\n",
       "      <td>481.0</td>\n",
       "    </tr>\n",
       "    <tr>\n",
       "      <th>2</th>\n",
       "      <td>https://cash.rbc.ru/cash/bank/102664.html</td>\n",
       "      <td>Банк БКФ ДО На Проспекте Мира</td>\n",
       "      <td>+7 915 110-05-40</td>\n",
       "      <td>83.50</td>\n",
       "      <td>81.00</td>\n",
       "      <td>Алексеевская</td>\n",
       "      <td>709 м</td>\n",
       "      <td>709.0</td>\n",
       "    </tr>\n",
       "    <tr>\n",
       "      <th>3</th>\n",
       "      <td>https://cash.rbc.ru/cash/bank/102665.html</td>\n",
       "      <td>Банк БКФ ДО На Сущевском Валу</td>\n",
       "      <td>+7 915 022-53-67</td>\n",
       "      <td>83.50</td>\n",
       "      <td>81.00</td>\n",
       "      <td>Марьина Роща</td>\n",
       "      <td>276 м</td>\n",
       "      <td>276.0</td>\n",
       "    </tr>\n",
       "    <tr>\n",
       "      <th>4</th>\n",
       "      <td>https://cash.rbc.ru/cash/bank/103295.html</td>\n",
       "      <td>КБ Солидарность ДО Жуковский</td>\n",
       "      <td>+7 495 663-35-77 доб. 5399</td>\n",
       "      <td>85.00</td>\n",
       "      <td>80.50</td>\n",
       "      <td>None</td>\n",
       "      <td>None</td>\n",
       "      <td>NaN</td>\n",
       "    </tr>\n",
       "  </tbody>\n",
       "</table>\n",
       "</div>"
      ],
      "text/plain": [
       "                                        link                           name  \\\n",
       "0  https://cash.rbc.ru/cash/bank/103237.html   КБ ЮНИСТРИМ ОО № 154 Садовод   \n",
       "1  https://cash.rbc.ru/cash/bank/103134.html       Сбербанк ДО № 9038/01698   \n",
       "2  https://cash.rbc.ru/cash/bank/102664.html  Банк БКФ ДО На Проспекте Мира   \n",
       "3  https://cash.rbc.ru/cash/bank/102665.html  Банк БКФ ДО На Сущевском Валу   \n",
       "4  https://cash.rbc.ru/cash/bank/103295.html   КБ Солидарность ДО Жуковский   \n",
       "\n",
       "                        phone    buy   sell         metro distance  distance_m  \n",
       "0            +7 989 048-11-35  82.90  81.75          None     None         NaN  \n",
       "1            +7 800 555-55-50  83.45  78.79         Южная    481 м       481.0  \n",
       "2            +7 915 110-05-40  83.50  81.00  Алексеевская    709 м       709.0  \n",
       "3            +7 915 022-53-67  83.50  81.00  Марьина Роща    276 м       276.0  \n",
       "4  +7 495 663-35-77 доб. 5399  85.00  80.50          None     None         NaN  "
      ]
     },
     "execution_count": 33,
     "metadata": {},
     "output_type": "execute_result"
    }
   ],
   "source": [
    "df[\"distance_m\"] = df[\"distance\"].apply(get_dist)\n",
    "df"
   ]
  },
  {
   "cell_type": "markdown",
   "metadata": {},
   "source": [
    "Уберем старый столбец с расстоянием в текстовом виде. Удалим его с помощью метода `.drop()` и добавим внутри аргумент `inplace=True`, чтобы изменения сохранились в самом датафрейме."
   ]
  },
  {
   "cell_type": "code",
   "execution_count": 34,
   "metadata": {},
   "outputs": [],
   "source": [
    "# inplace = True, чтобы не писать\n",
    "# df = df.drop(columns = [\"distance\"])\n",
    "\n",
    "df.drop(columns = [\"distance\"], inplace = True)"
   ]
  },
  {
   "cell_type": "code",
   "execution_count": 35,
   "metadata": {},
   "outputs": [
    {
     "data": {
      "text/html": [
       "<div>\n",
       "<style scoped>\n",
       "    .dataframe tbody tr th:only-of-type {\n",
       "        vertical-align: middle;\n",
       "    }\n",
       "\n",
       "    .dataframe tbody tr th {\n",
       "        vertical-align: top;\n",
       "    }\n",
       "\n",
       "    .dataframe thead th {\n",
       "        text-align: right;\n",
       "    }\n",
       "</style>\n",
       "<table border=\"1\" class=\"dataframe\">\n",
       "  <thead>\n",
       "    <tr style=\"text-align: right;\">\n",
       "      <th></th>\n",
       "      <th>link</th>\n",
       "      <th>name</th>\n",
       "      <th>phone</th>\n",
       "      <th>buy</th>\n",
       "      <th>sell</th>\n",
       "      <th>metro</th>\n",
       "      <th>distance_m</th>\n",
       "    </tr>\n",
       "  </thead>\n",
       "  <tbody>\n",
       "    <tr>\n",
       "      <th>0</th>\n",
       "      <td>https://cash.rbc.ru/cash/bank/103237.html</td>\n",
       "      <td>КБ ЮНИСТРИМ ОО № 154 Садовод</td>\n",
       "      <td>+7 989 048-11-35</td>\n",
       "      <td>82.90</td>\n",
       "      <td>81.75</td>\n",
       "      <td>None</td>\n",
       "      <td>NaN</td>\n",
       "    </tr>\n",
       "    <tr>\n",
       "      <th>1</th>\n",
       "      <td>https://cash.rbc.ru/cash/bank/103134.html</td>\n",
       "      <td>Сбербанк ДО № 9038/01698</td>\n",
       "      <td>+7 800 555-55-50</td>\n",
       "      <td>83.45</td>\n",
       "      <td>78.79</td>\n",
       "      <td>Южная</td>\n",
       "      <td>481.0</td>\n",
       "    </tr>\n",
       "    <tr>\n",
       "      <th>2</th>\n",
       "      <td>https://cash.rbc.ru/cash/bank/102664.html</td>\n",
       "      <td>Банк БКФ ДО На Проспекте Мира</td>\n",
       "      <td>+7 915 110-05-40</td>\n",
       "      <td>83.50</td>\n",
       "      <td>81.00</td>\n",
       "      <td>Алексеевская</td>\n",
       "      <td>709.0</td>\n",
       "    </tr>\n",
       "    <tr>\n",
       "      <th>3</th>\n",
       "      <td>https://cash.rbc.ru/cash/bank/102665.html</td>\n",
       "      <td>Банк БКФ ДО На Сущевском Валу</td>\n",
       "      <td>+7 915 022-53-67</td>\n",
       "      <td>83.50</td>\n",
       "      <td>81.00</td>\n",
       "      <td>Марьина Роща</td>\n",
       "      <td>276.0</td>\n",
       "    </tr>\n",
       "    <tr>\n",
       "      <th>4</th>\n",
       "      <td>https://cash.rbc.ru/cash/bank/103295.html</td>\n",
       "      <td>КБ Солидарность ДО Жуковский</td>\n",
       "      <td>+7 495 663-35-77 доб. 5399</td>\n",
       "      <td>85.00</td>\n",
       "      <td>80.50</td>\n",
       "      <td>None</td>\n",
       "      <td>NaN</td>\n",
       "    </tr>\n",
       "  </tbody>\n",
       "</table>\n",
       "</div>"
      ],
      "text/plain": [
       "                                        link                           name  \\\n",
       "0  https://cash.rbc.ru/cash/bank/103237.html   КБ ЮНИСТРИМ ОО № 154 Садовод   \n",
       "1  https://cash.rbc.ru/cash/bank/103134.html       Сбербанк ДО № 9038/01698   \n",
       "2  https://cash.rbc.ru/cash/bank/102664.html  Банк БКФ ДО На Проспекте Мира   \n",
       "3  https://cash.rbc.ru/cash/bank/102665.html  Банк БКФ ДО На Сущевском Валу   \n",
       "4  https://cash.rbc.ru/cash/bank/103295.html   КБ Солидарность ДО Жуковский   \n",
       "\n",
       "                        phone    buy   sell         metro  distance_m  \n",
       "0            +7 989 048-11-35  82.90  81.75          None         NaN  \n",
       "1            +7 800 555-55-50  83.45  78.79         Южная       481.0  \n",
       "2            +7 915 110-05-40  83.50  81.00  Алексеевская       709.0  \n",
       "3            +7 915 022-53-67  83.50  81.00  Марьина Роща       276.0  \n",
       "4  +7 495 663-35-77 доб. 5399  85.00  80.50          None         NaN  "
      ]
     },
     "execution_count": 35,
     "metadata": {},
     "output_type": "execute_result"
    }
   ],
   "source": [
    "df"
   ]
  }
 ],
 "metadata": {
  "kernelspec": {
   "display_name": "Python 3",
   "language": "python",
   "name": "python3"
  },
  "language_info": {
   "codemirror_mode": {
    "name": "ipython",
    "version": 3
   },
   "file_extension": ".py",
   "mimetype": "text/x-python",
   "name": "python",
   "nbconvert_exporter": "python",
   "pygments_lexer": "ipython3",
   "version": "3.7.4"
  }
 },
 "nbformat": 4,
 "nbformat_minor": 2
}
