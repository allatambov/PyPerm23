{
 "cells": [
  {
   "cell_type": "markdown",
   "metadata": {},
   "source": [
    "# Программирование на Python\n",
    "\n",
    "*Алла Тамбовцева, НИУ ВШЭ*\n",
    "\n",
    "## Работа с API ВКонтакте: собираем посты со стены, комментарии к постам и информацию пользователях"
   ]
  },
  {
   "cell_type": "markdown",
   "metadata": {},
   "source": [
    "## Подготовка к работе"
   ]
  },
  {
   "cell_type": "markdown",
   "metadata": {},
   "source": [
    "Загружаем модули и библиотеки, необходимые для работы:"
   ]
  },
  {
   "cell_type": "code",
   "execution_count": 1,
   "metadata": {},
   "outputs": [],
   "source": [
    "import requests\n",
    "import time\n",
    "import pandas as pd"
   ]
  },
  {
   "cell_type": "markdown",
   "metadata": {},
   "source": [
    "Для начала давайте посмотрим на документацию API и посмотрим, как к нему формировать запросы: https://dev.vk.com/api/api-requests.\n",
    "По [инструкции](https://allatambov.github.io/pypolit/vk-auth.pdf) мы можем получить доступ к API, создадим приложение и скопируем его ID, чтобы получить ссылку для токена доступа:"
   ]
  },
  {
   "cell_type": "code",
   "execution_count": null,
   "metadata": {},
   "outputs": [],
   "source": [
    "# если нет Управление в меню во ВКонтакте\n",
    "# https://vk.com/apps?act=manage"
   ]
  },
  {
   "cell_type": "code",
   "execution_count": 2,
   "metadata": {},
   "outputs": [
    {
     "name": "stdout",
     "output_type": "stream",
     "text": [
      "Enter your client id: 51660535\n",
      "https://oauth.vk.com/authorize?client_id=51660535&display=page&redirect_uri=http://oauth.vk.com/blank.html&scope=all&response_type=token\n"
     ]
    }
   ],
   "source": [
    "app_id = input(\"Enter your client id: \")\n",
    "url = f\"https://oauth.vk.com/authorize?client_id={app_id}&display=page&redirect_uri=http://oauth.vk.com/blank.html&scope=all&response_type=token\"\n",
    "print(url)"
   ]
  },
  {
   "cell_type": "markdown",
   "metadata": {},
   "source": [
    "Переходим по ссылке выше и копируем ссылку (полностью!) из адресной строки:"
   ]
  },
  {
   "cell_type": "code",
   "execution_count": 3,
   "metadata": {},
   "outputs": [
    {
     "name": "stdout",
     "output_type": "stream",
     "text": [
      "https://oauth.vk.com/blank.html#access_token=vk1.a.VxWyW8j8CWtqnINPP_4WFE6ajy-R3KDRLKW7lGCT0zGUecCz_JhO8ZRpIeP-lLZYdGMU8V70ugHh4CSaAmTlc5Pb53uH9YGaGMBqog9bPXDlD-O3CdKEs_J8zqTotSMmQHMOsr3DOMwkKY7L6TVG8y6Zg60QxDtB0tWkDnWGu7K27yzcxEQ4o5DUZXwTqE6E&expires_in=86400&user_id=20473269\n"
     ]
    }
   ],
   "source": [
    "full_link = input()"
   ]
  },
  {
   "cell_type": "markdown",
   "metadata": {},
   "source": [
    "Разбиваем полученную ссылку (сначала по `access_token=`, потом часть после `=` по `&`) и забираем токен в чистом виде:"
   ]
  },
  {
   "cell_type": "code",
   "execution_count": 4,
   "metadata": {},
   "outputs": [],
   "source": [
    "token = full_link.split(\"access_token=\")[1].split(\"&\")[0]"
   ]
  },
  {
   "cell_type": "markdown",
   "metadata": {},
   "source": [
    "Ура! Теперь токен доступа у нас есть, всё готово к работе!"
   ]
  },
  {
   "cell_type": "markdown",
   "metadata": {},
   "source": [
    "## Часть 1: выгружаем посты со стены сообщества"
   ]
  },
  {
   "cell_type": "markdown",
   "metadata": {},
   "source": [
    "На этом практическом занятии мы будем выгружать посты из сообщества [скалодрома Rock Zona](https://vk.com/rzclimbing). Сохраним в переменные версию API, ссылку для метода работы со стеной сообщества и название сообщества:"
   ]
  },
  {
   "cell_type": "code",
   "execution_count": 6,
   "metadata": {},
   "outputs": [],
   "source": [
    "v = \"5.131\"\n",
    "main_wall = \"https://api.vk.com/method/wall.get\"\n",
    "domain = \"rzclimbing\""
   ]
  },
  {
   "cell_type": "markdown",
   "metadata": {},
   "source": [
    "Функция `get()` из библиотеки `requests` умеет подставлять в запрос необходимые параметры и объединять их с помощью `?` и `&`. Сохраним необходимые параметры в виде словаря:"
   ]
  },
  {
   "cell_type": "code",
   "execution_count": 7,
   "metadata": {},
   "outputs": [],
   "source": [
    "params_wall = {\"access_token\" : token, \n",
    "              \"domain\" : domain, \n",
    "              \"count\" : 100,\n",
    "              \"v\" : v}"
   ]
  },
  {
   "cell_type": "markdown",
   "metadata": {},
   "source": [
    "А теперь сформируем запрос и выгрузим результаты в формате JSON – в Python данные в таком формате будут представлены в виде словаря:"
   ]
  },
  {
   "cell_type": "code",
   "execution_count": 8,
   "metadata": {},
   "outputs": [],
   "source": [
    "req_wall = requests.get(main_wall, params = params_wall)"
   ]
  },
  {
   "cell_type": "code",
   "execution_count": 9,
   "metadata": {},
   "outputs": [
    {
     "data": {
      "text/plain": [
       "'https://api.vk.com/method/wall.get?access_token=vk1.a.VxWyW8j8CWtqnINPP_4WFE6ajy-R3KDRLKW7lGCT0zGUecCz_JhO8ZRpIeP-lLZYdGMU8V70ugHh4CSaAmTlc5Pb53uH9YGaGMBqog9bPXDlD-O3CdKEs_J8zqTotSMmQHMOsr3DOMwkKY7L6TVG8y6Zg60QxDtB0tWkDnWGu7K27yzcxEQ4o5DUZXwTqE6E&domain=rzclimbing&count=100&v=5.131'"
      ]
     },
     "execution_count": 9,
     "metadata": {},
     "output_type": "execute_result"
    }
   ],
   "source": [
    "req_wall.url"
   ]
  },
  {
   "cell_type": "code",
   "execution_count": 11,
   "metadata": {},
   "outputs": [],
   "source": [
    "json_wall = req_wall.json()\n",
    "#json_wall"
   ]
  },
  {
   "cell_type": "markdown",
   "metadata": {},
   "source": [
    "Извлечём из этого большого словаря элемент, который отвечает за общее число постов на стене:"
   ]
  },
  {
   "cell_type": "code",
   "execution_count": 12,
   "metadata": {},
   "outputs": [
    {
     "name": "stdout",
     "output_type": "stream",
     "text": [
      "1554\n"
     ]
    }
   ],
   "source": [
    "nposts = json_wall['response']['count']\n",
    "print(nposts)"
   ]
  },
  {
   "cell_type": "markdown",
   "metadata": {},
   "source": [
    "Теперь извлечём элемент, который хранит результаты – список из маленьких словарей с информацией о постах (1 словарь = 1 пост):"
   ]
  },
  {
   "cell_type": "code",
   "execution_count": 13,
   "metadata": {},
   "outputs": [],
   "source": [
    "items_wall = json_wall['response']['items']"
   ]
  },
  {
   "cell_type": "markdown",
   "metadata": {},
   "source": [
    "Посмотрим на один элемент такого списка:"
   ]
  },
  {
   "cell_type": "code",
   "execution_count": 17,
   "metadata": {},
   "outputs": [
    {
     "data": {
      "text/plain": [
       "{'donut': {'is_donut': False},\n",
       " 'comments': {'can_post': 1, 'count': 0, 'groups_can_post': True},\n",
       " 'marked_as_ads': 0,\n",
       " 'short_text_rate': 0.8,\n",
       " 'hash': 'okWpDo78zzuXtmHxzyydcT6796w',\n",
       " 'type': 'post',\n",
       " 'attachments': [{'type': 'photo',\n",
       "   'photo': {'album_id': -7,\n",
       "    'date': 1686318631,\n",
       "    'id': 457244264,\n",
       "    'owner_id': -38936316,\n",
       "    'access_key': '4379369f1eb513e5f4',\n",
       "    'post_id': 4072,\n",
       "    'sizes': [{'height': 75,\n",
       "      'type': 's',\n",
       "      'width': 75,\n",
       "      'url': 'https://sun1-15.userapi.com/impg/84ogn5IDQUeJ2JJu7ER_Qjok3EWxUu-A_u31NQ/WKOmoYEuAKY.jpg?size=75x75&quality=95&sign=09e33bbbe73a1852faddb27c80984ac4&c_uniq_tag=--RJjmNzfnTjnSSrpX09UtZvxeToNDLKQuSxqp7EY9k&type=album'},\n",
       "     {'height': 130,\n",
       "      'type': 'm',\n",
       "      'width': 130,\n",
       "      'url': 'https://sun1-15.userapi.com/impg/84ogn5IDQUeJ2JJu7ER_Qjok3EWxUu-A_u31NQ/WKOmoYEuAKY.jpg?size=130x130&quality=95&sign=8fc44fa74edb38a4d291510735704ff2&c_uniq_tag=TDFPA9vlW24O1k-gKUkPfr1UMzkFO0r7EKbK7gX7eVk&type=album'},\n",
       "     {'height': 604,\n",
       "      'type': 'x',\n",
       "      'width': 604,\n",
       "      'url': 'https://sun1-15.userapi.com/impg/84ogn5IDQUeJ2JJu7ER_Qjok3EWxUu-A_u31NQ/WKOmoYEuAKY.jpg?size=604x604&quality=95&sign=8bb5d957ae07437dc07ab597eb5a0027&c_uniq_tag=6qFnnXXfvXW0PjvGU9MnIfgApABvRRYuBHN3NHYOTU4&type=album'},\n",
       "     {'height': 807,\n",
       "      'type': 'y',\n",
       "      'width': 807,\n",
       "      'url': 'https://sun1-15.userapi.com/impg/84ogn5IDQUeJ2JJu7ER_Qjok3EWxUu-A_u31NQ/WKOmoYEuAKY.jpg?size=807x807&quality=95&sign=32ae8b286bdd81645420bdfe6b3b50b1&c_uniq_tag=ZRtPlaCYzEjHROCClT6ww8ngT-xbrD3MInS17911mlE&type=album'},\n",
       "     {'height': 1080,\n",
       "      'type': 'z',\n",
       "      'width': 1080,\n",
       "      'url': 'https://sun1-15.userapi.com/impg/84ogn5IDQUeJ2JJu7ER_Qjok3EWxUu-A_u31NQ/WKOmoYEuAKY.jpg?size=1080x1080&quality=95&sign=e047680bf0adbf160ee5099f9ad8933f&c_uniq_tag=nhsyvCtE93wmGOCPjbTw5j2Mawz6VBiN2CVagf36NnE&type=album'},\n",
       "     {'height': 130,\n",
       "      'type': 'o',\n",
       "      'width': 130,\n",
       "      'url': 'https://sun1-15.userapi.com/impg/84ogn5IDQUeJ2JJu7ER_Qjok3EWxUu-A_u31NQ/WKOmoYEuAKY.jpg?size=130x130&quality=95&sign=8fc44fa74edb38a4d291510735704ff2&c_uniq_tag=TDFPA9vlW24O1k-gKUkPfr1UMzkFO0r7EKbK7gX7eVk&type=album'},\n",
       "     {'height': 200,\n",
       "      'type': 'p',\n",
       "      'width': 200,\n",
       "      'url': 'https://sun1-15.userapi.com/impg/84ogn5IDQUeJ2JJu7ER_Qjok3EWxUu-A_u31NQ/WKOmoYEuAKY.jpg?size=200x200&quality=95&sign=2cb0884283e3a2595bb84b4efaf01840&c_uniq_tag=J6Iaxhmk_BRb5CPHgHtG64ZYtB6sNs74Cj2Tu5NEdBw&type=album'},\n",
       "     {'height': 320,\n",
       "      'type': 'q',\n",
       "      'width': 320,\n",
       "      'url': 'https://sun1-15.userapi.com/impg/84ogn5IDQUeJ2JJu7ER_Qjok3EWxUu-A_u31NQ/WKOmoYEuAKY.jpg?size=320x320&quality=95&sign=c860556808a3d9679fb8cea62a825380&c_uniq_tag=c1-xyK7f6QyfNjmYd8BcdQlFUmhOTyHaEdglvbclHXA&type=album'},\n",
       "     {'height': 510,\n",
       "      'type': 'r',\n",
       "      'width': 510,\n",
       "      'url': 'https://sun1-15.userapi.com/impg/84ogn5IDQUeJ2JJu7ER_Qjok3EWxUu-A_u31NQ/WKOmoYEuAKY.jpg?size=510x510&quality=95&sign=71ef73c4ea246617b66583bf9adb77c5&c_uniq_tag=ceqtnh0U2DhHbNH4J_sejCEg7Ga0IH5Iu5AMDyfpTsE&type=album'}],\n",
       "    'text': '',\n",
       "    'user_id': 100,\n",
       "    'has_tags': False}}],\n",
       " 'date': 1686318631,\n",
       " 'edited': 1686318792,\n",
       " 'from_id': -38936316,\n",
       " 'id': 4072,\n",
       " 'is_favorite': False,\n",
       " 'likes': {'can_like': 1,\n",
       "  'count': 8,\n",
       "  'user_likes': 0,\n",
       "  'can_publish': 1,\n",
       "  'repost_disabled': False},\n",
       " 'owner_id': -38936316,\n",
       " 'post_source': {'type': 'mvk'},\n",
       " 'post_type': 'post',\n",
       " 'reposts': {'count': 0, 'user_reposted': 0},\n",
       " 'text': '❓ Как подготовиться к выезду на скалы\\n\\n🔹  Перед тем, как ехать на скалы, начните посещать скалодром более регулярно. Уделяйте как можно больше внимания технике постановки ног, особенно на маленькие зацепки.  \\n\\n🔹 Изучите гайдбук района, в который вы поедете. Составьте примерный план, выберите трассы для проектов. Ознакомьтесь с подходами к трассам, правилами и ограничениями района и составьте список необходимого снаряжения.  \\n\\n🔹 Научитесь работать с веревкой или освежите свои знания. Возьмите пару занятий с профессиональным инструктором, чтобы убедиться, что вы умеете правильно вязать узлы, страховать, провешивать и снимать трассы. \\n\\n🔸 Очень внимательно выбирайте напарника. Это должен быть надежный человек, с которым вам приятно общаться и в квалификации которого вы уверены.  \\n\\n🔸Убедитесь в том, что вы имеете все необходимое снаряжение, длина веревки соответствует длине трасс, у вас достаточно оттяжек. Убедитесь, что ваше снаряжение в хорошем состоянии и у него не вышел срок службы. \\n\\n🔸Не оставляйте следов. Возьмите с собой пакеты для мусора, щеточки, чтобы чистить зацепки от магнезии. Бережно относитесь к природе и скалам.',\n",
       " 'views': {'count': 194}}"
      ]
     },
     "execution_count": 17,
     "metadata": {},
     "output_type": "execute_result"
    }
   ],
   "source": [
    "i = items_wall[2]\n",
    "i"
   ]
  },
  {
   "cell_type": "markdown",
   "metadata": {},
   "source": [
    "### Задача 1\n",
    "\n",
    "Извлеките из элемента `i` следующие компоненты:\n",
    "\n",
    "* id поста;\n",
    "* дата поста;\n",
    "* текст поста;\n",
    "* число лайков;\n",
    "* число репостов;\n",
    "* число просмотров;\n",
    "* число комментариев."
   ]
  },
  {
   "cell_type": "code",
   "execution_count": 18,
   "metadata": {},
   "outputs": [
    {
     "name": "stdout",
     "output_type": "stream",
     "text": [
      "4072 1686318631 ❓ Как подготовиться к выезду на скалы\n",
      "\n",
      "🔹  Перед тем, как ехать на скалы, начните посещать скалодром более регулярно. Уделяйте как можно больше внимания технике постановки ног, особенно на маленькие зацепки.  \n",
      "\n",
      "🔹 Изучите гайдбук района, в который вы поедете. Составьте примерный план, выберите трассы для проектов. Ознакомьтесь с подходами к трассам, правилами и ограничениями района и составьте список необходимого снаряжения.  \n",
      "\n",
      "🔹 Научитесь работать с веревкой или освежите свои знания. Возьмите пару занятий с профессиональным инструктором, чтобы убедиться, что вы умеете правильно вязать узлы, страховать, провешивать и снимать трассы. \n",
      "\n",
      "🔸 Очень внимательно выбирайте напарника. Это должен быть надежный человек, с которым вам приятно общаться и в квалификации которого вы уверены.  \n",
      "\n",
      "🔸Убедитесь в том, что вы имеете все необходимое снаряжение, длина веревки соответствует длине трасс, у вас достаточно оттяжек. Убедитесь, что ваше снаряжение в хорошем состоянии и у него не вышел срок службы. \n",
      "\n",
      "🔸Не оставляйте следов. Возьмите с собой пакеты для мусора, щеточки, чтобы чистить зацепки от магнезии. Бережно относитесь к природе и скалам.\n",
      "8 0 194 0\n"
     ]
    }
   ],
   "source": [
    "### YOUR CODE HERE ###\n",
    "print(i[\"id\"], i[\"date\"], i[\"text\"])\n",
    "print(i[\"likes\"][\"count\"], i[\"reposts\"][\"count\"], \n",
    "     i[\"views\"][\"count\"], i[\"comments\"][\"count\"])"
   ]
  },
  {
   "cell_type": "markdown",
   "metadata": {},
   "source": [
    "### Задача 2\n",
    "\n",
    "Изучить один пост и понять, что нам от него нужно, это хорошо, но, конечно, мы захотим выгрузить все посты сразу, а уже потом разобраться, какую информацию о них нам оставить. Ограничения данного API таковы, что за один раз мы можем выгрузить только 100 постов. Хорошие новости: каждый раз при выгрузке мы можем начинать с того поста, на котором закончили, то есть сначала выгрузить первые 100 постов, потом – следующие 100 постов, и так до тех пор, пока не заполучим все. \n",
    "\n",
    "Общее число постов сохранено в `nposts`. Посчитайте, сколько раз нужно будет выполнить выгрузку по 100 постов, чтобы собрать все тексты, и сохраните его в переменную `iterate`."
   ]
  },
  {
   "cell_type": "code",
   "execution_count": 19,
   "metadata": {},
   "outputs": [],
   "source": [
    "iterate = nposts // 100 + 1  # целочисленное деление + 1 "
   ]
  },
  {
   "cell_type": "markdown",
   "metadata": {},
   "source": [
    "### Задача 3\n",
    "\n",
    "Прочитайте в документации к API ВКонтакте про аргумент `offset` в методе `wall.get`. Используя полученную информацию и блоки кода ниже, выгрузите и сохраните в список `items_all` данные по всем постам на стене сообщества.\n",
    "\n",
    "**Подсказка:** чтобы расширять список правильным образом, используйте метод `.extend()`, а не `.append()`, он добавляет не один элемент, а сразу несколько."
   ]
  },
  {
   "cell_type": "code",
   "execution_count": 20,
   "metadata": {},
   "outputs": [],
   "source": [
    "params_wall_long = {\"access_token\" : token, \n",
    "              \"domain\" : domain, \n",
    "              \"count\" : 100,\n",
    "              \"v\" : v,\n",
    "              \"offset\" : 0}"
   ]
  },
  {
   "cell_type": "code",
   "execution_count": 21,
   "metadata": {},
   "outputs": [
    {
     "name": "stdout",
     "output_type": "stream",
     "text": [
      "0\n",
      "1\n",
      "2\n",
      "3\n",
      "4\n",
      "5\n",
      "6\n",
      "7\n",
      "8\n",
      "9\n",
      "10\n",
      "11\n",
      "12\n",
      "13\n",
      "14\n",
      "15\n"
     ]
    }
   ],
   "source": [
    "items_all = []\n",
    "\n",
    "for i in range(iterate):\n",
    "    req_wall_long = requests.get(main_wall, params = params_wall_long)\n",
    "    json_wall_long = req_wall_long.json()\n",
    "    items_wall_long = json_wall_long['response']['items']\n",
    "    \n",
    "    # обновляем список items_all\n",
    "    # обновляем парметр offset - увеличиваем на 100\n",
    "    items_all.extend(items_wall_long)\n",
    "    params_wall_long[\"offset\"] = params_wall_long[\"offset\"] + 100\n",
    "    \n",
    "    \n",
    "    time.sleep(1.5)\n",
    "    print(i)"
   ]
  },
  {
   "cell_type": "markdown",
   "metadata": {},
   "source": [
    "Проверяем длину списка – все ли посты собраны:"
   ]
  },
  {
   "cell_type": "code",
   "execution_count": 22,
   "metadata": {},
   "outputs": [
    {
     "data": {
      "text/plain": [
       "1554"
      ]
     },
     "execution_count": 22,
     "metadata": {},
     "output_type": "execute_result"
    }
   ],
   "source": [
    "len(items_all)"
   ]
  },
  {
   "cell_type": "markdown",
   "metadata": {},
   "source": [
    "Не отбираем ничего на этом этапе, просто превращаем список словарей в датафрейм:"
   ]
  },
  {
   "cell_type": "code",
   "execution_count": 23,
   "metadata": {},
   "outputs": [
    {
     "data": {
      "text/html": [
       "<div>\n",
       "<style scoped>\n",
       "    .dataframe tbody tr th:only-of-type {\n",
       "        vertical-align: middle;\n",
       "    }\n",
       "\n",
       "    .dataframe tbody tr th {\n",
       "        vertical-align: top;\n",
       "    }\n",
       "\n",
       "    .dataframe thead th {\n",
       "        text-align: right;\n",
       "    }\n",
       "</style>\n",
       "<table border=\"1\" class=\"dataframe\">\n",
       "  <thead>\n",
       "    <tr style=\"text-align: right;\">\n",
       "      <th></th>\n",
       "      <th>donut</th>\n",
       "      <th>comments</th>\n",
       "      <th>marked_as_ads</th>\n",
       "      <th>short_text_rate</th>\n",
       "      <th>hash</th>\n",
       "      <th>type</th>\n",
       "      <th>attachments</th>\n",
       "      <th>date</th>\n",
       "      <th>from_id</th>\n",
       "      <th>id</th>\n",
       "      <th>...</th>\n",
       "      <th>post_type</th>\n",
       "      <th>reposts</th>\n",
       "      <th>text</th>\n",
       "      <th>views</th>\n",
       "      <th>carousel_offset</th>\n",
       "      <th>edited</th>\n",
       "      <th>copy_history</th>\n",
       "      <th>geo</th>\n",
       "      <th>signer_id</th>\n",
       "      <th>zoom_text</th>\n",
       "    </tr>\n",
       "  </thead>\n",
       "  <tbody>\n",
       "    <tr>\n",
       "      <th>0</th>\n",
       "      <td>{'is_donut': False}</td>\n",
       "      <td>{'can_post': 1, 'count': 0, 'groups_can_post':...</td>\n",
       "      <td>0</td>\n",
       "      <td>0.8</td>\n",
       "      <td>DFtdCebqVmBxDimFGnDqgVrCF4Y</td>\n",
       "      <td>post</td>\n",
       "      <td>[{'type': 'video', 'video': {'response_type': ...</td>\n",
       "      <td>1686324040</td>\n",
       "      <td>-38936316</td>\n",
       "      <td>4076</td>\n",
       "      <td>...</td>\n",
       "      <td>post</td>\n",
       "      <td>{'count': 0, 'user_reposted': 0}</td>\n",
       "      <td></td>\n",
       "      <td>{'count': 312}</td>\n",
       "      <td>NaN</td>\n",
       "      <td>NaN</td>\n",
       "      <td>NaN</td>\n",
       "      <td>NaN</td>\n",
       "      <td>NaN</td>\n",
       "      <td>NaN</td>\n",
       "    </tr>\n",
       "    <tr>\n",
       "      <th>1</th>\n",
       "      <td>{'is_donut': False}</td>\n",
       "      <td>{'can_post': 1, 'count': 1, 'groups_can_post':...</td>\n",
       "      <td>0</td>\n",
       "      <td>0.8</td>\n",
       "      <td>E0Z_ygeZYfGEssLdBddXmBbEjU4</td>\n",
       "      <td>post</td>\n",
       "      <td>[{'type': 'photo', 'photo': {'album_id': -7, '...</td>\n",
       "      <td>1686319330</td>\n",
       "      <td>-38936316</td>\n",
       "      <td>4073</td>\n",
       "      <td>...</td>\n",
       "      <td>post</td>\n",
       "      <td>{'count': 0, 'user_reposted': 0}</td>\n",
       "      <td>Выберите правдивые утверждения о нашем тренере...</td>\n",
       "      <td>{'count': 196}</td>\n",
       "      <td>0.0</td>\n",
       "      <td>1.686319e+09</td>\n",
       "      <td>NaN</td>\n",
       "      <td>NaN</td>\n",
       "      <td>NaN</td>\n",
       "      <td>NaN</td>\n",
       "    </tr>\n",
       "    <tr>\n",
       "      <th>2</th>\n",
       "      <td>{'is_donut': False}</td>\n",
       "      <td>{'can_post': 1, 'count': 0, 'groups_can_post':...</td>\n",
       "      <td>0</td>\n",
       "      <td>0.8</td>\n",
       "      <td>okWpDo78zzuXtmHxzyydcT6796w</td>\n",
       "      <td>post</td>\n",
       "      <td>[{'type': 'photo', 'photo': {'album_id': -7, '...</td>\n",
       "      <td>1686318631</td>\n",
       "      <td>-38936316</td>\n",
       "      <td>4072</td>\n",
       "      <td>...</td>\n",
       "      <td>post</td>\n",
       "      <td>{'count': 0, 'user_reposted': 0}</td>\n",
       "      <td>❓ Как подготовиться к выезду на скалы\\n\\n🔹  Пе...</td>\n",
       "      <td>{'count': 194}</td>\n",
       "      <td>NaN</td>\n",
       "      <td>1.686319e+09</td>\n",
       "      <td>NaN</td>\n",
       "      <td>NaN</td>\n",
       "      <td>NaN</td>\n",
       "      <td>NaN</td>\n",
       "    </tr>\n",
       "    <tr>\n",
       "      <th>3</th>\n",
       "      <td>{'is_donut': False}</td>\n",
       "      <td>{'can_post': 1, 'count': 2, 'groups_can_post':...</td>\n",
       "      <td>0</td>\n",
       "      <td>0.8</td>\n",
       "      <td>flx3QwYVJJ9dz9pObZHEkp8EuHw</td>\n",
       "      <td>post</td>\n",
       "      <td>[{'type': 'video', 'video': {'response_type': ...</td>\n",
       "      <td>1686220008</td>\n",
       "      <td>-38936316</td>\n",
       "      <td>4071</td>\n",
       "      <td>...</td>\n",
       "      <td>post</td>\n",
       "      <td>{'count': 0, 'user_reposted': 0}</td>\n",
       "      <td></td>\n",
       "      <td>{'count': 736}</td>\n",
       "      <td>NaN</td>\n",
       "      <td>NaN</td>\n",
       "      <td>NaN</td>\n",
       "      <td>NaN</td>\n",
       "      <td>NaN</td>\n",
       "      <td>NaN</td>\n",
       "    </tr>\n",
       "    <tr>\n",
       "      <th>4</th>\n",
       "      <td>{'is_donut': False}</td>\n",
       "      <td>{'can_post': 1, 'count': 0, 'groups_can_post':...</td>\n",
       "      <td>0</td>\n",
       "      <td>0.8</td>\n",
       "      <td>UqUhWcx1m0asW5B4Jvsqzljc_lE</td>\n",
       "      <td>post</td>\n",
       "      <td>[{'type': 'photo', 'photo': {'album_id': -7, '...</td>\n",
       "      <td>1686161707</td>\n",
       "      <td>-38936316</td>\n",
       "      <td>4068</td>\n",
       "      <td>...</td>\n",
       "      <td>post</td>\n",
       "      <td>{'count': 6, 'user_reposted': 0}</td>\n",
       "      <td>Сегодня мы познакомимся с достаточно эффективн...</td>\n",
       "      <td>{'count': 614}</td>\n",
       "      <td>NaN</td>\n",
       "      <td>NaN</td>\n",
       "      <td>NaN</td>\n",
       "      <td>NaN</td>\n",
       "      <td>NaN</td>\n",
       "      <td>NaN</td>\n",
       "    </tr>\n",
       "    <tr>\n",
       "      <th>5</th>\n",
       "      <td>{'is_donut': False}</td>\n",
       "      <td>{'can_post': 1, 'count': 0, 'groups_can_post':...</td>\n",
       "      <td>0</td>\n",
       "      <td>0.8</td>\n",
       "      <td>ijlmziVBz7nBKkEAcW3R48clBrg</td>\n",
       "      <td>post</td>\n",
       "      <td>[{'type': 'photo', 'photo': {'album_id': -7, '...</td>\n",
       "      <td>1686071217</td>\n",
       "      <td>-38936316</td>\n",
       "      <td>4067</td>\n",
       "      <td>...</td>\n",
       "      <td>post</td>\n",
       "      <td>{'count': 1, 'user_reposted': 0}</td>\n",
       "      <td>Хорошему скалодрому - хорошие трассы! ☺️\\n\\n🔥 ...</td>\n",
       "      <td>{'count': 533}</td>\n",
       "      <td>0.0</td>\n",
       "      <td>NaN</td>\n",
       "      <td>NaN</td>\n",
       "      <td>NaN</td>\n",
       "      <td>NaN</td>\n",
       "      <td>NaN</td>\n",
       "    </tr>\n",
       "    <tr>\n",
       "      <th>6</th>\n",
       "      <td>{'is_donut': False}</td>\n",
       "      <td>{'can_post': 1, 'count': 0, 'groups_can_post':...</td>\n",
       "      <td>0</td>\n",
       "      <td>0.8</td>\n",
       "      <td>pK6YMrqutvwjGX21f-QkZ2_TSHg</td>\n",
       "      <td>post</td>\n",
       "      <td>[{'type': 'video', 'video': {'response_type': ...</td>\n",
       "      <td>1685975486</td>\n",
       "      <td>-38936316</td>\n",
       "      <td>4064</td>\n",
       "      <td>...</td>\n",
       "      <td>post</td>\n",
       "      <td>{'count': 1, 'user_reposted': 0}</td>\n",
       "      <td></td>\n",
       "      <td>{'count': 717}</td>\n",
       "      <td>NaN</td>\n",
       "      <td>NaN</td>\n",
       "      <td>NaN</td>\n",
       "      <td>NaN</td>\n",
       "      <td>NaN</td>\n",
       "      <td>NaN</td>\n",
       "    </tr>\n",
       "    <tr>\n",
       "      <th>7</th>\n",
       "      <td>{'is_donut': False}</td>\n",
       "      <td>{'can_post': 1, 'count': 0, 'groups_can_post':...</td>\n",
       "      <td>0</td>\n",
       "      <td>0.8</td>\n",
       "      <td>ho9aypUx2i9IzVpphQq44KqH420</td>\n",
       "      <td>post</td>\n",
       "      <td>[{'type': 'video', 'video': {'response_type': ...</td>\n",
       "      <td>1685902161</td>\n",
       "      <td>-38936316</td>\n",
       "      <td>4063</td>\n",
       "      <td>...</td>\n",
       "      <td>post</td>\n",
       "      <td>{'count': 0, 'user_reposted': 0}</td>\n",
       "      <td></td>\n",
       "      <td>{'count': 740}</td>\n",
       "      <td>NaN</td>\n",
       "      <td>NaN</td>\n",
       "      <td>NaN</td>\n",
       "      <td>NaN</td>\n",
       "      <td>NaN</td>\n",
       "      <td>NaN</td>\n",
       "    </tr>\n",
       "    <tr>\n",
       "      <th>8</th>\n",
       "      <td>{'is_donut': False}</td>\n",
       "      <td>{'can_post': 1, 'count': 4, 'groups_can_post':...</td>\n",
       "      <td>0</td>\n",
       "      <td>0.8</td>\n",
       "      <td>mWLIHJbUzrR_Lmf5FxjOTVlO0TQ</td>\n",
       "      <td>post</td>\n",
       "      <td>[{'type': 'photo', 'photo': {'album_id': -7, '...</td>\n",
       "      <td>1685624479</td>\n",
       "      <td>-38936316</td>\n",
       "      <td>4058</td>\n",
       "      <td>...</td>\n",
       "      <td>post</td>\n",
       "      <td>{'count': 11, 'user_reposted': 0}</td>\n",
       "      <td>Как возраст влияет на скалолазание.\\n\\n🔹Статис...</td>\n",
       "      <td>{'count': 2051}</td>\n",
       "      <td>NaN</td>\n",
       "      <td>NaN</td>\n",
       "      <td>NaN</td>\n",
       "      <td>NaN</td>\n",
       "      <td>NaN</td>\n",
       "      <td>NaN</td>\n",
       "    </tr>\n",
       "    <tr>\n",
       "      <th>9</th>\n",
       "      <td>{'is_donut': False}</td>\n",
       "      <td>{'can_post': 1, 'count': 0, 'groups_can_post':...</td>\n",
       "      <td>0</td>\n",
       "      <td>0.8</td>\n",
       "      <td>o9o6VAJ2X5lHwGXmDs01SnQzgEA</td>\n",
       "      <td>post</td>\n",
       "      <td>[{'type': 'video', 'video': {'response_type': ...</td>\n",
       "      <td>1685552013</td>\n",
       "      <td>-38936316</td>\n",
       "      <td>4055</td>\n",
       "      <td>...</td>\n",
       "      <td>post</td>\n",
       "      <td>{'count': 0, 'user_reposted': 0}</td>\n",
       "      <td></td>\n",
       "      <td>{'count': 636}</td>\n",
       "      <td>NaN</td>\n",
       "      <td>NaN</td>\n",
       "      <td>NaN</td>\n",
       "      <td>NaN</td>\n",
       "      <td>NaN</td>\n",
       "      <td>NaN</td>\n",
       "    </tr>\n",
       "  </tbody>\n",
       "</table>\n",
       "<p>10 rows × 24 columns</p>\n",
       "</div>"
      ],
      "text/plain": [
       "                 donut                                           comments  \\\n",
       "0  {'is_donut': False}  {'can_post': 1, 'count': 0, 'groups_can_post':...   \n",
       "1  {'is_donut': False}  {'can_post': 1, 'count': 1, 'groups_can_post':...   \n",
       "2  {'is_donut': False}  {'can_post': 1, 'count': 0, 'groups_can_post':...   \n",
       "3  {'is_donut': False}  {'can_post': 1, 'count': 2, 'groups_can_post':...   \n",
       "4  {'is_donut': False}  {'can_post': 1, 'count': 0, 'groups_can_post':...   \n",
       "5  {'is_donut': False}  {'can_post': 1, 'count': 0, 'groups_can_post':...   \n",
       "6  {'is_donut': False}  {'can_post': 1, 'count': 0, 'groups_can_post':...   \n",
       "7  {'is_donut': False}  {'can_post': 1, 'count': 0, 'groups_can_post':...   \n",
       "8  {'is_donut': False}  {'can_post': 1, 'count': 4, 'groups_can_post':...   \n",
       "9  {'is_donut': False}  {'can_post': 1, 'count': 0, 'groups_can_post':...   \n",
       "\n",
       "   marked_as_ads  short_text_rate                         hash  type  \\\n",
       "0              0              0.8  DFtdCebqVmBxDimFGnDqgVrCF4Y  post   \n",
       "1              0              0.8  E0Z_ygeZYfGEssLdBddXmBbEjU4  post   \n",
       "2              0              0.8  okWpDo78zzuXtmHxzyydcT6796w  post   \n",
       "3              0              0.8  flx3QwYVJJ9dz9pObZHEkp8EuHw  post   \n",
       "4              0              0.8  UqUhWcx1m0asW5B4Jvsqzljc_lE  post   \n",
       "5              0              0.8  ijlmziVBz7nBKkEAcW3R48clBrg  post   \n",
       "6              0              0.8  pK6YMrqutvwjGX21f-QkZ2_TSHg  post   \n",
       "7              0              0.8  ho9aypUx2i9IzVpphQq44KqH420  post   \n",
       "8              0              0.8  mWLIHJbUzrR_Lmf5FxjOTVlO0TQ  post   \n",
       "9              0              0.8  o9o6VAJ2X5lHwGXmDs01SnQzgEA  post   \n",
       "\n",
       "                                         attachments        date   from_id  \\\n",
       "0  [{'type': 'video', 'video': {'response_type': ...  1686324040 -38936316   \n",
       "1  [{'type': 'photo', 'photo': {'album_id': -7, '...  1686319330 -38936316   \n",
       "2  [{'type': 'photo', 'photo': {'album_id': -7, '...  1686318631 -38936316   \n",
       "3  [{'type': 'video', 'video': {'response_type': ...  1686220008 -38936316   \n",
       "4  [{'type': 'photo', 'photo': {'album_id': -7, '...  1686161707 -38936316   \n",
       "5  [{'type': 'photo', 'photo': {'album_id': -7, '...  1686071217 -38936316   \n",
       "6  [{'type': 'video', 'video': {'response_type': ...  1685975486 -38936316   \n",
       "7  [{'type': 'video', 'video': {'response_type': ...  1685902161 -38936316   \n",
       "8  [{'type': 'photo', 'photo': {'album_id': -7, '...  1685624479 -38936316   \n",
       "9  [{'type': 'video', 'video': {'response_type': ...  1685552013 -38936316   \n",
       "\n",
       "     id  ...  post_type                            reposts  \\\n",
       "0  4076  ...       post   {'count': 0, 'user_reposted': 0}   \n",
       "1  4073  ...       post   {'count': 0, 'user_reposted': 0}   \n",
       "2  4072  ...       post   {'count': 0, 'user_reposted': 0}   \n",
       "3  4071  ...       post   {'count': 0, 'user_reposted': 0}   \n",
       "4  4068  ...       post   {'count': 6, 'user_reposted': 0}   \n",
       "5  4067  ...       post   {'count': 1, 'user_reposted': 0}   \n",
       "6  4064  ...       post   {'count': 1, 'user_reposted': 0}   \n",
       "7  4063  ...       post   {'count': 0, 'user_reposted': 0}   \n",
       "8  4058  ...       post  {'count': 11, 'user_reposted': 0}   \n",
       "9  4055  ...       post   {'count': 0, 'user_reposted': 0}   \n",
       "\n",
       "                                                text            views  \\\n",
       "0                                                      {'count': 312}   \n",
       "1  Выберите правдивые утверждения о нашем тренере...   {'count': 196}   \n",
       "2  ❓ Как подготовиться к выезду на скалы\\n\\n🔹  Пе...   {'count': 194}   \n",
       "3                                                      {'count': 736}   \n",
       "4  Сегодня мы познакомимся с достаточно эффективн...   {'count': 614}   \n",
       "5  Хорошему скалодрому - хорошие трассы! ☺️\\n\\n🔥 ...   {'count': 533}   \n",
       "6                                                      {'count': 717}   \n",
       "7                                                      {'count': 740}   \n",
       "8  Как возраст влияет на скалолазание.\\n\\n🔹Статис...  {'count': 2051}   \n",
       "9                                                      {'count': 636}   \n",
       "\n",
       "  carousel_offset        edited copy_history  geo  signer_id  zoom_text  \n",
       "0             NaN           NaN          NaN  NaN        NaN        NaN  \n",
       "1             0.0  1.686319e+09          NaN  NaN        NaN        NaN  \n",
       "2             NaN  1.686319e+09          NaN  NaN        NaN        NaN  \n",
       "3             NaN           NaN          NaN  NaN        NaN        NaN  \n",
       "4             NaN           NaN          NaN  NaN        NaN        NaN  \n",
       "5             0.0           NaN          NaN  NaN        NaN        NaN  \n",
       "6             NaN           NaN          NaN  NaN        NaN        NaN  \n",
       "7             NaN           NaN          NaN  NaN        NaN        NaN  \n",
       "8             NaN           NaN          NaN  NaN        NaN        NaN  \n",
       "9             NaN           NaN          NaN  NaN        NaN        NaN  \n",
       "\n",
       "[10 rows x 24 columns]"
      ]
     },
     "execution_count": 23,
     "metadata": {},
     "output_type": "execute_result"
    }
   ],
   "source": [
    "df = pd.DataFrame(items_all)\n",
    "df.head(10)"
   ]
  },
  {
   "cell_type": "markdown",
   "metadata": {},
   "source": [
    "### Задача 4\n",
    "\n",
    "Создайте на основе датафрейма `df` новый датафрейм `small` со следующими столбцами:\n",
    "\n",
    "* id поста (`id`);\n",
    "* дата поста (`date`);\n",
    "* текст поста (`text`);\n",
    "* число лайков (`nlikes`);\n",
    "* число просмотров (`nviews`);\n",
    "* число комментариев (`ncomments`).\n",
    "\n",
    "**Подсказка:** отберите сначала все столбцы с нужной информацией, напишите функцию для извлечения только числа лайков/просмотров/комментариев и примените её, удалите лишние столбцы."
   ]
  },
  {
   "cell_type": "code",
   "execution_count": 24,
   "metadata": {},
   "outputs": [],
   "source": [
    "# выбираем нужные столбцы\n",
    "small = df[[\"id\", \"date\", \"text\", \"likes\", \"reposts\", \"comments\"]]"
   ]
  },
  {
   "cell_type": "code",
   "execution_count": 25,
   "metadata": {},
   "outputs": [
    {
     "data": {
      "text/plain": [
       "{'can_like': 1,\n",
       " 'count': 9,\n",
       " 'user_likes': 0,\n",
       " 'can_publish': 1,\n",
       " 'repost_disabled': False}"
      ]
     },
     "execution_count": 25,
     "metadata": {},
     "output_type": "execute_result"
    }
   ],
   "source": [
    "# нужно научиться работать с ячейками такого вида\n",
    "small[\"likes\"][0]"
   ]
  },
  {
   "cell_type": "code",
   "execution_count": 26,
   "metadata": {},
   "outputs": [
    {
     "name": "stderr",
     "output_type": "stream",
     "text": [
      "/opt/anaconda3/lib/python3.7/site-packages/ipykernel_launcher.py:4: SettingWithCopyWarning: \n",
      "A value is trying to be set on a copy of a slice from a DataFrame.\n",
      "Try using .loc[row_indexer,col_indexer] = value instead\n",
      "\n",
      "See the caveats in the documentation: https://pandas.pydata.org/pandas-docs/stable/user_guide/indexing.html#returning-a-view-versus-a-copy\n",
      "  after removing the cwd from sys.path.\n",
      "/opt/anaconda3/lib/python3.7/site-packages/ipykernel_launcher.py:5: SettingWithCopyWarning: \n",
      "A value is trying to be set on a copy of a slice from a DataFrame.\n",
      "Try using .loc[row_indexer,col_indexer] = value instead\n",
      "\n",
      "See the caveats in the documentation: https://pandas.pydata.org/pandas-docs/stable/user_guide/indexing.html#returning-a-view-versus-a-copy\n",
      "  \"\"\"\n",
      "/opt/anaconda3/lib/python3.7/site-packages/ipykernel_launcher.py:6: SettingWithCopyWarning: \n",
      "A value is trying to be set on a copy of a slice from a DataFrame.\n",
      "Try using .loc[row_indexer,col_indexer] = value instead\n",
      "\n",
      "See the caveats in the documentation: https://pandas.pydata.org/pandas-docs/stable/user_guide/indexing.html#returning-a-view-versus-a-copy\n",
      "  \n"
     ]
    }
   ],
   "source": [
    "# пишем lambda-функцию, которая принимает на вход ячейку (x)\n",
    "# и забирает оттуда значение по ключу count\n",
    "\n",
    "small[\"nlikes\"] = small[\"likes\"].apply(lambda x: x[\"count\"])\n",
    "small[\"nreposts\"] = small[\"reposts\"].apply(lambda x: x[\"count\"])\n",
    "small[\"ncomments\"] = small[\"comments\"].apply(lambda x: x[\"count\"])"
   ]
  },
  {
   "cell_type": "code",
   "execution_count": 27,
   "metadata": {},
   "outputs": [
    {
     "name": "stderr",
     "output_type": "stream",
     "text": [
      "/opt/anaconda3/lib/python3.7/site-packages/pandas/core/frame.py:4913: SettingWithCopyWarning: \n",
      "A value is trying to be set on a copy of a slice from a DataFrame\n",
      "\n",
      "See the caveats in the documentation: https://pandas.pydata.org/pandas-docs/stable/user_guide/indexing.html#returning-a-view-versus-a-copy\n",
      "  errors=errors,\n"
     ]
    }
   ],
   "source": [
    "# удаляем лишние столбцы\n",
    "# те, откуда извлекли count, больше не нужны\n",
    "# inplace = True: сохраняем изменения сразу в small\n",
    "\n",
    "small.drop(columns = [\"reposts\", \"comments\", \"likes\"], inplace =True)"
   ]
  },
  {
   "cell_type": "code",
   "execution_count": 28,
   "metadata": {},
   "outputs": [
    {
     "data": {
      "text/html": [
       "<div>\n",
       "<style scoped>\n",
       "    .dataframe tbody tr th:only-of-type {\n",
       "        vertical-align: middle;\n",
       "    }\n",
       "\n",
       "    .dataframe tbody tr th {\n",
       "        vertical-align: top;\n",
       "    }\n",
       "\n",
       "    .dataframe thead th {\n",
       "        text-align: right;\n",
       "    }\n",
       "</style>\n",
       "<table border=\"1\" class=\"dataframe\">\n",
       "  <thead>\n",
       "    <tr style=\"text-align: right;\">\n",
       "      <th></th>\n",
       "      <th>id</th>\n",
       "      <th>date</th>\n",
       "      <th>text</th>\n",
       "      <th>nlikes</th>\n",
       "      <th>nreposts</th>\n",
       "      <th>ncomments</th>\n",
       "    </tr>\n",
       "  </thead>\n",
       "  <tbody>\n",
       "    <tr>\n",
       "      <th>0</th>\n",
       "      <td>4076</td>\n",
       "      <td>1686324040</td>\n",
       "      <td></td>\n",
       "      <td>9</td>\n",
       "      <td>0</td>\n",
       "      <td>0</td>\n",
       "    </tr>\n",
       "    <tr>\n",
       "      <th>1</th>\n",
       "      <td>4073</td>\n",
       "      <td>1686319330</td>\n",
       "      <td>Выберите правдивые утверждения о нашем тренере...</td>\n",
       "      <td>4</td>\n",
       "      <td>0</td>\n",
       "      <td>1</td>\n",
       "    </tr>\n",
       "    <tr>\n",
       "      <th>2</th>\n",
       "      <td>4072</td>\n",
       "      <td>1686318631</td>\n",
       "      <td>❓ Как подготовиться к выезду на скалы\\n\\n🔹  Пе...</td>\n",
       "      <td>8</td>\n",
       "      <td>0</td>\n",
       "      <td>0</td>\n",
       "    </tr>\n",
       "    <tr>\n",
       "      <th>3</th>\n",
       "      <td>4071</td>\n",
       "      <td>1686220008</td>\n",
       "      <td></td>\n",
       "      <td>25</td>\n",
       "      <td>0</td>\n",
       "      <td>2</td>\n",
       "    </tr>\n",
       "    <tr>\n",
       "      <th>4</th>\n",
       "      <td>4068</td>\n",
       "      <td>1686161707</td>\n",
       "      <td>Сегодня мы познакомимся с достаточно эффективн...</td>\n",
       "      <td>13</td>\n",
       "      <td>6</td>\n",
       "      <td>0</td>\n",
       "    </tr>\n",
       "  </tbody>\n",
       "</table>\n",
       "</div>"
      ],
      "text/plain": [
       "     id        date                                               text  \\\n",
       "0  4076  1686324040                                                      \n",
       "1  4073  1686319330  Выберите правдивые утверждения о нашем тренере...   \n",
       "2  4072  1686318631  ❓ Как подготовиться к выезду на скалы\\n\\n🔹  Пе...   \n",
       "3  4071  1686220008                                                      \n",
       "4  4068  1686161707  Сегодня мы познакомимся с достаточно эффективн...   \n",
       "\n",
       "   nlikes  nreposts  ncomments  \n",
       "0       9         0          0  \n",
       "1       4         0          1  \n",
       "2       8         0          0  \n",
       "3      25         0          2  \n",
       "4      13         6          0  "
      ]
     },
     "execution_count": 28,
     "metadata": {},
     "output_type": "execute_result"
    }
   ],
   "source": [
    "small.head()"
   ]
  },
  {
   "cell_type": "markdown",
   "metadata": {},
   "source": [
    "### Задача 5\n",
    "\n",
    "Выберите только те строки в полученном датафрейме, которые соответствуют постам с числом комментариев больше 0, и сохраните их в датафрейм `with_comm`."
   ]
  },
  {
   "cell_type": "code",
   "execution_count": 29,
   "metadata": {},
   "outputs": [
    {
     "data": {
      "text/plain": [
       "(515, 6)"
      ]
     },
     "execution_count": 29,
     "metadata": {},
     "output_type": "execute_result"
    }
   ],
   "source": [
    "with_comm = small[small[\"ncomments\"] > 0] \n",
    "with_comm.shape"
   ]
  },
  {
   "cell_type": "markdown",
   "metadata": {},
   "source": [
    "## Часть 2: собираем комментарии к постам"
   ]
  },
  {
   "cell_type": "markdown",
   "metadata": {},
   "source": [
    "В целях экономии времени не будем брать весь датафрейм `with_comm`, для примера отберем первые 10 строк:"
   ]
  },
  {
   "cell_type": "code",
   "execution_count": 30,
   "metadata": {},
   "outputs": [],
   "source": [
    "with_comm10 = with_comm.head(10) "
   ]
  },
  {
   "cell_type": "markdown",
   "metadata": {},
   "source": [
    "Заберем id постов и преобразуем их в список:"
   ]
  },
  {
   "cell_type": "code",
   "execution_count": 31,
   "metadata": {},
   "outputs": [],
   "source": [
    "ids = list(with_comm10[\"id\"])"
   ]
  },
  {
   "cell_type": "markdown",
   "metadata": {},
   "source": [
    "Возьмем один id для примера и сформулируем запрос для получения комментариев к посту с этим id:"
   ]
  },
  {
   "cell_type": "code",
   "execution_count": 32,
   "metadata": {},
   "outputs": [],
   "source": [
    "i = 3782\n",
    "\n",
    "# метод wall.getComments\n",
    "# owner_id: id сообщества\n",
    "# post_id: id поста\n",
    "# v: версия API, все та же\n",
    "# access_token: токен доступа, все тот же\n",
    "# count: число комментариев, берем 100, max возможное за раз\n",
    "# thread_items_count: число ответов на комментарий, 10, max за раз\n",
    "\n",
    "main_comm = \"https://api.vk.com/method/wall.getComments\"\n",
    "params_comm = {\"owner_id\" : -38936316,\n",
    "              \"post_id\" : i,\n",
    "              \"v\" : v,\n",
    "              \"access_token\" : token,\n",
    "              \"count\" : 100, \n",
    "              \"thread_items_count\" : 10}"
   ]
  },
  {
   "cell_type": "markdown",
   "metadata": {},
   "source": [
    "Формулируем запрос, отправляем и смотрим на результат в виде словаря:"
   ]
  },
  {
   "cell_type": "code",
   "execution_count": 33,
   "metadata": {},
   "outputs": [
    {
     "data": {
      "text/plain": [
       "{'response': {'count': 4,\n",
       "  'items': [{'id': 3783,\n",
       "    'from_id': 527923327,\n",
       "    'date': 1669311085,\n",
       "    'text': 'Мотивация не нужна, нужна дисциплина.',\n",
       "    'post_id': 3782,\n",
       "    'owner_id': -38936316,\n",
       "    'parents_stack': [],\n",
       "    'thread': {'count': 1,\n",
       "     'items': [{'id': 3784,\n",
       "       'from_id': 2311030,\n",
       "       'date': 1669314785,\n",
       "       'text': '[id527923327|Николай], 👍',\n",
       "       'post_id': 3782,\n",
       "       'owner_id': -38936316,\n",
       "       'parents_stack': [3783],\n",
       "       'reply_to_user': 527923327,\n",
       "       'reply_to_comment': 3783}],\n",
       "     'can_post': True,\n",
       "     'show_reply_button': True,\n",
       "     'groups_can_post': True}},\n",
       "   {'id': 3785,\n",
       "    'from_id': 2847724,\n",
       "    'date': 1669373425,\n",
       "    'text': 'Мотивация тоже нужна)',\n",
       "    'post_id': 3782,\n",
       "    'owner_id': -38936316,\n",
       "    'parents_stack': [],\n",
       "    'thread': {'count': 1,\n",
       "     'items': [{'id': 3788,\n",
       "       'from_id': 527923327,\n",
       "       'date': 1669400413,\n",
       "       'text': '[id2847724|Татьяна], мотивация лишь временный фактор, дисциплина - вечна. Дисциплина делает твой сегодняшний день тяжелее, но завтрашний легче',\n",
       "       'post_id': 3782,\n",
       "       'owner_id': -38936316,\n",
       "       'parents_stack': [3785],\n",
       "       'reply_to_user': 2847724,\n",
       "       'reply_to_comment': 3785}],\n",
       "     'can_post': True,\n",
       "     'show_reply_button': True,\n",
       "     'groups_can_post': True}}],\n",
       "  'current_level_count': 2,\n",
       "  'can_post': True,\n",
       "  'show_reply_button': True,\n",
       "  'groups_can_post': True}}"
      ]
     },
     "execution_count": 33,
     "metadata": {},
     "output_type": "execute_result"
    }
   ],
   "source": [
    "req = requests.get(main_comm, params = params_comm)\n",
    "req.json() "
   ]
  },
  {
   "cell_type": "markdown",
   "metadata": {},
   "source": [
    "### Задача 6"
   ]
  },
  {
   "cell_type": "markdown",
   "metadata": {},
   "source": [
    "Давайте считать, что 100 самых новых комментариев и 10 ответов на них нам достаточно (если нет – аргумент `offset` есть, задача аналогична предыдущей по сбору постов). Повторите эту операцию выше для всех id в списке `ids` и сформируйте список с результатами. Преобразуйте результат в датафрейм `df_comm`. "
   ]
  },
  {
   "cell_type": "code",
   "execution_count": 34,
   "metadata": {},
   "outputs": [],
   "source": [
    "# по аналогии с циклом ранее, только ничего не увеличиваем\n",
    "# подставляем на место post_id значение i\n",
    "\n",
    "comments_all = []\n",
    "\n",
    "for i in ids:\n",
    "    params_comm = {\"owner_id\" : -38936316,\n",
    "              \"post_id\" : i,\n",
    "              \"v\" : v,\n",
    "              \"access_token\" : token,\n",
    "              \"count\" : 100, \n",
    "              \"thread_items_count\" : 10}\n",
    "    req = requests.get(main_comm, params = params_comm)\n",
    "    comm_json = req.json() \n",
    "    comm_list = comm_json[\"response\"][\"items\"]\n",
    "    comments_all.extend(comm_list)\n",
    "    time.sleep(1)"
   ]
  },
  {
   "cell_type": "code",
   "execution_count": 35,
   "metadata": {},
   "outputs": [],
   "source": [
    "df_comm = pd.DataFrame(comments_all)"
   ]
  },
  {
   "cell_type": "code",
   "execution_count": 36,
   "metadata": {},
   "outputs": [
    {
     "data": {
      "text/html": [
       "<div>\n",
       "<style scoped>\n",
       "    .dataframe tbody tr th:only-of-type {\n",
       "        vertical-align: middle;\n",
       "    }\n",
       "\n",
       "    .dataframe tbody tr th {\n",
       "        vertical-align: top;\n",
       "    }\n",
       "\n",
       "    .dataframe thead th {\n",
       "        text-align: right;\n",
       "    }\n",
       "</style>\n",
       "<table border=\"1\" class=\"dataframe\">\n",
       "  <thead>\n",
       "    <tr style=\"text-align: right;\">\n",
       "      <th></th>\n",
       "      <th>id</th>\n",
       "      <th>date</th>\n",
       "      <th>text</th>\n",
       "      <th>nlikes</th>\n",
       "      <th>nreposts</th>\n",
       "      <th>ncomments</th>\n",
       "    </tr>\n",
       "  </thead>\n",
       "  <tbody>\n",
       "    <tr>\n",
       "      <th>1</th>\n",
       "      <td>4073</td>\n",
       "      <td>1686319330</td>\n",
       "      <td>Выберите правдивые утверждения о нашем тренере...</td>\n",
       "      <td>4</td>\n",
       "      <td>0</td>\n",
       "      <td>1</td>\n",
       "    </tr>\n",
       "    <tr>\n",
       "      <th>3</th>\n",
       "      <td>4071</td>\n",
       "      <td>1686220008</td>\n",
       "      <td></td>\n",
       "      <td>25</td>\n",
       "      <td>0</td>\n",
       "      <td>2</td>\n",
       "    </tr>\n",
       "  </tbody>\n",
       "</table>\n",
       "</div>"
      ],
      "text/plain": [
       "     id        date                                               text  \\\n",
       "1  4073  1686319330  Выберите правдивые утверждения о нашем тренере...   \n",
       "3  4071  1686220008                                                      \n",
       "\n",
       "   nlikes  nreposts  ncomments  \n",
       "1       4         0          1  \n",
       "3      25         0          2  "
      ]
     },
     "execution_count": 36,
     "metadata": {},
     "output_type": "execute_result"
    }
   ],
   "source": [
    "# смотрим на названия столбцов\n",
    "# здесь id – id поста\n",
    "\n",
    "with_comm10.head(2)"
   ]
  },
  {
   "cell_type": "code",
   "execution_count": 37,
   "metadata": {},
   "outputs": [
    {
     "data": {
      "text/html": [
       "<div>\n",
       "<style scoped>\n",
       "    .dataframe tbody tr th:only-of-type {\n",
       "        vertical-align: middle;\n",
       "    }\n",
       "\n",
       "    .dataframe tbody tr th {\n",
       "        vertical-align: top;\n",
       "    }\n",
       "\n",
       "    .dataframe thead th {\n",
       "        text-align: right;\n",
       "    }\n",
       "</style>\n",
       "<table border=\"1\" class=\"dataframe\">\n",
       "  <thead>\n",
       "    <tr style=\"text-align: right;\">\n",
       "      <th></th>\n",
       "      <th>id</th>\n",
       "      <th>from_id</th>\n",
       "      <th>date</th>\n",
       "      <th>text</th>\n",
       "      <th>post_id</th>\n",
       "      <th>owner_id</th>\n",
       "      <th>parents_stack</th>\n",
       "      <th>thread</th>\n",
       "      <th>attachments</th>\n",
       "    </tr>\n",
       "  </thead>\n",
       "  <tbody>\n",
       "    <tr>\n",
       "      <th>0</th>\n",
       "      <td>4074</td>\n",
       "      <td>-38936316</td>\n",
       "      <td>1686319497</td>\n",
       "      <td>Правдивые утверждения: 1, 3, 6, 8</td>\n",
       "      <td>4073</td>\n",
       "      <td>-38936316</td>\n",
       "      <td>[]</td>\n",
       "      <td>{'count': 0, 'items': [], 'can_post': True, 's...</td>\n",
       "      <td>NaN</td>\n",
       "    </tr>\n",
       "    <tr>\n",
       "      <th>1</th>\n",
       "      <td>4075</td>\n",
       "      <td>2847724</td>\n",
       "      <td>1686320865</td>\n",
       "      <td>🤣</td>\n",
       "      <td>4071</td>\n",
       "      <td>-38936316</td>\n",
       "      <td>[]</td>\n",
       "      <td>{'count': 0, 'items': [], 'can_post': True, 's...</td>\n",
       "      <td>NaN</td>\n",
       "    </tr>\n",
       "  </tbody>\n",
       "</table>\n",
       "</div>"
      ],
      "text/plain": [
       "     id   from_id        date                               text  post_id  \\\n",
       "0  4074 -38936316  1686319497  Правдивые утверждения: 1, 3, 6, 8     4073   \n",
       "1  4075   2847724  1686320865                                  🤣     4071   \n",
       "\n",
       "   owner_id parents_stack                                             thread  \\\n",
       "0 -38936316            []  {'count': 0, 'items': [], 'can_post': True, 's...   \n",
       "1 -38936316            []  {'count': 0, 'items': [], 'can_post': True, 's...   \n",
       "\n",
       "  attachments  \n",
       "0         NaN  \n",
       "1         NaN  "
      ]
     },
     "execution_count": 37,
     "metadata": {},
     "output_type": "execute_result"
    }
   ],
   "source": [
    "# смотрим на названия столбцов\n",
    "# здесь id – id комментария, а post_id - id поста\n",
    "\n",
    "df_comm.head(2)"
   ]
  },
  {
   "cell_type": "markdown",
   "metadata": {},
   "source": [
    "### Задача 7\n",
    "\n",
    "Объедините датафрейм с собранными комментариями `df_comm` и датафрейм `with_comm10` через функцию `merge()` из `pandas`."
   ]
  },
  {
   "cell_type": "code",
   "execution_count": 38,
   "metadata": {},
   "outputs": [
    {
     "name": "stderr",
     "output_type": "stream",
     "text": [
      "/opt/anaconda3/lib/python3.7/site-packages/pandas/core/frame.py:5047: SettingWithCopyWarning: \n",
      "A value is trying to be set on a copy of a slice from a DataFrame\n",
      "\n",
      "See the caveats in the documentation: https://pandas.pydata.org/pandas-docs/stable/user_guide/indexing.html#returning-a-view-versus-a-copy\n",
      "  errors=errors,\n"
     ]
    },
    {
     "data": {
      "text/html": [
       "<div>\n",
       "<style scoped>\n",
       "    .dataframe tbody tr th:only-of-type {\n",
       "        vertical-align: middle;\n",
       "    }\n",
       "\n",
       "    .dataframe tbody tr th {\n",
       "        vertical-align: top;\n",
       "    }\n",
       "\n",
       "    .dataframe thead th {\n",
       "        text-align: right;\n",
       "    }\n",
       "</style>\n",
       "<table border=\"1\" class=\"dataframe\">\n",
       "  <thead>\n",
       "    <tr style=\"text-align: right;\">\n",
       "      <th></th>\n",
       "      <th>post_id</th>\n",
       "      <th>date</th>\n",
       "      <th>text</th>\n",
       "      <th>nlikes</th>\n",
       "      <th>nreposts</th>\n",
       "      <th>ncomments</th>\n",
       "    </tr>\n",
       "  </thead>\n",
       "  <tbody>\n",
       "    <tr>\n",
       "      <th>1</th>\n",
       "      <td>4073</td>\n",
       "      <td>1686319330</td>\n",
       "      <td>Выберите правдивые утверждения о нашем тренере...</td>\n",
       "      <td>4</td>\n",
       "      <td>0</td>\n",
       "      <td>1</td>\n",
       "    </tr>\n",
       "    <tr>\n",
       "      <th>3</th>\n",
       "      <td>4071</td>\n",
       "      <td>1686220008</td>\n",
       "      <td></td>\n",
       "      <td>25</td>\n",
       "      <td>0</td>\n",
       "      <td>2</td>\n",
       "    </tr>\n",
       "  </tbody>\n",
       "</table>\n",
       "</div>"
      ],
      "text/plain": [
       "   post_id        date                                               text  \\\n",
       "1     4073  1686319330  Выберите правдивые утверждения о нашем тренере...   \n",
       "3     4071  1686220008                                                      \n",
       "\n",
       "   nlikes  nreposts  ncomments  \n",
       "1       4         0          1  \n",
       "3      25         0          2  "
      ]
     },
     "execution_count": 38,
     "metadata": {},
     "output_type": "execute_result"
    }
   ],
   "source": [
    "# переименовываем столбцы в with_comm10, чтобы \n",
    "# столбец с id поста назывался везде одинаково\n",
    "# inplace = True: сохраняем изменения\n",
    "\n",
    "with_comm10.rename(columns = {\"id\" : \"post_id\"}, inplace = True)\n",
    "with_comm10.head(2)"
   ]
  },
  {
   "cell_type": "code",
   "execution_count": 39,
   "metadata": {},
   "outputs": [],
   "source": [
    "# объединяем with_comm10 и df_comm по столбцу post_id\n",
    "# left: к левому датафрейму (with_comm10) подтягиваем данные из правого (df_comm)\n",
    "\n",
    "final = with_comm10.merge(df_comm, on = \"post_id\", how = \"left\")"
   ]
  },
  {
   "cell_type": "code",
   "execution_count": 40,
   "metadata": {},
   "outputs": [
    {
     "data": {
      "text/html": [
       "<div>\n",
       "<style scoped>\n",
       "    .dataframe tbody tr th:only-of-type {\n",
       "        vertical-align: middle;\n",
       "    }\n",
       "\n",
       "    .dataframe tbody tr th {\n",
       "        vertical-align: top;\n",
       "    }\n",
       "\n",
       "    .dataframe thead th {\n",
       "        text-align: right;\n",
       "    }\n",
       "</style>\n",
       "<table border=\"1\" class=\"dataframe\">\n",
       "  <thead>\n",
       "    <tr style=\"text-align: right;\">\n",
       "      <th></th>\n",
       "      <th>post_id</th>\n",
       "      <th>date_x</th>\n",
       "      <th>text_x</th>\n",
       "      <th>nlikes</th>\n",
       "      <th>nreposts</th>\n",
       "      <th>ncomments</th>\n",
       "      <th>id</th>\n",
       "      <th>from_id</th>\n",
       "      <th>date_y</th>\n",
       "      <th>text_y</th>\n",
       "      <th>owner_id</th>\n",
       "      <th>parents_stack</th>\n",
       "      <th>thread</th>\n",
       "      <th>attachments</th>\n",
       "    </tr>\n",
       "  </thead>\n",
       "  <tbody>\n",
       "    <tr>\n",
       "      <th>0</th>\n",
       "      <td>4073</td>\n",
       "      <td>1686319330</td>\n",
       "      <td>Выберите правдивые утверждения о нашем тренере...</td>\n",
       "      <td>4</td>\n",
       "      <td>0</td>\n",
       "      <td>1</td>\n",
       "      <td>4074</td>\n",
       "      <td>-38936316</td>\n",
       "      <td>1686319497</td>\n",
       "      <td>Правдивые утверждения: 1, 3, 6, 8</td>\n",
       "      <td>-38936316</td>\n",
       "      <td>[]</td>\n",
       "      <td>{'count': 0, 'items': [], 'can_post': True, 's...</td>\n",
       "      <td>NaN</td>\n",
       "    </tr>\n",
       "    <tr>\n",
       "      <th>1</th>\n",
       "      <td>4071</td>\n",
       "      <td>1686220008</td>\n",
       "      <td></td>\n",
       "      <td>25</td>\n",
       "      <td>0</td>\n",
       "      <td>2</td>\n",
       "      <td>4075</td>\n",
       "      <td>2847724</td>\n",
       "      <td>1686320865</td>\n",
       "      <td>🤣</td>\n",
       "      <td>-38936316</td>\n",
       "      <td>[]</td>\n",
       "      <td>{'count': 0, 'items': [], 'can_post': True, 's...</td>\n",
       "      <td>NaN</td>\n",
       "    </tr>\n",
       "    <tr>\n",
       "      <th>2</th>\n",
       "      <td>4071</td>\n",
       "      <td>1686220008</td>\n",
       "      <td></td>\n",
       "      <td>25</td>\n",
       "      <td>0</td>\n",
       "      <td>2</td>\n",
       "      <td>4077</td>\n",
       "      <td>260091507</td>\n",
       "      <td>1686333308</td>\n",
       "      <td>Класс! 😁</td>\n",
       "      <td>-38936316</td>\n",
       "      <td>[]</td>\n",
       "      <td>{'count': 0, 'items': [], 'can_post': True, 's...</td>\n",
       "      <td>NaN</td>\n",
       "    </tr>\n",
       "    <tr>\n",
       "      <th>3</th>\n",
       "      <td>4058</td>\n",
       "      <td>1685624479</td>\n",
       "      <td>Как возраст влияет на скалолазание.\\n\\n🔹Статис...</td>\n",
       "      <td>35</td>\n",
       "      <td>11</td>\n",
       "      <td>4</td>\n",
       "      <td>4059</td>\n",
       "      <td>271412079</td>\n",
       "      <td>1685722035</td>\n",
       "      <td>По три процента в год в течении 30 лет это 90 ...</td>\n",
       "      <td>-38936316</td>\n",
       "      <td>[]</td>\n",
       "      <td>{'count': 1, 'items': [{'id': 4070, 'from_id':...</td>\n",
       "      <td>NaN</td>\n",
       "    </tr>\n",
       "    <tr>\n",
       "      <th>4</th>\n",
       "      <td>4058</td>\n",
       "      <td>1685624479</td>\n",
       "      <td>Как возраст влияет на скалолазание.\\n\\n🔹Статис...</td>\n",
       "      <td>35</td>\n",
       "      <td>11</td>\n",
       "      <td>4</td>\n",
       "      <td>4060</td>\n",
       "      <td>664352606</td>\n",
       "      <td>1685722985</td>\n",
       "      <td>Правильно, нас уже давно списали</td>\n",
       "      <td>-38936316</td>\n",
       "      <td>[]</td>\n",
       "      <td>{'count': 1, 'items': [{'id': 4069, 'from_id':...</td>\n",
       "      <td>NaN</td>\n",
       "    </tr>\n",
       "    <tr>\n",
       "      <th>5</th>\n",
       "      <td>4052</td>\n",
       "      <td>1685519032</td>\n",
       "      <td>🔥 Мы подготовили новые  трассы! \\n\\n1 x 5c\\n4 ...</td>\n",
       "      <td>13</td>\n",
       "      <td>1</td>\n",
       "      <td>4</td>\n",
       "      <td>4053</td>\n",
       "      <td>260091507</td>\n",
       "      <td>1685526541</td>\n",
       "      <td>Уже опробовал, хорошие, интересные! Фиолетовая...</td>\n",
       "      <td>-38936316</td>\n",
       "      <td>[]</td>\n",
       "      <td>{'count': 1, 'items': [{'id': 4057, 'from_id':...</td>\n",
       "      <td>NaN</td>\n",
       "    </tr>\n",
       "    <tr>\n",
       "      <th>6</th>\n",
       "      <td>4052</td>\n",
       "      <td>1685519032</td>\n",
       "      <td>🔥 Мы подготовили новые  трассы! \\n\\n1 x 5c\\n4 ...</td>\n",
       "      <td>13</td>\n",
       "      <td>1</td>\n",
       "      <td>4</td>\n",
       "      <td>4054</td>\n",
       "      <td>19182024</td>\n",
       "      <td>1685534085</td>\n",
       "      <td>Не успеваю всё попробовать 🧗‍♂️ \\nКлассные тра...</td>\n",
       "      <td>-38936316</td>\n",
       "      <td>[]</td>\n",
       "      <td>{'count': 1, 'items': [{'id': 4056, 'from_id':...</td>\n",
       "      <td>NaN</td>\n",
       "    </tr>\n",
       "    <tr>\n",
       "      <th>7</th>\n",
       "      <td>4050</td>\n",
       "      <td>1685370675</td>\n",
       "      <td>🔥🔥🔥 Мы решили оставить прыжки с джамп контеста...</td>\n",
       "      <td>22</td>\n",
       "      <td>2</td>\n",
       "      <td>1</td>\n",
       "      <td>4051</td>\n",
       "      <td>260091507</td>\n",
       "      <td>1685373277</td>\n",
       "      <td>Считай, Jump contest afterparty challenge! 🙂</td>\n",
       "      <td>-38936316</td>\n",
       "      <td>[]</td>\n",
       "      <td>{'count': 0, 'items': [], 'can_post': True, 's...</td>\n",
       "      <td>NaN</td>\n",
       "    </tr>\n",
       "    <tr>\n",
       "      <th>8</th>\n",
       "      <td>4045</td>\n",
       "      <td>1685267824</td>\n",
       "      <td>🏆 Результаты джамп контекста: \\n\\n✨ Женщины Li...</td>\n",
       "      <td>21</td>\n",
       "      <td>1</td>\n",
       "      <td>4</td>\n",
       "      <td>4046</td>\n",
       "      <td>260091507</td>\n",
       "      <td>1685287705</td>\n",
       "      <td>Спасибо! Мне понравилось, классно попрыгали - ...</td>\n",
       "      <td>-38936316</td>\n",
       "      <td>[]</td>\n",
       "      <td>{'count': 0, 'items': [], 'can_post': True, 's...</td>\n",
       "      <td>NaN</td>\n",
       "    </tr>\n",
       "    <tr>\n",
       "      <th>9</th>\n",
       "      <td>4045</td>\n",
       "      <td>1685267824</td>\n",
       "      <td>🏆 Результаты джамп контекста: \\n\\n✨ Женщины Li...</td>\n",
       "      <td>21</td>\n",
       "      <td>1</td>\n",
       "      <td>4</td>\n",
       "      <td>4047</td>\n",
       "      <td>313967562</td>\n",
       "      <td>1685300174</td>\n",
       "      <td>А вы эту стенку с прыжками сразу скрутите, или...</td>\n",
       "      <td>-38936316</td>\n",
       "      <td>[]</td>\n",
       "      <td>{'count': 2, 'items': [{'id': 4048, 'from_id':...</td>\n",
       "      <td>NaN</td>\n",
       "    </tr>\n",
       "    <tr>\n",
       "      <th>10</th>\n",
       "      <td>4035</td>\n",
       "      <td>1685094844</td>\n",
       "      <td>🗻17-18 июня едем на ближайшие к Москве Ворголь...</td>\n",
       "      <td>11</td>\n",
       "      <td>2</td>\n",
       "      <td>5</td>\n",
       "      <td>4036</td>\n",
       "      <td>196636514</td>\n",
       "      <td>1685095393</td>\n",
       "      <td>Прикоооольно))))</td>\n",
       "      <td>-38936316</td>\n",
       "      <td>[]</td>\n",
       "      <td>{'count': 0, 'items': [], 'can_post': True, 's...</td>\n",
       "      <td>NaN</td>\n",
       "    </tr>\n",
       "    <tr>\n",
       "      <th>11</th>\n",
       "      <td>4035</td>\n",
       "      <td>1685094844</td>\n",
       "      <td>🗻17-18 июня едем на ближайшие к Москве Ворголь...</td>\n",
       "      <td>11</td>\n",
       "      <td>2</td>\n",
       "      <td>5</td>\n",
       "      <td>4037</td>\n",
       "      <td>260091507</td>\n",
       "      <td>1685099819</td>\n",
       "      <td>Ух ты, это интересно! Надо подумать серьезно.</td>\n",
       "      <td>-38936316</td>\n",
       "      <td>[]</td>\n",
       "      <td>{'count': 1, 'items': [{'id': 4038, 'from_id':...</td>\n",
       "      <td>NaN</td>\n",
       "    </tr>\n",
       "    <tr>\n",
       "      <th>12</th>\n",
       "      <td>4035</td>\n",
       "      <td>1685094844</td>\n",
       "      <td>🗻17-18 июня едем на ближайшие к Москве Ворголь...</td>\n",
       "      <td>11</td>\n",
       "      <td>2</td>\n",
       "      <td>5</td>\n",
       "      <td>4039</td>\n",
       "      <td>-38936316</td>\n",
       "      <td>1685117460</td>\n",
       "      <td>Присоединяйтесь!</td>\n",
       "      <td>-38936316</td>\n",
       "      <td>[]</td>\n",
       "      <td>{'count': 0, 'items': [], 'can_post': True, 's...</td>\n",
       "      <td>NaN</td>\n",
       "    </tr>\n",
       "    <tr>\n",
       "      <th>13</th>\n",
       "      <td>4035</td>\n",
       "      <td>1685094844</td>\n",
       "      <td>🗻17-18 июня едем на ближайшие к Москве Ворголь...</td>\n",
       "      <td>11</td>\n",
       "      <td>2</td>\n",
       "      <td>5</td>\n",
       "      <td>4043</td>\n",
       "      <td>260091507</td>\n",
       "      <td>1685206574</td>\n",
       "      <td>На второй фотографии Ирина демонстрирует в дей...</td>\n",
       "      <td>-38936316</td>\n",
       "      <td>[]</td>\n",
       "      <td>{'count': 0, 'items': [], 'can_post': True, 's...</td>\n",
       "      <td>NaN</td>\n",
       "    </tr>\n",
       "    <tr>\n",
       "      <th>14</th>\n",
       "      <td>4032</td>\n",
       "      <td>1685014800</td>\n",
       "      <td>❗️Важная новость! \\n\\nУ нас поменялась разметк...</td>\n",
       "      <td>9</td>\n",
       "      <td>0</td>\n",
       "      <td>2</td>\n",
       "      <td>4033</td>\n",
       "      <td>2653295</td>\n",
       "      <td>1685014943</td>\n",
       "      <td>А что изменилось? Вроде так и было</td>\n",
       "      <td>-38936316</td>\n",
       "      <td>[]</td>\n",
       "      <td>{'count': 1, 'items': [{'id': 4034, 'from_id':...</td>\n",
       "      <td>NaN</td>\n",
       "    </tr>\n",
       "    <tr>\n",
       "      <th>15</th>\n",
       "      <td>4026</td>\n",
       "      <td>1684928952</td>\n",
       "      <td>Поиграем в детектор лжи! Выберите все правильн...</td>\n",
       "      <td>6</td>\n",
       "      <td>1</td>\n",
       "      <td>2</td>\n",
       "      <td>4027</td>\n",
       "      <td>-38936316</td>\n",
       "      <td>1684929070</td>\n",
       "      <td>1) Наталья Анатольевна 5 лет занималась спорти...</td>\n",
       "      <td>-38936316</td>\n",
       "      <td>[]</td>\n",
       "      <td>{'count': 0, 'items': [], 'can_post': True, 's...</td>\n",
       "      <td>NaN</td>\n",
       "    </tr>\n",
       "    <tr>\n",
       "      <th>16</th>\n",
       "      <td>4026</td>\n",
       "      <td>1684928952</td>\n",
       "      <td>Поиграем в детектор лжи! Выберите все правильн...</td>\n",
       "      <td>6</td>\n",
       "      <td>1</td>\n",
       "      <td>2</td>\n",
       "      <td>4028</td>\n",
       "      <td>-38936316</td>\n",
       "      <td>1684929073</td>\n",
       "      <td>6) Наталья Анатольевна - победитель Всероссийс...</td>\n",
       "      <td>-38936316</td>\n",
       "      <td>[]</td>\n",
       "      <td>{'count': 0, 'items': [], 'can_post': True, 's...</td>\n",
       "      <td>NaN</td>\n",
       "    </tr>\n",
       "    <tr>\n",
       "      <th>17</th>\n",
       "      <td>4023</td>\n",
       "      <td>1684762091</td>\n",
       "      <td></td>\n",
       "      <td>48</td>\n",
       "      <td>0</td>\n",
       "      <td>1</td>\n",
       "      <td>4025</td>\n",
       "      <td>260091507</td>\n",
       "      <td>1684819386</td>\n",
       "      <td>Напомнило:</td>\n",
       "      <td>-38936316</td>\n",
       "      <td>[]</td>\n",
       "      <td>{'count': 0, 'items': [], 'can_post': True, 's...</td>\n",
       "      <td>[{'type': 'photo', 'photo': {'album_id': -8, '...</td>\n",
       "    </tr>\n",
       "  </tbody>\n",
       "</table>\n",
       "</div>"
      ],
      "text/plain": [
       "    post_id      date_x                                             text_x  \\\n",
       "0      4073  1686319330  Выберите правдивые утверждения о нашем тренере...   \n",
       "1      4071  1686220008                                                      \n",
       "2      4071  1686220008                                                      \n",
       "3      4058  1685624479  Как возраст влияет на скалолазание.\\n\\n🔹Статис...   \n",
       "4      4058  1685624479  Как возраст влияет на скалолазание.\\n\\n🔹Статис...   \n",
       "5      4052  1685519032  🔥 Мы подготовили новые  трассы! \\n\\n1 x 5c\\n4 ...   \n",
       "6      4052  1685519032  🔥 Мы подготовили новые  трассы! \\n\\n1 x 5c\\n4 ...   \n",
       "7      4050  1685370675  🔥🔥🔥 Мы решили оставить прыжки с джамп контеста...   \n",
       "8      4045  1685267824  🏆 Результаты джамп контекста: \\n\\n✨ Женщины Li...   \n",
       "9      4045  1685267824  🏆 Результаты джамп контекста: \\n\\n✨ Женщины Li...   \n",
       "10     4035  1685094844  🗻17-18 июня едем на ближайшие к Москве Ворголь...   \n",
       "11     4035  1685094844  🗻17-18 июня едем на ближайшие к Москве Ворголь...   \n",
       "12     4035  1685094844  🗻17-18 июня едем на ближайшие к Москве Ворголь...   \n",
       "13     4035  1685094844  🗻17-18 июня едем на ближайшие к Москве Ворголь...   \n",
       "14     4032  1685014800  ❗️Важная новость! \\n\\nУ нас поменялась разметк...   \n",
       "15     4026  1684928952  Поиграем в детектор лжи! Выберите все правильн...   \n",
       "16     4026  1684928952  Поиграем в детектор лжи! Выберите все правильн...   \n",
       "17     4023  1684762091                                                      \n",
       "\n",
       "    nlikes  nreposts  ncomments    id    from_id      date_y  \\\n",
       "0        4         0          1  4074  -38936316  1686319497   \n",
       "1       25         0          2  4075    2847724  1686320865   \n",
       "2       25         0          2  4077  260091507  1686333308   \n",
       "3       35        11          4  4059  271412079  1685722035   \n",
       "4       35        11          4  4060  664352606  1685722985   \n",
       "5       13         1          4  4053  260091507  1685526541   \n",
       "6       13         1          4  4054   19182024  1685534085   \n",
       "7       22         2          1  4051  260091507  1685373277   \n",
       "8       21         1          4  4046  260091507  1685287705   \n",
       "9       21         1          4  4047  313967562  1685300174   \n",
       "10      11         2          5  4036  196636514  1685095393   \n",
       "11      11         2          5  4037  260091507  1685099819   \n",
       "12      11         2          5  4039  -38936316  1685117460   \n",
       "13      11         2          5  4043  260091507  1685206574   \n",
       "14       9         0          2  4033    2653295  1685014943   \n",
       "15       6         1          2  4027  -38936316  1684929070   \n",
       "16       6         1          2  4028  -38936316  1684929073   \n",
       "17      48         0          1  4025  260091507  1684819386   \n",
       "\n",
       "                                               text_y  owner_id parents_stack  \\\n",
       "0                   Правдивые утверждения: 1, 3, 6, 8 -38936316            []   \n",
       "1                                                   🤣 -38936316            []   \n",
       "2                                            Класс! 😁 -38936316            []   \n",
       "3   По три процента в год в течении 30 лет это 90 ... -38936316            []   \n",
       "4                    Правильно, нас уже давно списали -38936316            []   \n",
       "5   Уже опробовал, хорошие, интересные! Фиолетовая... -38936316            []   \n",
       "6   Не успеваю всё попробовать 🧗‍♂️ \\nКлассные тра... -38936316            []   \n",
       "7        Считай, Jump contest afterparty challenge! 🙂 -38936316            []   \n",
       "8   Спасибо! Мне понравилось, классно попрыгали - ... -38936316            []   \n",
       "9   А вы эту стенку с прыжками сразу скрутите, или... -38936316            []   \n",
       "10                                   Прикоооольно)))) -38936316            []   \n",
       "11      Ух ты, это интересно! Надо подумать серьезно. -38936316            []   \n",
       "12                                   Присоединяйтесь! -38936316            []   \n",
       "13  На второй фотографии Ирина демонстрирует в дей... -38936316            []   \n",
       "14                 А что изменилось? Вроде так и было -38936316            []   \n",
       "15  1) Наталья Анатольевна 5 лет занималась спорти... -38936316            []   \n",
       "16  6) Наталья Анатольевна - победитель Всероссийс... -38936316            []   \n",
       "17                                         Напомнило: -38936316            []   \n",
       "\n",
       "                                               thread  \\\n",
       "0   {'count': 0, 'items': [], 'can_post': True, 's...   \n",
       "1   {'count': 0, 'items': [], 'can_post': True, 's...   \n",
       "2   {'count': 0, 'items': [], 'can_post': True, 's...   \n",
       "3   {'count': 1, 'items': [{'id': 4070, 'from_id':...   \n",
       "4   {'count': 1, 'items': [{'id': 4069, 'from_id':...   \n",
       "5   {'count': 1, 'items': [{'id': 4057, 'from_id':...   \n",
       "6   {'count': 1, 'items': [{'id': 4056, 'from_id':...   \n",
       "7   {'count': 0, 'items': [], 'can_post': True, 's...   \n",
       "8   {'count': 0, 'items': [], 'can_post': True, 's...   \n",
       "9   {'count': 2, 'items': [{'id': 4048, 'from_id':...   \n",
       "10  {'count': 0, 'items': [], 'can_post': True, 's...   \n",
       "11  {'count': 1, 'items': [{'id': 4038, 'from_id':...   \n",
       "12  {'count': 0, 'items': [], 'can_post': True, 's...   \n",
       "13  {'count': 0, 'items': [], 'can_post': True, 's...   \n",
       "14  {'count': 1, 'items': [{'id': 4034, 'from_id':...   \n",
       "15  {'count': 0, 'items': [], 'can_post': True, 's...   \n",
       "16  {'count': 0, 'items': [], 'can_post': True, 's...   \n",
       "17  {'count': 0, 'items': [], 'can_post': True, 's...   \n",
       "\n",
       "                                          attachments  \n",
       "0                                                 NaN  \n",
       "1                                                 NaN  \n",
       "2                                                 NaN  \n",
       "3                                                 NaN  \n",
       "4                                                 NaN  \n",
       "5                                                 NaN  \n",
       "6                                                 NaN  \n",
       "7                                                 NaN  \n",
       "8                                                 NaN  \n",
       "9                                                 NaN  \n",
       "10                                                NaN  \n",
       "11                                                NaN  \n",
       "12                                                NaN  \n",
       "13                                                NaN  \n",
       "14                                                NaN  \n",
       "15                                                NaN  \n",
       "16                                                NaN  \n",
       "17  [{'type': 'photo', 'photo': {'album_id': -8, '...  "
      ]
     },
     "execution_count": 40,
     "metadata": {},
     "output_type": "execute_result"
    }
   ],
   "source": [
    "final"
   ]
  },
  {
   "cell_type": "markdown",
   "metadata": {},
   "source": [
    "## Часть 3:  собираем информацию о пользователях"
   ]
  },
  {
   "cell_type": "markdown",
   "metadata": {},
   "source": [
    "Для примера выберем пользователя с id 20473269 (пока не из датафрейма, это всего лишь я):"
   ]
  },
  {
   "cell_type": "code",
   "execution_count": 41,
   "metadata": {},
   "outputs": [],
   "source": [
    "j = 20473269"
   ]
  },
  {
   "cell_type": "markdown",
   "metadata": {},
   "source": [
    "Сформируем запрос:"
   ]
  },
  {
   "cell_type": "code",
   "execution_count": 42,
   "metadata": {},
   "outputs": [
    {
     "data": {
      "text/plain": [
       "{'response': [{'id': 20473269,\n",
       "   'bdate': '25.3.1994',\n",
       "   'city': {'id': 1, 'title': 'Москва'},\n",
       "   'home_town': 'Москва',\n",
       "   'universities': [{'city': 1,\n",
       "     'country': 1,\n",
       "     'education_status': 'Студентка (бакалавр)',\n",
       "     'education_status_id': 3,\n",
       "     'graduation': 2016,\n",
       "     'id': 128,\n",
       "     'name': 'НИУ ВШЭ (ГУ-ВШЭ)'}],\n",
       "   'first_name': 'Алла',\n",
       "   'last_name': 'Тамбовцева',\n",
       "   'can_access_closed': True,\n",
       "   'is_closed': False}]}"
      ]
     },
     "execution_count": 42,
     "metadata": {},
     "output_type": "execute_result"
    }
   ],
   "source": [
    "# метод users.get\n",
    "# все знакомые параметры\n",
    "# в fields перечисляем дополнительню информацию,\n",
    "# которую хотим получить\n",
    "# перечисляем через запятую без пробелов\n",
    "\n",
    "main_user = \"https://api.vk.com/method/users.get\"\n",
    "params_user = {\"access_token\" : token,\n",
    "               \"v\" : v,\n",
    "               \"user_id\" : j,\n",
    "               \"fields\" : \"bdate,city,home_town,universities\"\n",
    "}\n",
    "req2 = requests.get(main_user, params = params_user)\n",
    "req2.json()"
   ]
  },
  {
   "cell_type": "markdown",
   "metadata": {},
   "source": [
    "### Задача 8\n",
    "\n",
    "Выберите какого-нибудь пользователя, оставившего комментарий, из датафрейма и запросите по нему интересующую информацию."
   ]
  },
  {
   "cell_type": "code",
   "execution_count": null,
   "metadata": {},
   "outputs": [],
   "source": [
    "### YOUR CODE HERE ###"
   ]
  }
 ],
 "metadata": {
  "kernelspec": {
   "display_name": "Python 3",
   "language": "python",
   "name": "python3"
  },
  "language_info": {
   "codemirror_mode": {
    "name": "ipython",
    "version": 3
   },
   "file_extension": ".py",
   "mimetype": "text/x-python",
   "name": "python",
   "nbconvert_exporter": "python",
   "pygments_lexer": "ipython3",
   "version": "3.7.4"
  }
 },
 "nbformat": 4,
 "nbformat_minor": 2
}
