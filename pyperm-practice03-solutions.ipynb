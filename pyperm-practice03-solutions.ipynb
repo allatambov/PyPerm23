{
 "cells": [
  {
   "cell_type": "markdown",
   "metadata": {},
   "source": [
    "# Программирование на Python\n",
    "\n",
    "*Алла Тамбовцева, НИУ ВШЭ*\n",
    "\n",
    "## Практикум 3: условные конструкции и цикл `while`"
   ]
  },
  {
   "cell_type": "markdown",
   "metadata": {},
   "source": [
    "### Задача 1\n",
    "\n",
    "Напишите программу, которая запрашивает с клавиатуры какое-то одно слово и выводит на экран строку \"Это имя собственное\", если слово начинается с заглавной буквы, а остальные буквы строчные, и строку \"Наверное, это не имя собственное\" в обратном случае. Строки с сообщениями сохранены в переменных `true` и `false`."
   ]
  },
  {
   "cell_type": "code",
   "execution_count": 2,
   "metadata": {},
   "outputs": [
    {
     "name": "stdout",
     "output_type": "stream",
     "text": [
      "Питон\n",
      "Это имя собственное\n"
     ]
    }
   ],
   "source": [
    "true = \"Это имя собственное\"\n",
    "false = \"Наверное, это не имя собственное\"\n",
    "\n",
    "word = input()\n",
    "if word[0].isupper() and word[1:].islower():\n",
    "    print(true)\n",
    "else:\n",
    "    print(false)"
   ]
  },
  {
   "cell_type": "code",
   "execution_count": 10,
   "metadata": {},
   "outputs": [
    {
     "name": "stdout",
     "output_type": "stream",
     "text": [
      "анаконда\n",
      "Наверное, это не имя собственное\n"
     ]
    }
   ],
   "source": [
    "true = \"Это имя собственное\"\n",
    "false = \"Наверное, это не имя собственное\"\n",
    "\n",
    "word = input()\n",
    "if word.istitle():\n",
    "    print(true)\n",
    "else:\n",
    "    print(false)"
   ]
  },
  {
   "cell_type": "markdown",
   "metadata": {},
   "source": [
    "### Задача 2\n",
    "\n",
    "В списке `files` сохранены названия файлов с разными расширениями. Напишите программу, которая сохранит в список `docs` только файлы с расширением `.doc` или `.docx`. Элементы в списке `docs` должны быть отсортированы по алфавиту."
   ]
  },
  {
   "cell_type": "code",
   "execution_count": 15,
   "metadata": {},
   "outputs": [
    {
     "name": "stdout",
     "output_type": "stream",
     "text": [
      "['mydoc.docx', 'review.doc', 'Заявление(копия).docx', 'Заявление.docx', 'Сценарий.doc']\n"
     ]
    }
   ],
   "source": [
    "files = [\"review.doc\", \"main.html\", \"mydoc.docx\", \"dreams-data.csv\", \n",
    "         \"intro.R\", \"hw01.tex\", \"Заявление.docx\", \"Заявление(копия).docx\", \n",
    "         \"Расписание.xlsx\", \"Сценарий.doc\"]\n",
    "\n",
    "docs = []\n",
    "for f in files:\n",
    "    if \".doc\" in f:\n",
    "        docs.append(f)\n",
    "\n",
    "docs.sort()\n",
    "print(docs)"
   ]
  },
  {
   "cell_type": "code",
   "execution_count": 14,
   "metadata": {},
   "outputs": [
    {
     "name": "stdout",
     "output_type": "stream",
     "text": [
      "['mydoc.docx', 'review.doc', 'Заявление(копия).docx', 'Заявление.docx', 'Сценарий.doc']\n"
     ]
    }
   ],
   "source": [
    "files = [\"review.doc\", \"main.html\", \"mydoc.docx\", \"dreams-data.csv\", \n",
    "         \"intro.R\", \"hw01.tex\", \"Заявление.docx\", \"Заявление(копия).docx\", \n",
    "         \"Расписание.xlsx\", \"Сценарий.doc\"]\n",
    "\n",
    "docs = []\n",
    "for f in files:\n",
    "    if f.endswith(\".doc\") or f.endswith(\".docx\"):\n",
    "        docs.append(f)\n",
    "\n",
    "docs.sort()\n",
    "print(docs)"
   ]
  },
  {
   "cell_type": "markdown",
   "metadata": {},
   "source": [
    "### Задача 3\n",
    "\n",
    "У питона есть набор любимых чисел.\n",
    "\n",
    "    favorites = [3, 7, 11, 23, 18, 48, 81]\n",
    "\n",
    "Напишите программу, которая просит пользователя ввести целое число, и если оно нравится питону, на экран будет выводиться сообщение: \"Мое любимое число!\", если нет – \"Эх, ну почему?\"."
   ]
  },
  {
   "cell_type": "code",
   "execution_count": 19,
   "metadata": {},
   "outputs": [
    {
     "name": "stdout",
     "output_type": "stream",
     "text": [
      "18\n",
      "Мое любимое число!\n"
     ]
    }
   ],
   "source": [
    "favorites = [3, 7, 11, 23, 18, 48, 81]\n",
    "\n",
    "n = int(input())\n",
    "if n in favorites:\n",
    "    print(\"Мое любимое число!\")\n",
    "else:\n",
    "    print(\"Эх, ну почему?\")"
   ]
  },
  {
   "cell_type": "markdown",
   "metadata": {},
   "source": [
    "### Задача 4\n",
    "\n",
    "В списке `marks` сохранены имена и оценки студентов в шкале от 0 до 10. Напишите программу, которая запрашивает с клавиатуры целое число от 0 до 10 и сохраняет в список `upper` имена студентов из списка, чьи оценки не менее введенного значения. "
   ]
  },
  {
   "cell_type": "code",
   "execution_count": 21,
   "metadata": {},
   "outputs": [
    {
     "name": "stdout",
     "output_type": "stream",
     "text": [
      "7\n",
      "['Harry', 'Tim', 'Sue', 'Cassandra', 'Violetta']\n"
     ]
    }
   ],
   "source": [
    "marks = [(\"Harry\", 8), (\"Tim\", 9), (\"Berta\", 6), (\"Sue\", 7), (\"Tom\", 3),\n",
    "         (\"Cassandra\", 10), (\"Sam\", 5), (\"George\", 4), (\"Violetta\", 8)]\n",
    "value = int(input())\n",
    "\n",
    "upper = []\n",
    "for m in marks:\n",
    "    if m[1] >= value:\n",
    "        upper.append(m[0])\n",
    "print(upper)"
   ]
  },
  {
   "cell_type": "code",
   "execution_count": 22,
   "metadata": {},
   "outputs": [
    {
     "name": "stdout",
     "output_type": "stream",
     "text": [
      "['Harry', 'Tim', 'Sue', 'Cassandra', 'Violetta']\n"
     ]
    }
   ],
   "source": [
    "upper = []\n",
    "for name, grade in marks:\n",
    "    if grade >= value:\n",
    "        upper.append(name)\n",
    "print(upper)"
   ]
  },
  {
   "cell_type": "markdown",
   "metadata": {},
   "source": [
    "### Задача 5\n",
    "\n",
    "Напишите программу, которая запрашивает у пользователя пароль, и далее:\n",
    "\n",
    "* если пароль верный, выводит на экран сообщение \"Login success\".\n",
    "* если пароль неверный, выводит на экран сообщение \"Incorrect password, try again!\" до тех пор, пока пользователь не введет верный пароль.\n",
    "\n",
    "Считайте, что верный пароль сохранен в строке `password`."
   ]
  },
  {
   "cell_type": "code",
   "execution_count": 23,
   "metadata": {},
   "outputs": [
    {
     "name": "stdout",
     "output_type": "stream",
     "text": [
      "hse\n",
      "Incorrect password, try again!\n",
      "hsepass\n",
      "Incorrect password, try again!\n",
      "hsepassword\n",
      "Login success\n"
     ]
    }
   ],
   "source": [
    "password = \"hsepassword\"\n",
    "\n",
    "attempt = input()\n",
    "while attempt != password:\n",
    "    print(\"Incorrect password, try again!\")\n",
    "    attempt = input()\n",
    "print(\"Login success\")"
   ]
  },
  {
   "cell_type": "code",
   "execution_count": 24,
   "metadata": {},
   "outputs": [
    {
     "name": "stdout",
     "output_type": "stream",
     "text": [
      "hse\n",
      "Incorrect password, try again!\n",
      "hsepassowrd\n",
      "Incorrect password, try again!\n",
      "hsepassword\n",
      "Login success\n"
     ]
    }
   ],
   "source": [
    "while True:\n",
    "    attempt = input()\n",
    "    if attempt == password:\n",
    "        print(\"Login success\")\n",
    "        break\n",
    "    else:\n",
    "        print(\"Incorrect password, try again!\")"
   ]
  }
 ],
 "metadata": {
  "kernelspec": {
   "display_name": "Python 3",
   "language": "python",
   "name": "python3"
  },
  "language_info": {
   "codemirror_mode": {
    "name": "ipython",
    "version": 3
   },
   "file_extension": ".py",
   "mimetype": "text/x-python",
   "name": "python",
   "nbconvert_exporter": "python",
   "pygments_lexer": "ipython3",
   "version": "3.7.4"
  }
 },
 "nbformat": 4,
 "nbformat_minor": 2
}
