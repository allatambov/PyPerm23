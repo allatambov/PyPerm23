{
 "cells": [
  {
   "cell_type": "markdown",
   "metadata": {
    "id": "-uy2mgLQFdGk"
   },
   "source": [
    "# Программирование на Python\n",
    "\n",
    "\n",
    "## Обработка таблиц внутри HTML с `pandas`\n",
    "\n",
    "*Алла Тамбовцева*"
   ]
  },
  {
   "cell_type": "markdown",
   "metadata": {
    "id": "3oLSrfOiGDow"
   },
   "source": [
    "Импортируем библиотеки:\n",
    "\n",
    "* `requests` для отправки запроса и получения кода HTML веб-страницы;\n",
    "* `pandas` для обработки полученной информации и приведения ее к табличному виду."
   ]
  },
  {
   "cell_type": "code",
   "execution_count": 1,
   "metadata": {
    "id": "k0qoHH-Ikb6h"
   },
   "outputs": [],
   "source": [
    "import requests\n",
    "import pandas as pd"
   ]
  },
  {
   "cell_type": "markdown",
   "metadata": {
    "id": "Pm_QkNg-JLkw"
   },
   "source": [
    "Зайдем на сайт Левада-Центра и найдем на [странице](https://www.levada.ru/indikatory/) с индикаторами одобрения органов власти:"
   ]
  },
  {
   "cell_type": "code",
   "execution_count": 3,
   "metadata": {
    "id": "dcwOWVsQngsZ"
   },
   "outputs": [],
   "source": [
    "page = requests.get(\"https://www.levada.ru/indikatory/\")"
   ]
  },
  {
   "cell_type": "markdown",
   "metadata": {},
   "source": [
    "В `pandas` есть функция `.read_html()`, которая умеет считывать файлы или строки с кодом HTML, находить в них фрагменты с таблицами и преобразовывать их в полноценные датафреймы. Воспользуемся ей:"
   ]
  },
  {
   "cell_type": "code",
   "execution_count": 10,
   "metadata": {
    "id": "dcwOWVsQngsZ"
   },
   "outputs": [],
   "source": [
    "pd.read_html(page.text)"
   ]
  },
  {
   "cell_type": "markdown",
   "metadata": {
    "id": "LqtfEd4TJn2I"
   },
   "source": [
    "Функция вернула список со всеми таблицами (датафреймами), которые были на странице. Выберем вторую таблицу – в ней хранятся данные для первого графика (в первой таблице только заголовки строк, они вынесено отдельно, чтобы различать части таблицы со скроллингом и без):"
   ]
  },
  {
   "cell_type": "code",
   "execution_count": 4,
   "metadata": {
    "colab": {
     "base_uri": "https://localhost:8080/",
     "height": 237
    },
    "id": "Aki6dqsKpSDT",
    "outputId": "4a0e9635-5937-49c7-c969-a17f0375e6f5"
   },
   "outputs": [
    {
     "data": {
      "text/html": [
       "<div>\n",
       "<style scoped>\n",
       "    .dataframe tbody tr th:only-of-type {\n",
       "        vertical-align: middle;\n",
       "    }\n",
       "\n",
       "    .dataframe tbody tr th {\n",
       "        vertical-align: top;\n",
       "    }\n",
       "\n",
       "    .dataframe thead th {\n",
       "        text-align: right;\n",
       "    }\n",
       "</style>\n",
       "<table border=\"1\" class=\"dataframe\">\n",
       "  <thead>\n",
       "    <tr style=\"text-align: right;\">\n",
       "      <th></th>\n",
       "      <th>0</th>\n",
       "      <th>1</th>\n",
       "      <th>2</th>\n",
       "      <th>3</th>\n",
       "      <th>4</th>\n",
       "      <th>5</th>\n",
       "      <th>6</th>\n",
       "      <th>7</th>\n",
       "      <th>8</th>\n",
       "      <th>9</th>\n",
       "      <th>...</th>\n",
       "      <th>274</th>\n",
       "      <th>275</th>\n",
       "      <th>276</th>\n",
       "      <th>277</th>\n",
       "      <th>278</th>\n",
       "      <th>279</th>\n",
       "      <th>280</th>\n",
       "      <th>281</th>\n",
       "      <th>282</th>\n",
       "      <th>283</th>\n",
       "    </tr>\n",
       "  </thead>\n",
       "  <tbody>\n",
       "    <tr>\n",
       "      <th>0</th>\n",
       "      <td>8.1999</td>\n",
       "      <td>9.1999</td>\n",
       "      <td>10.1999</td>\n",
       "      <td>11.1999</td>\n",
       "      <td>12.1999</td>\n",
       "      <td>1.2</td>\n",
       "      <td>2.2</td>\n",
       "      <td>3.2</td>\n",
       "      <td>4.2</td>\n",
       "      <td>5.2</td>\n",
       "      <td>...</td>\n",
       "      <td>8.2022</td>\n",
       "      <td>9.2022</td>\n",
       "      <td>10.2022</td>\n",
       "      <td>11.2022</td>\n",
       "      <td>12.2022</td>\n",
       "      <td>1.2023</td>\n",
       "      <td>2.2023</td>\n",
       "      <td>3.2023</td>\n",
       "      <td>4.2023</td>\n",
       "      <td>5.2023</td>\n",
       "    </tr>\n",
       "    <tr>\n",
       "      <th>1</th>\n",
       "      <td>31.0000</td>\n",
       "      <td>53.0000</td>\n",
       "      <td>65.0000</td>\n",
       "      <td>80.0000</td>\n",
       "      <td>79.0000</td>\n",
       "      <td>84.0</td>\n",
       "      <td>75.0</td>\n",
       "      <td>70.0</td>\n",
       "      <td>77.0</td>\n",
       "      <td>72.0</td>\n",
       "      <td>...</td>\n",
       "      <td>83.0000</td>\n",
       "      <td>77.0000</td>\n",
       "      <td>79.0000</td>\n",
       "      <td>79.0000</td>\n",
       "      <td>81.0000</td>\n",
       "      <td>82.0000</td>\n",
       "      <td>83.0000</td>\n",
       "      <td>82.0000</td>\n",
       "      <td>83.0000</td>\n",
       "      <td>82.0000</td>\n",
       "    </tr>\n",
       "    <tr>\n",
       "      <th>2</th>\n",
       "      <td>33.0000</td>\n",
       "      <td>27.0000</td>\n",
       "      <td>20.0000</td>\n",
       "      <td>12.0000</td>\n",
       "      <td>13.0000</td>\n",
       "      <td>10.0</td>\n",
       "      <td>17.0</td>\n",
       "      <td>21.0</td>\n",
       "      <td>15.0</td>\n",
       "      <td>17.0</td>\n",
       "      <td>...</td>\n",
       "      <td>15.0000</td>\n",
       "      <td>21.0000</td>\n",
       "      <td>19.0000</td>\n",
       "      <td>18.0000</td>\n",
       "      <td>17.0000</td>\n",
       "      <td>16.0000</td>\n",
       "      <td>14.0000</td>\n",
       "      <td>15.0000</td>\n",
       "      <td>14.0000</td>\n",
       "      <td>15.0000</td>\n",
       "    </tr>\n",
       "    <tr>\n",
       "      <th>3</th>\n",
       "      <td>37.0000</td>\n",
       "      <td>20.0000</td>\n",
       "      <td>15.0000</td>\n",
       "      <td>8.0000</td>\n",
       "      <td>8.0000</td>\n",
       "      <td>7.0</td>\n",
       "      <td>8.0</td>\n",
       "      <td>9.0</td>\n",
       "      <td>8.0</td>\n",
       "      <td>11.0</td>\n",
       "      <td>...</td>\n",
       "      <td>2.0000</td>\n",
       "      <td>2.0000</td>\n",
       "      <td>2.0000</td>\n",
       "      <td>3.0000</td>\n",
       "      <td>2.0000</td>\n",
       "      <td>2.0000</td>\n",
       "      <td>2.0000</td>\n",
       "      <td>3.0000</td>\n",
       "      <td>3.0000</td>\n",
       "      <td>2.0000</td>\n",
       "    </tr>\n",
       "  </tbody>\n",
       "</table>\n",
       "<p>4 rows × 284 columns</p>\n",
       "</div>"
      ],
      "text/plain": [
       "       0        1        2        3        4     5     6     7     8     9    \\\n",
       "0   8.1999   9.1999  10.1999  11.1999  12.1999   1.2   2.2   3.2   4.2   5.2   \n",
       "1  31.0000  53.0000  65.0000  80.0000  79.0000  84.0  75.0  70.0  77.0  72.0   \n",
       "2  33.0000  27.0000  20.0000  12.0000  13.0000  10.0  17.0  21.0  15.0  17.0   \n",
       "3  37.0000  20.0000  15.0000   8.0000   8.0000   7.0   8.0   9.0   8.0  11.0   \n",
       "\n",
       "   ...      274      275      276      277      278      279      280  \\\n",
       "0  ...   8.2022   9.2022  10.2022  11.2022  12.2022   1.2023   2.2023   \n",
       "1  ...  83.0000  77.0000  79.0000  79.0000  81.0000  82.0000  83.0000   \n",
       "2  ...  15.0000  21.0000  19.0000  18.0000  17.0000  16.0000  14.0000   \n",
       "3  ...   2.0000   2.0000   2.0000   3.0000   2.0000   2.0000   2.0000   \n",
       "\n",
       "       281      282      283  \n",
       "0   3.2023   4.2023   5.2023  \n",
       "1  82.0000  83.0000  82.0000  \n",
       "2  15.0000  14.0000  15.0000  \n",
       "3   3.0000   3.0000   2.0000  \n",
       "\n",
       "[4 rows x 284 columns]"
      ]
     },
     "execution_count": 4,
     "metadata": {},
     "output_type": "execute_result"
    }
   ],
   "source": [
    "df = pd.read_html(page.text)[1]\n",
    "df"
   ]
  },
  {
   "cell_type": "markdown",
   "metadata": {
    "id": "gtS8g-ynJ8pZ"
   },
   "source": [
    "Ура! Одной строчкой кода мы получили красивую таблицу вместо «сырого» фрагмента HTML. Однако заголовки столбцов считались как обычные данные. Скорректируем это, добавив аргумент `header` (строку с каким индексом использовать в качестве заголовков):"
   ]
  },
  {
   "cell_type": "code",
   "execution_count": 5,
   "metadata": {},
   "outputs": [
    {
     "data": {
      "text/html": [
       "<div>\n",
       "<style scoped>\n",
       "    .dataframe tbody tr th:only-of-type {\n",
       "        vertical-align: middle;\n",
       "    }\n",
       "\n",
       "    .dataframe tbody tr th {\n",
       "        vertical-align: top;\n",
       "    }\n",
       "\n",
       "    .dataframe thead th {\n",
       "        text-align: right;\n",
       "    }\n",
       "</style>\n",
       "<table border=\"1\" class=\"dataframe\">\n",
       "  <thead>\n",
       "    <tr style=\"text-align: right;\">\n",
       "      <th></th>\n",
       "      <th>08.1999</th>\n",
       "      <th>09.1999</th>\n",
       "      <th>10.1999</th>\n",
       "      <th>11.1999</th>\n",
       "      <th>12.1999</th>\n",
       "      <th>01.2000</th>\n",
       "      <th>02.2000</th>\n",
       "      <th>03.2000</th>\n",
       "      <th>04.2000</th>\n",
       "      <th>05.2000</th>\n",
       "      <th>...</th>\n",
       "      <th>08.2022</th>\n",
       "      <th>09.2022</th>\n",
       "      <th>10.2022</th>\n",
       "      <th>11.2022</th>\n",
       "      <th>12.2022</th>\n",
       "      <th>01.2023</th>\n",
       "      <th>02.2023</th>\n",
       "      <th>03.2023</th>\n",
       "      <th>04.2023</th>\n",
       "      <th>05.2023</th>\n",
       "    </tr>\n",
       "  </thead>\n",
       "  <tbody>\n",
       "    <tr>\n",
       "      <th>0</th>\n",
       "      <td>31</td>\n",
       "      <td>53</td>\n",
       "      <td>65</td>\n",
       "      <td>80</td>\n",
       "      <td>79</td>\n",
       "      <td>84</td>\n",
       "      <td>75</td>\n",
       "      <td>70</td>\n",
       "      <td>77</td>\n",
       "      <td>72</td>\n",
       "      <td>...</td>\n",
       "      <td>83</td>\n",
       "      <td>77</td>\n",
       "      <td>79</td>\n",
       "      <td>79</td>\n",
       "      <td>81</td>\n",
       "      <td>82</td>\n",
       "      <td>83</td>\n",
       "      <td>82</td>\n",
       "      <td>83</td>\n",
       "      <td>82</td>\n",
       "    </tr>\n",
       "    <tr>\n",
       "      <th>1</th>\n",
       "      <td>33</td>\n",
       "      <td>27</td>\n",
       "      <td>20</td>\n",
       "      <td>12</td>\n",
       "      <td>13</td>\n",
       "      <td>10</td>\n",
       "      <td>17</td>\n",
       "      <td>21</td>\n",
       "      <td>15</td>\n",
       "      <td>17</td>\n",
       "      <td>...</td>\n",
       "      <td>15</td>\n",
       "      <td>21</td>\n",
       "      <td>19</td>\n",
       "      <td>18</td>\n",
       "      <td>17</td>\n",
       "      <td>16</td>\n",
       "      <td>14</td>\n",
       "      <td>15</td>\n",
       "      <td>14</td>\n",
       "      <td>15</td>\n",
       "    </tr>\n",
       "    <tr>\n",
       "      <th>2</th>\n",
       "      <td>37</td>\n",
       "      <td>20</td>\n",
       "      <td>15</td>\n",
       "      <td>8</td>\n",
       "      <td>8</td>\n",
       "      <td>7</td>\n",
       "      <td>8</td>\n",
       "      <td>9</td>\n",
       "      <td>8</td>\n",
       "      <td>11</td>\n",
       "      <td>...</td>\n",
       "      <td>2</td>\n",
       "      <td>2</td>\n",
       "      <td>2</td>\n",
       "      <td>3</td>\n",
       "      <td>2</td>\n",
       "      <td>2</td>\n",
       "      <td>2</td>\n",
       "      <td>3</td>\n",
       "      <td>3</td>\n",
       "      <td>2</td>\n",
       "    </tr>\n",
       "  </tbody>\n",
       "</table>\n",
       "<p>3 rows × 284 columns</p>\n",
       "</div>"
      ],
      "text/plain": [
       "   08.1999  09.1999  10.1999  11.1999  12.1999  01.2000  02.2000  03.2000  \\\n",
       "0       31       53       65       80       79       84       75       70   \n",
       "1       33       27       20       12       13       10       17       21   \n",
       "2       37       20       15        8        8        7        8        9   \n",
       "\n",
       "   04.2000  05.2000  ...  08.2022  09.2022  10.2022  11.2022  12.2022  \\\n",
       "0       77       72  ...       83       77       79       79       81   \n",
       "1       15       17  ...       15       21       19       18       17   \n",
       "2        8       11  ...        2        2        2        3        2   \n",
       "\n",
       "   01.2023  02.2023  03.2023  04.2023  05.2023  \n",
       "0       82       83       82       83       82  \n",
       "1       16       14       15       14       15  \n",
       "2        2        2        3        3        2  \n",
       "\n",
       "[3 rows x 284 columns]"
      ]
     },
     "execution_count": 5,
     "metadata": {},
     "output_type": "execute_result"
    }
   ],
   "source": [
    "df = pd.read_html(page.text, header = 0)[1]\n",
    "df"
   ]
  },
  {
   "cell_type": "markdown",
   "metadata": {
    "id": "gtS8g-ynJ8pZ"
   },
   "source": [
    "Давайте транспонируем полученный датафрейм, чтобы получить более привычный вариант таблицы (и удобный для визуализации, если нас интересует динамика процента одобряющий и неодобряющих):"
   ]
  },
  {
   "cell_type": "code",
   "execution_count": 6,
   "metadata": {
    "id": "sU4UPKl-peUR"
   },
   "outputs": [
    {
     "data": {
      "text/html": [
       "<div>\n",
       "<style scoped>\n",
       "    .dataframe tbody tr th:only-of-type {\n",
       "        vertical-align: middle;\n",
       "    }\n",
       "\n",
       "    .dataframe tbody tr th {\n",
       "        vertical-align: top;\n",
       "    }\n",
       "\n",
       "    .dataframe thead th {\n",
       "        text-align: right;\n",
       "    }\n",
       "</style>\n",
       "<table border=\"1\" class=\"dataframe\">\n",
       "  <thead>\n",
       "    <tr style=\"text-align: right;\">\n",
       "      <th></th>\n",
       "      <th>0</th>\n",
       "      <th>1</th>\n",
       "      <th>2</th>\n",
       "    </tr>\n",
       "  </thead>\n",
       "  <tbody>\n",
       "    <tr>\n",
       "      <th>08.1999</th>\n",
       "      <td>31</td>\n",
       "      <td>33</td>\n",
       "      <td>37</td>\n",
       "    </tr>\n",
       "    <tr>\n",
       "      <th>09.1999</th>\n",
       "      <td>53</td>\n",
       "      <td>27</td>\n",
       "      <td>20</td>\n",
       "    </tr>\n",
       "    <tr>\n",
       "      <th>10.1999</th>\n",
       "      <td>65</td>\n",
       "      <td>20</td>\n",
       "      <td>15</td>\n",
       "    </tr>\n",
       "    <tr>\n",
       "      <th>11.1999</th>\n",
       "      <td>80</td>\n",
       "      <td>12</td>\n",
       "      <td>8</td>\n",
       "    </tr>\n",
       "    <tr>\n",
       "      <th>12.1999</th>\n",
       "      <td>79</td>\n",
       "      <td>13</td>\n",
       "      <td>8</td>\n",
       "    </tr>\n",
       "    <tr>\n",
       "      <th>...</th>\n",
       "      <td>...</td>\n",
       "      <td>...</td>\n",
       "      <td>...</td>\n",
       "    </tr>\n",
       "    <tr>\n",
       "      <th>01.2023</th>\n",
       "      <td>82</td>\n",
       "      <td>16</td>\n",
       "      <td>2</td>\n",
       "    </tr>\n",
       "    <tr>\n",
       "      <th>02.2023</th>\n",
       "      <td>83</td>\n",
       "      <td>14</td>\n",
       "      <td>2</td>\n",
       "    </tr>\n",
       "    <tr>\n",
       "      <th>03.2023</th>\n",
       "      <td>82</td>\n",
       "      <td>15</td>\n",
       "      <td>3</td>\n",
       "    </tr>\n",
       "    <tr>\n",
       "      <th>04.2023</th>\n",
       "      <td>83</td>\n",
       "      <td>14</td>\n",
       "      <td>3</td>\n",
       "    </tr>\n",
       "    <tr>\n",
       "      <th>05.2023</th>\n",
       "      <td>82</td>\n",
       "      <td>15</td>\n",
       "      <td>2</td>\n",
       "    </tr>\n",
       "  </tbody>\n",
       "</table>\n",
       "<p>284 rows × 3 columns</p>\n",
       "</div>"
      ],
      "text/plain": [
       "          0   1   2\n",
       "08.1999  31  33  37\n",
       "09.1999  53  27  20\n",
       "10.1999  65  20  15\n",
       "11.1999  80  12   8\n",
       "12.1999  79  13   8\n",
       "...      ..  ..  ..\n",
       "01.2023  82  16   2\n",
       "02.2023  83  14   2\n",
       "03.2023  82  15   3\n",
       "04.2023  83  14   3\n",
       "05.2023  82  15   2\n",
       "\n",
       "[284 rows x 3 columns]"
      ]
     },
     "execution_count": 6,
     "metadata": {},
     "output_type": "execute_result"
    }
   ],
   "source": [
    "df = df.transpose() \n",
    "df"
   ]
  },
  {
   "cell_type": "markdown",
   "metadata": {
    "id": "7khV7uQLKdNx"
   },
   "source": [
    "Обработаем этот датафрейм:\n",
    "\n",
    "* добавим названия столбцов;\n",
    "* извлечем даты из названией строк (атрибут `index`) и сохраним их в отдельный столбец;\n",
    "* в качестве названий строк добавим набор целых чисел от 0 до 279;\n",
    "* переставим столбцы местами – выбирем их в нужном порядке и перезаписываем `df`;"
   ]
  },
  {
   "cell_type": "code",
   "execution_count": 7,
   "metadata": {
    "colab": {
     "base_uri": "https://localhost:8080/",
     "height": 424
    },
    "id": "EW0HrUhVpjg5",
    "outputId": "3a5defa6-40d8-4d5a-c1c0-b654ccebac33"
   },
   "outputs": [
    {
     "data": {
      "text/html": [
       "<div>\n",
       "<style scoped>\n",
       "    .dataframe tbody tr th:only-of-type {\n",
       "        vertical-align: middle;\n",
       "    }\n",
       "\n",
       "    .dataframe tbody tr th {\n",
       "        vertical-align: top;\n",
       "    }\n",
       "\n",
       "    .dataframe thead th {\n",
       "        text-align: right;\n",
       "    }\n",
       "</style>\n",
       "<table border=\"1\" class=\"dataframe\">\n",
       "  <thead>\n",
       "    <tr style=\"text-align: right;\">\n",
       "      <th></th>\n",
       "      <th>date</th>\n",
       "      <th>yes</th>\n",
       "      <th>no</th>\n",
       "      <th>no answer</th>\n",
       "    </tr>\n",
       "  </thead>\n",
       "  <tbody>\n",
       "    <tr>\n",
       "      <th>0</th>\n",
       "      <td>08.1999</td>\n",
       "      <td>31</td>\n",
       "      <td>33</td>\n",
       "      <td>37</td>\n",
       "    </tr>\n",
       "    <tr>\n",
       "      <th>1</th>\n",
       "      <td>09.1999</td>\n",
       "      <td>53</td>\n",
       "      <td>27</td>\n",
       "      <td>20</td>\n",
       "    </tr>\n",
       "    <tr>\n",
       "      <th>2</th>\n",
       "      <td>10.1999</td>\n",
       "      <td>65</td>\n",
       "      <td>20</td>\n",
       "      <td>15</td>\n",
       "    </tr>\n",
       "    <tr>\n",
       "      <th>3</th>\n",
       "      <td>11.1999</td>\n",
       "      <td>80</td>\n",
       "      <td>12</td>\n",
       "      <td>8</td>\n",
       "    </tr>\n",
       "    <tr>\n",
       "      <th>4</th>\n",
       "      <td>12.1999</td>\n",
       "      <td>79</td>\n",
       "      <td>13</td>\n",
       "      <td>8</td>\n",
       "    </tr>\n",
       "    <tr>\n",
       "      <th>...</th>\n",
       "      <td>...</td>\n",
       "      <td>...</td>\n",
       "      <td>...</td>\n",
       "      <td>...</td>\n",
       "    </tr>\n",
       "    <tr>\n",
       "      <th>279</th>\n",
       "      <td>01.2023</td>\n",
       "      <td>82</td>\n",
       "      <td>16</td>\n",
       "      <td>2</td>\n",
       "    </tr>\n",
       "    <tr>\n",
       "      <th>280</th>\n",
       "      <td>02.2023</td>\n",
       "      <td>83</td>\n",
       "      <td>14</td>\n",
       "      <td>2</td>\n",
       "    </tr>\n",
       "    <tr>\n",
       "      <th>281</th>\n",
       "      <td>03.2023</td>\n",
       "      <td>82</td>\n",
       "      <td>15</td>\n",
       "      <td>3</td>\n",
       "    </tr>\n",
       "    <tr>\n",
       "      <th>282</th>\n",
       "      <td>04.2023</td>\n",
       "      <td>83</td>\n",
       "      <td>14</td>\n",
       "      <td>3</td>\n",
       "    </tr>\n",
       "    <tr>\n",
       "      <th>283</th>\n",
       "      <td>05.2023</td>\n",
       "      <td>82</td>\n",
       "      <td>15</td>\n",
       "      <td>2</td>\n",
       "    </tr>\n",
       "  </tbody>\n",
       "</table>\n",
       "<p>284 rows × 4 columns</p>\n",
       "</div>"
      ],
      "text/plain": [
       "        date  yes  no  no answer\n",
       "0    08.1999   31  33         37\n",
       "1    09.1999   53  27         20\n",
       "2    10.1999   65  20         15\n",
       "3    11.1999   80  12          8\n",
       "4    12.1999   79  13          8\n",
       "..       ...  ...  ..        ...\n",
       "279  01.2023   82  16          2\n",
       "280  02.2023   83  14          2\n",
       "281  03.2023   82  15          3\n",
       "282  04.2023   83  14          3\n",
       "283  05.2023   82  15          2\n",
       "\n",
       "[284 rows x 4 columns]"
      ]
     },
     "execution_count": 7,
     "metadata": {},
     "output_type": "execute_result"
    }
   ],
   "source": [
    "df.columns = [\"yes\", \"no\", \"no answer\"]\n",
    "df[\"date\"] = df.index\n",
    "df.index = range(0, 284) \n",
    "df = df[[\"date\", \"yes\", \"no\", \"no answer\"]]\n",
    "df"
   ]
  },
  {
   "cell_type": "markdown",
   "metadata": {
    "id": "fI4q8fExLaGJ"
   },
   "source": [
    "Проверим типы столбцов:"
   ]
  },
  {
   "cell_type": "code",
   "execution_count": 8,
   "metadata": {
    "colab": {
     "base_uri": "https://localhost:8080/"
    },
    "id": "5uRoBmkbr1-q",
    "outputId": "ec6bab90-ff41-4418-e852-3d957646e1d8"
   },
   "outputs": [
    {
     "name": "stdout",
     "output_type": "stream",
     "text": [
      "<class 'pandas.core.frame.DataFrame'>\n",
      "RangeIndex: 284 entries, 0 to 283\n",
      "Data columns (total 4 columns):\n",
      " #   Column     Non-Null Count  Dtype \n",
      "---  ------     --------------  ----- \n",
      " 0   date       284 non-null    object\n",
      " 1   yes        284 non-null    int64 \n",
      " 2   no         284 non-null    int64 \n",
      " 3   no answer  284 non-null    int64 \n",
      "dtypes: int64(3), object(1)\n",
      "memory usage: 9.0+ KB\n"
     ]
    }
   ],
   "source": [
    "df.info()"
   ]
  },
  {
   "cell_type": "markdown",
   "metadata": {
    "id": "ikR5ugSYLkku"
   },
   "source": [
    "Все отлично, числовые данные сохранены как целые числа, но дату стоит перевести в специальный формат `datetime`, иначе сортировать данные и визуализировать их будет сложно – текст с датами не будет упорядочиваться хронологически. Воспользуемся функцией `to_datetime()` и укажем, в каком формате у нас сохранены даты (про форматы и соответствующие аббревиатуры можно почитать [здесь](https://docs.python.org/3/library/datetime.html#strftime-and-strptime-behavior)):"
   ]
  },
  {
   "cell_type": "code",
   "execution_count": 9,
   "metadata": {
    "id": "k812HffNr_Qx"
   },
   "outputs": [],
   "source": [
    "# format: в каком формате даты в строке\n",
    "# %m - шаблон для месяцев в числовом виде\n",
    "# %Y – шаблон для лет в числовом виде (Y - 4 цифры, y – 2 цифры)\n",
    "\n",
    "df[\"date\"] = pd.to_datetime(df[\"date\"], format = \"%m.%Y\")"
   ]
  },
  {
   "cell_type": "markdown",
   "metadata": {},
   "source": [
    "Тип столбца изменился:"
   ]
  },
  {
   "cell_type": "code",
   "execution_count": 10,
   "metadata": {},
   "outputs": [
    {
     "name": "stdout",
     "output_type": "stream",
     "text": [
      "<class 'pandas.core.frame.DataFrame'>\n",
      "RangeIndex: 284 entries, 0 to 283\n",
      "Data columns (total 4 columns):\n",
      " #   Column     Non-Null Count  Dtype         \n",
      "---  ------     --------------  -----         \n",
      " 0   date       284 non-null    datetime64[ns]\n",
      " 1   yes        284 non-null    int64         \n",
      " 2   no         284 non-null    int64         \n",
      " 3   no answer  284 non-null    int64         \n",
      "dtypes: datetime64[ns](1), int64(3)\n",
      "memory usage: 9.0 KB\n"
     ]
    }
   ],
   "source": [
    "df.info()"
   ]
  },
  {
   "cell_type": "markdown",
   "metadata": {},
   "source": [
    "И для определенности к каждой дате (а у нас был только месяц и год) приписалось число – первый день месяца:"
   ]
  },
  {
   "cell_type": "code",
   "execution_count": 11,
   "metadata": {},
   "outputs": [
    {
     "data": {
      "text/html": [
       "<div>\n",
       "<style scoped>\n",
       "    .dataframe tbody tr th:only-of-type {\n",
       "        vertical-align: middle;\n",
       "    }\n",
       "\n",
       "    .dataframe tbody tr th {\n",
       "        vertical-align: top;\n",
       "    }\n",
       "\n",
       "    .dataframe thead th {\n",
       "        text-align: right;\n",
       "    }\n",
       "</style>\n",
       "<table border=\"1\" class=\"dataframe\">\n",
       "  <thead>\n",
       "    <tr style=\"text-align: right;\">\n",
       "      <th></th>\n",
       "      <th>date</th>\n",
       "      <th>yes</th>\n",
       "      <th>no</th>\n",
       "      <th>no answer</th>\n",
       "    </tr>\n",
       "  </thead>\n",
       "  <tbody>\n",
       "    <tr>\n",
       "      <th>0</th>\n",
       "      <td>1999-08-01</td>\n",
       "      <td>31</td>\n",
       "      <td>33</td>\n",
       "      <td>37</td>\n",
       "    </tr>\n",
       "    <tr>\n",
       "      <th>1</th>\n",
       "      <td>1999-09-01</td>\n",
       "      <td>53</td>\n",
       "      <td>27</td>\n",
       "      <td>20</td>\n",
       "    </tr>\n",
       "    <tr>\n",
       "      <th>2</th>\n",
       "      <td>1999-10-01</td>\n",
       "      <td>65</td>\n",
       "      <td>20</td>\n",
       "      <td>15</td>\n",
       "    </tr>\n",
       "    <tr>\n",
       "      <th>3</th>\n",
       "      <td>1999-11-01</td>\n",
       "      <td>80</td>\n",
       "      <td>12</td>\n",
       "      <td>8</td>\n",
       "    </tr>\n",
       "    <tr>\n",
       "      <th>4</th>\n",
       "      <td>1999-12-01</td>\n",
       "      <td>79</td>\n",
       "      <td>13</td>\n",
       "      <td>8</td>\n",
       "    </tr>\n",
       "  </tbody>\n",
       "</table>\n",
       "</div>"
      ],
      "text/plain": [
       "        date  yes  no  no answer\n",
       "0 1999-08-01   31  33         37\n",
       "1 1999-09-01   53  27         20\n",
       "2 1999-10-01   65  20         15\n",
       "3 1999-11-01   80  12          8\n",
       "4 1999-12-01   79  13          8"
      ]
     },
     "execution_count": 11,
     "metadata": {},
     "output_type": "execute_result"
    }
   ],
   "source": [
    "df.head()"
   ]
  },
  {
   "cell_type": "markdown",
   "metadata": {
    "id": "1gtiUDLKMn2l"
   },
   "source": [
    "Проверим, что при визуализации динамики все будет в порядке, хронология не будет нарушена. Построим маленький базовый график с помощью функции `plot()`, без особых настроек, для примера. Импортируем модуль `pyplot`:"
   ]
  },
  {
   "cell_type": "code",
   "execution_count": 12,
   "metadata": {
    "id": "6bWX-roFsUdQ"
   },
   "outputs": [],
   "source": [
    "from matplotlib import pyplot as plt"
   ]
  },
  {
   "cell_type": "markdown",
   "metadata": {
    "id": "wPJeLenUMwYG"
   },
   "source": [
    "Давайте в одной координатной плоскости построим сразу два графика – покажем динамику для процента одобряющих и неодобряющих деятельность Владимира Путина:"
   ]
  },
  {
   "cell_type": "code",
   "execution_count": 13,
   "metadata": {
    "colab": {
     "base_uri": "https://localhost:8080/",
     "height": 283
    },
    "id": "Nc-pcM6ptHg5",
    "outputId": "4e6ae9dc-9295-4174-83d6-6ace24bf06db"
   },
   "outputs": [
    {
     "name": "stderr",
     "output_type": "stream",
     "text": [
      "/opt/anaconda3/lib/python3.7/site-packages/matplotlib/cbook/__init__.py:1402: FutureWarning: Support for multi-dimensional indexing (e.g. `obj[:, None]`) is deprecated and will be removed in a future version.  Convert to a numpy array before indexing instead.\n",
      "  x[:, None]\n",
      "/opt/anaconda3/lib/python3.7/site-packages/matplotlib/cbook/__init__.py:1402: FutureWarning: Support for multi-dimensional indexing (e.g. `obj[:, None]`) is deprecated and will be removed in a future version.  Convert to a numpy array before indexing instead.\n",
      "  x[:, None]\n",
      "/opt/anaconda3/lib/python3.7/site-packages/matplotlib/axes/_base.py:276: FutureWarning: Support for multi-dimensional indexing (e.g. `obj[:, None]`) is deprecated and will be removed in a future version.  Convert to a numpy array before indexing instead.\n",
      "  x = x[:, np.newaxis]\n",
      "/opt/anaconda3/lib/python3.7/site-packages/matplotlib/axes/_base.py:278: FutureWarning: Support for multi-dimensional indexing (e.g. `obj[:, None]`) is deprecated and will be removed in a future version.  Convert to a numpy array before indexing instead.\n",
      "  y = y[:, np.newaxis]\n",
      "/opt/anaconda3/lib/python3.7/site-packages/matplotlib/cbook/__init__.py:1402: FutureWarning: Support for multi-dimensional indexing (e.g. `obj[:, None]`) is deprecated and will be removed in a future version.  Convert to a numpy array before indexing instead.\n",
      "  x[:, None]\n",
      "/opt/anaconda3/lib/python3.7/site-packages/matplotlib/axes/_base.py:276: FutureWarning: Support for multi-dimensional indexing (e.g. `obj[:, None]`) is deprecated and will be removed in a future version.  Convert to a numpy array before indexing instead.\n",
      "  x = x[:, np.newaxis]\n",
      "/opt/anaconda3/lib/python3.7/site-packages/matplotlib/axes/_base.py:278: FutureWarning: Support for multi-dimensional indexing (e.g. `obj[:, None]`) is deprecated and will be removed in a future version.  Convert to a numpy array before indexing instead.\n",
      "  y = y[:, np.newaxis]\n"
     ]
    },
    {
     "data": {
      "text/plain": [
       "<matplotlib.legend.Legend at 0x12004dad0>"
      ]
     },
     "execution_count": 13,
     "metadata": {},
     "output_type": "execute_result"
    },
    {
     "data": {
      "image/png": "[encoded data removed]",
      "text/plain": [
       "<Figure size 432x288 with 1 Axes>"
      ]
     },
     "metadata": {
      "needs_background": "light"
     },
     "output_type": "display_data"
    }
   ],
   "source": [
    "# label – чтобы назвать каждый график и отразить это в легенде\n",
    "\n",
    "plt.plot(df[\"date\"], df[\"yes\"], label = \"Approve\")\n",
    "plt.plot(df[\"date\"], df[\"no\"], label = \"Don't approve\")\n",
    "plt.legend()"
   ]
  },
  {
   "cell_type": "markdown",
   "metadata": {},
   "source": [
    "Отлично! График готов, похож на аналогичный график на сайте Левада-Центра. Конечно, размер и масштаб у этого графика не очень подходящие, но это всегда можно исправить (см. материалы по визуализации [здесь](http://math-info.hse.ru/s22/d))."
   ]
  }
 ],
 "metadata": {
  "colab": {
   "provenance": []
  },
  "kernelspec": {
   "display_name": "Python 3",
   "language": "python",
   "name": "python3"
  },
  "language_info": {
   "codemirror_mode": {
    "name": "ipython",
    "version": 3
   },
   "file_extension": ".py",
   "mimetype": "text/x-python",
   "name": "python",
   "nbconvert_exporter": "python",
   "pygments_lexer": "ipython3",
   "version": "3.7.4"
  }
 },
 "nbformat": 4,
 "nbformat_minor": 1
}
