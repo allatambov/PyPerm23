{
 "cells": [
  {
   "cell_type": "markdown",
   "metadata": {},
   "source": [
    "# Программирование на Python \n",
    "*Алла Тамбовцева, НИУ ВШЭ*\n",
    "\n",
    "## Практикум 7: функции"
   ]
  },
  {
   "cell_type": "markdown",
   "metadata": {},
   "source": [
    "### Задача 1\n",
    "\n",
    "Напишите функцию `nums()`, которая принимает на вход целое число, а возвращает список из двух элементов: целое число, предшествующее принятому на вход, и число, следующее за ним.\n",
    "\n",
    "**Пример:**\n",
    "\n",
    "*Входные данные:*\n",
    "\n",
    "    7\n",
    "\n",
    "*Выходные данные:*\n",
    "\n",
    "    [6, 8]"
   ]
  },
  {
   "cell_type": "code",
   "execution_count": 1,
   "metadata": {},
   "outputs": [],
   "source": [
    "def nums(n):\n",
    "    return [n-1, n+1]"
   ]
  },
  {
   "cell_type": "code",
   "execution_count": 2,
   "metadata": {},
   "outputs": [
    {
     "data": {
      "text/plain": [
       "[-1, 1]"
      ]
     },
     "execution_count": 2,
     "metadata": {},
     "output_type": "execute_result"
    }
   ],
   "source": [
    "nums(0)"
   ]
  },
  {
   "cell_type": "code",
   "execution_count": 3,
   "metadata": {},
   "outputs": [],
   "source": [
    "nums = lambda n: [n - 1, n + 1]"
   ]
  },
  {
   "cell_type": "code",
   "execution_count": 4,
   "metadata": {},
   "outputs": [
    {
     "data": {
      "text/plain": [
       "[-1, 1]"
      ]
     },
     "execution_count": 4,
     "metadata": {},
     "output_type": "execute_result"
    }
   ],
   "source": [
    "nums(0)"
   ]
  },
  {
   "cell_type": "markdown",
   "metadata": {},
   "source": [
    "### Задача 2\n",
    "\n",
    "Напишите функцию `str_lower()`, которая принимает на вход строку (набор слов через пробел), а возвращает список ее элементов в нижнем регистре. \n",
    "\n",
    "**Пример:**\n",
    "\n",
    "*Входные данные:*\n",
    "\n",
    "    \"В лесу родилась ёлочка В лесу она росла\"\n",
    "\n",
    "*Выходные данные:*\n",
    "\n",
    "    ['в', 'лесу', 'родилась', 'ёлочка', 'в', 'лесу', 'она', 'росла']"
   ]
  },
  {
   "cell_type": "code",
   "execution_count": 5,
   "metadata": {},
   "outputs": [],
   "source": [
    "def str_lower(w):\n",
    "    w = w.lower()\n",
    "    return w.split()"
   ]
  },
  {
   "cell_type": "code",
   "execution_count": 6,
   "metadata": {},
   "outputs": [
    {
     "data": {
      "text/plain": [
       "['в', 'лесу', 'родилась', 'ёлочка', 'в', 'лесу', 'она', 'росла']"
      ]
     },
     "execution_count": 6,
     "metadata": {},
     "output_type": "execute_result"
    }
   ],
   "source": [
    "str_lower(\"В лесу родилась ёлочка В лесу она росла\")"
   ]
  },
  {
   "cell_type": "markdown",
   "metadata": {},
   "source": [
    "### Задача 3\n",
    "\n",
    "Напишите функцию `my_log()`, которая принимает на вход список чисел, и возвращает список их натуральных логарифмов. Если число меньше или равно 0, на его месте в возвращаемом списке должно быть None.\n",
    "\n",
    "**Пример:**\n",
    "\n",
    "*Входные данные:*\n",
    "\n",
    "    [1, 3, 2.5, -1, 9, 0, 2.71]\n",
    "\n",
    "*Выходные данные:*\n",
    "\n",
    "    [0.0,\n",
    "     1.0986122886681098,\n",
    "     0.9162907318741551,\n",
    "     None,\n",
    "     2.1972245773362196,\n",
    "     None,\n",
    "     0.9969486348916096]"
   ]
  },
  {
   "cell_type": "code",
   "execution_count": 7,
   "metadata": {},
   "outputs": [],
   "source": [
    "import math\n",
    "\n",
    "def my_log(arr):\n",
    "    new_arr = []\n",
    "    for i in arr:\n",
    "        if i <= 0:\n",
    "            new_arr.append(None)\n",
    "        else:\n",
    "            new_arr.append(math.log(i))\n",
    "    return new_arr"
   ]
  },
  {
   "cell_type": "code",
   "execution_count": 11,
   "metadata": {},
   "outputs": [],
   "source": [
    "import math\n",
    "\n",
    "def my_log(arr):\n",
    "    new = list(map(lambda x: None if x <= 0 else math.log(x), arr))\n",
    "    return new"
   ]
  },
  {
   "cell_type": "code",
   "execution_count": 12,
   "metadata": {},
   "outputs": [
    {
     "data": {
      "text/plain": [
       "[0.0,\n",
       " 1.0986122886681098,\n",
       " 0.9162907318741551,\n",
       " None,\n",
       " 2.1972245773362196,\n",
       " None,\n",
       " 0.9969486348916096]"
      ]
     },
     "execution_count": 12,
     "metadata": {},
     "output_type": "execute_result"
    }
   ],
   "source": [
    "my_log([1, 3, 2.5, -1, 9, 0, 2.71])"
   ]
  },
  {
   "cell_type": "markdown",
   "metadata": {},
   "source": [
    "### Задача 4\n",
    "\n",
    "Напишите функцию, которая принимает на вход два списка (имена людей и их возраст) и делает следующее:\n",
    "\n",
    "* если эти два списка имеют одинаковую длину, то возвращает словарь с парами имя-возраст;\n",
    "\n",
    "* если эти два списка имеют разную длину, то функция выводит на экран сообщение \"Списки имеют разную длину\" и возвращает пустой словарь.\n",
    "\n",
    "**Пример:**\n",
    "\n",
    "*Входные данные:*\n",
    "\n",
    "    [\"Ann\", \"Tim\", \"Sam\"]\n",
    "    [12, 23, 17]\n",
    "\n",
    "*Выходные данные:*\n",
    "\n",
    "    {\"Ann\": 12, \"Tim\": 23, \"Sam\": 17}\n",
    "\n",
    "*Входные данные:*\n",
    "\n",
    "    [\"Ann\", \"Tim\", \"Sam\"]\n",
    "    [12, 23, 17, 45]\n",
    "\n",
    "*Выходные данные:*\n",
    "    \n",
    "    Списки имеют разную длину\n",
    "    {}"
   ]
  },
  {
   "cell_type": "code",
   "execution_count": 13,
   "metadata": {},
   "outputs": [],
   "source": [
    "def get_info(names, ages):\n",
    "    if len(names) != len(ages):\n",
    "        d = {}\n",
    "        print(\"Списки имеют разную длину\")\n",
    "    else:\n",
    "        d = dict(zip(names, ages))\n",
    "    return d"
   ]
  },
  {
   "cell_type": "code",
   "execution_count": 15,
   "metadata": {},
   "outputs": [
    {
     "data": {
      "text/plain": [
       "{'Ann': 12, 'Tim': 23, 'Sam': 17}"
      ]
     },
     "execution_count": 15,
     "metadata": {},
     "output_type": "execute_result"
    }
   ],
   "source": [
    "get_info([\"Ann\", \"Tim\", \"Sam\"], [12, 23, 17])"
   ]
  },
  {
   "cell_type": "code",
   "execution_count": 16,
   "metadata": {},
   "outputs": [],
   "source": [
    "def get_info(names, ages):\n",
    "    if len(names) != len(ages):\n",
    "        print(\"Списки имеют разную длину\")\n",
    "        return {}\n",
    "    else:\n",
    "        return dict(zip(names, ages))"
   ]
  },
  {
   "cell_type": "markdown",
   "metadata": {},
   "source": [
    "### Задача 5\n",
    "\n",
    "Напишите функцию `binom_prob()`, которая считает вероятность того, что проведя `n` испытаний Бернулли с вероятностью успеха `p`, мы получим ровно `k` успехов. Эта функция принимает на вход три аргумента: `p`, `n` и `k` и возвращает такой результат:\n",
    "\n",
    "$P(X = k) = C_n^k \\cdot p^k \\cdot (1-p)^{n-k}$."
   ]
  },
  {
   "cell_type": "code",
   "execution_count": 17,
   "metadata": {},
   "outputs": [],
   "source": [
    "def factorial(n):\n",
    "    f = 1\n",
    "    for i in range(2, n + 1):\n",
    "        f *= i\n",
    "    return f\n",
    "\n",
    "def binom(n, k):\n",
    "    return factorial(n) // ((factorial(k) * factorial(n - k)))"
   ]
  },
  {
   "cell_type": "code",
   "execution_count": 19,
   "metadata": {},
   "outputs": [],
   "source": [
    "def binom_prob(p, n, k):\n",
    "    return binom(n, k) * p ** k * (1 - p) ** (n - k)"
   ]
  },
  {
   "cell_type": "code",
   "execution_count": 20,
   "metadata": {},
   "outputs": [
    {
     "data": {
      "text/plain": [
       "0.0439453125"
      ]
     },
     "execution_count": 20,
     "metadata": {},
     "output_type": "execute_result"
    }
   ],
   "source": [
    "binom_prob(0.5, 10, 2)"
   ]
  }
 ],
 "metadata": {
  "kernelspec": {
   "display_name": "Python 3",
   "language": "python",
   "name": "python3"
  },
  "language_info": {
   "codemirror_mode": {
    "name": "ipython",
    "version": 3
   },
   "file_extension": ".py",
   "mimetype": "text/x-python",
   "name": "python",
   "nbconvert_exporter": "python",
   "pygments_lexer": "ipython3",
   "version": "3.7.4"
  }
 },
 "nbformat": 4,
 "nbformat_minor": 2
}
