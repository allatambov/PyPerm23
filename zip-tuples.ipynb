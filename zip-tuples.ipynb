{
 "cells": [
  {
   "cell_type": "markdown",
   "metadata": {},
   "source": [
    "# Программирование на Python\n",
    "\n",
    "*Алла Тамбовцева*\n",
    "\n",
    "## Функция `zip()` и кортежи"
   ]
  },
  {
   "cell_type": "markdown",
   "metadata": {},
   "source": [
    "### Функция `zip()`"
   ]
  },
  {
   "cell_type": "markdown",
   "metadata": {},
   "source": [
    "Как работать с одним списком мы уже знаем – можно, например, перебирать его элементы с помощью цикла `for` и выполнять с ними какие-то действия. А как быть, если у нас есть несколько списков одинаковой длины, и мы хотим работать одновременно с первыми элементами всех списков, вторыми элементами всех списков, третьими элементами всех списков, и так далее? \n",
    "\n",
    "Логичное решение – делать перебор не самих элементов списков, а их индексов. Для примера рассмотрим такую задачу. В списках `problem01` и `problem02` хранятся баллы за первую и вторую задачу самостоятельной работы одних и тех же пяти студентов:"
   ]
  },
  {
   "cell_type": "code",
   "execution_count": 1,
   "metadata": {},
   "outputs": [],
   "source": [
    "problem01 = [5, 0, 2, 5, 1]\n",
    "problem02 = [0, 1, 5, 3, 5]"
   ]
  },
  {
   "cell_type": "markdown",
   "metadata": {},
   "source": [
    "Нам нужно посчитать сумму баллов за два задания для каждого студента. Чтобы это сделать, мы должны первый элемент списка `problem01` сложить с первым элементом списка `problem02`, второй элемент списка `problem01` сложить со вторым элементом списка `problem02`, и так далее. Всего мы должны выполнить сложение пять раз – длины списков одинаковы и равны 5. \n",
    "\n",
    "Чтобы универсальным образом (работающим не только для списков из пяти элементов) получить набор индексов, нам понадобятся функции `range()` и `len()`:"
   ]
  },
  {
   "cell_type": "code",
   "execution_count": 2,
   "metadata": {},
   "outputs": [
    {
     "name": "stdout",
     "output_type": "stream",
     "text": [
      "[0, 1, 2, 3, 4]\n"
     ]
    }
   ],
   "source": [
    "# индексы элементов\n",
    "\n",
    "print(list(range(len(problem01))))"
   ]
  },
  {
   "cell_type": "markdown",
   "metadata": {},
   "source": [
    "Используя эти индексы, мы сможем перебрать элементы сразу в двух списках:"
   ]
  },
  {
   "cell_type": "code",
   "execution_count": 3,
   "metadata": {},
   "outputs": [
    {
     "name": "stdout",
     "output_type": "stream",
     "text": [
      "5 0\n",
      "0 1\n",
      "2 5\n",
      "5 3\n",
      "1 5\n"
     ]
    }
   ],
   "source": [
    "# на первом шаге i=0, первые элементы\n",
    "# на втором шаге i=1, вторые элементы...\n",
    "\n",
    "for i in range(len(problem01)):\n",
    "    print(problem01[i], problem02[i])"
   ]
  },
  {
   "cell_type": "markdown",
   "metadata": {},
   "source": [
    "Осталось только сложить баллы за два задания:"
   ]
  },
  {
   "cell_type": "code",
   "execution_count": 4,
   "metadata": {},
   "outputs": [
    {
     "name": "stdout",
     "output_type": "stream",
     "text": [
      "5\n",
      "1\n",
      "7\n",
      "8\n",
      "6\n"
     ]
    }
   ],
   "source": [
    "for i in range(len(problem01)):\n",
    "    print(problem01[i] + problem02[i])"
   ]
  },
  {
   "cell_type": "markdown",
   "metadata": {},
   "source": [
    "Ура, получилось!\n",
    "\n",
    "Однако для этой задачи можно найти и более изящное решение – при работе в Python стараются избегать перебора элементов по индексам. Для этого решения нам понадобится функция `zip()`. Название этой функции говорящее – она как «молния» на одежде соединяет списки одинаковой длины, образуя пары/тройки/четверки элементов, в зависимости от количества списков:"
   ]
  },
  {
   "cell_type": "code",
   "execution_count": 5,
   "metadata": {},
   "outputs": [
    {
     "name": "stdout",
     "output_type": "stream",
     "text": [
      "[(1, 10), (2, 20), (3, 30), (4, 40)]\n"
     ]
    }
   ],
   "source": [
    "L1 = [1, 2, 3, 4]\n",
    "L2 = [10, 20, 30, 40] \n",
    "\n",
    "# пары значений, первое из первого списка, второе – из второго\n",
    "# list() – как и в range() результаты zip() скрыты\n",
    "\n",
    "print(list(zip(L1, L2)))"
   ]
  },
  {
   "cell_type": "code",
   "execution_count": 6,
   "metadata": {},
   "outputs": [
    {
     "name": "stdout",
     "output_type": "stream",
     "text": [
      "[('Anna', 7, 'passed'), ('James', 2, 'failed'), ('Nick', 8, 'passed')]\n"
     ]
    }
   ],
   "source": [
    "names = [\"Anna\", \"James\", \"Nick\"]\n",
    "grades = [7, 2, 8]\n",
    "status = [\"passed\", \"failed\", \"passed\"]\n",
    "\n",
    "# тройки значений\n",
    "print(list(zip(names, grades, status)))"
   ]
  },
  {
   "cell_type": "markdown",
   "metadata": {},
   "source": [
    "Функция `zip()` создает специальный объект типа `zip()`, элементы которого, как и в случае с `range()`, нам не видны. Однако по сути этот объект представляет собой просто список, состоящий из кортежей (*tuples*). Про кортежи мы еще поговорим более подробно, пока достаточно понимать, что кортеж – это такой же набор элементов, как и список, только скобки у него круглые, и изменять его нельзя.\n",
    "\n",
    "Как нам использовать функцию `zip()` в нашей задаче? Для начала применим ее к спискам с оценками:"
   ]
  },
  {
   "cell_type": "code",
   "execution_count": 7,
   "metadata": {},
   "outputs": [
    {
     "name": "stdout",
     "output_type": "stream",
     "text": [
      "[(5, 0), (0, 1), (2, 5), (5, 3), (1, 5)]\n"
     ]
    }
   ],
   "source": [
    "print(list(zip(problem01, problem02)))"
   ]
  },
  {
   "cell_type": "markdown",
   "metadata": {},
   "source": [
    "Теперь сделаем перебор по полученному списку пар."
   ]
  },
  {
   "cell_type": "code",
   "execution_count": 8,
   "metadata": {},
   "outputs": [
    {
     "name": "stdout",
     "output_type": "stream",
     "text": [
      "5\n",
      "1\n",
      "7\n",
      "8\n",
      "6\n"
     ]
    }
   ],
   "source": [
    "for pair in zip(problem01, problem02):\n",
    "    print(pair[0] + pair[1])"
   ]
  },
  {
   "cell_type": "markdown",
   "metadata": {},
   "source": [
    "На самом деле можно сделать перебор еще изящнее. Python умеет выполнять перебор в цикле `for` сразу по нескольким элементам, если мы укажем их через запятую:"
   ]
  },
  {
   "cell_type": "code",
   "execution_count": 9,
   "metadata": {},
   "outputs": [
    {
     "name": "stdout",
     "output_type": "stream",
     "text": [
      "5 0\n",
      "0 1\n",
      "2 5\n",
      "5 3\n",
      "1 5\n"
     ]
    }
   ],
   "source": [
    "# p1 – всегда первый элемент в каждой паре\n",
    "# p2 – всегда второй элемент в каждой паре\n",
    "\n",
    "for p1, p2 in zip(problem01, problem02):\n",
    "    print(p1, p2)"
   ]
  },
  {
   "cell_type": "markdown",
   "metadata": {},
   "source": [
    "Как и в более простом цикле `for`, переменные перед `in` можно было назвать как угодно. Назовем их иначе и посчитаем сразу суммы значений: "
   ]
  },
  {
   "cell_type": "code",
   "execution_count": 10,
   "metadata": {},
   "outputs": [
    {
     "name": "stdout",
     "output_type": "stream",
     "text": [
      "5\n",
      "1\n",
      "7\n",
      "8\n",
      "6\n"
     ]
    }
   ],
   "source": [
    "for result1, result2 in zip(problem01, problem02):\n",
    "    print(result1 + result2)"
   ]
  },
  {
   "cell_type": "markdown",
   "metadata": {},
   "source": [
    "Готово! Результат такой же, как и в решении через индексы, но более аккуратный и без лишних нагромождений с `range()`, `len()` и квадратными скобками для вызова элементов."
   ]
  },
  {
   "cell_type": "markdown",
   "metadata": {},
   "source": [
    "## Кортежи (tuples)\n",
    "\n",
    "Кортежи встречаются не только в программировании, но и в математике. В математике под кортежем обычно понимают упорядоченную совокупность элементов, то есть совокупность, порядок элементов которой фиксирован. В кортеже мы точно знаем, какой элемент является первым, какой – вторым, и так далее.\n",
    "\n",
    "Внешне кортежи несильно отличаются от списков. Единственное внешнее отличие – элементы кортежа заключаются в круглые, а не в квадратные скобки."
   ]
  },
  {
   "cell_type": "code",
   "execution_count": 11,
   "metadata": {},
   "outputs": [],
   "source": [
    "t = (4, 0, 2, \"abc\")  "
   ]
  },
  {
   "cell_type": "markdown",
   "metadata": {},
   "source": [
    "К элементам кортежа можно обращаться точно так же, как к элементам списка:"
   ]
  },
  {
   "cell_type": "code",
   "execution_count": 12,
   "metadata": {},
   "outputs": [
    {
     "name": "stdout",
     "output_type": "stream",
     "text": [
      "4\n"
     ]
    }
   ],
   "source": [
    "print(t[0])"
   ]
  },
  {
   "cell_type": "markdown",
   "metadata": {},
   "source": [
    "Но, несмотря на кажущееся сходство, кортежи и списки – принципиально разные объекты. Главное отличие кортежей от списков заключается в том, что кортежи – неизменяемые объекты. Другими словами, изменять элементы кортежа нельзя. Проверим:"
   ]
  },
  {
   "cell_type": "code",
   "execution_count": 13,
   "metadata": {},
   "outputs": [
    {
     "ename": "TypeError",
     "evalue": "'tuple' object does not support item assignment",
     "output_type": "error",
     "traceback": [
      "\u001b[0;31m---------------------------------------------------------------------------\u001b[0m",
      "\u001b[0;31mTypeError\u001b[0m                                 Traceback (most recent call last)",
      "\u001b[0;32m<ipython-input-13-28b8e5df48e8>\u001b[0m in \u001b[0;36m<module>\u001b[0;34m\u001b[0m\n\u001b[0;32m----> 1\u001b[0;31m \u001b[0mt\u001b[0m\u001b[0;34m[\u001b[0m\u001b[0;36m0\u001b[0m\u001b[0;34m]\u001b[0m \u001b[0;34m=\u001b[0m \u001b[0;36m6\u001b[0m\u001b[0;34m\u001b[0m\u001b[0;34m\u001b[0m\u001b[0m\n\u001b[0m",
      "\u001b[0;31mTypeError\u001b[0m: 'tuple' object does not support item assignment"
     ]
    }
   ],
   "source": [
    "t[0] = 6"
   ]
  },
  {
   "cell_type": "markdown",
   "metadata": {},
   "source": [
    "Иногда это свойство бывает полезным (некоторая «защита» от изменений), иногда – не очень, но для нас пока важно познакомиться с разными объектами в Python, чтобы потом не удивляться. Ведь многие более продвинутые функции могут возвращать результат или, наоборот, принимать на вход только кортежи или только списки.\n",
    "\n",
    "При желании кортеж можно превратить в список:"
   ]
  },
  {
   "cell_type": "code",
   "execution_count": 14,
   "metadata": {},
   "outputs": [
    {
     "data": {
      "text/plain": [
       "[4, 0, 2, 'abc']"
      ]
     },
     "execution_count": 14,
     "metadata": {},
     "output_type": "execute_result"
    }
   ],
   "source": [
    "list(t)"
   ]
  },
  {
   "cell_type": "markdown",
   "metadata": {},
   "source": [
    "И наоборот:"
   ]
  },
  {
   "cell_type": "code",
   "execution_count": 15,
   "metadata": {},
   "outputs": [],
   "source": [
    "L = [5, 8, 1, -2] "
   ]
  },
  {
   "cell_type": "code",
   "execution_count": 16,
   "metadata": {},
   "outputs": [
    {
     "data": {
      "text/plain": [
       "(5, 8, 1, -2)"
      ]
     },
     "execution_count": 16,
     "metadata": {},
     "output_type": "execute_result"
    }
   ],
   "source": [
    "tuple(L)"
   ]
  },
  {
   "cell_type": "markdown",
   "metadata": {},
   "source": [
    "Если посмотреть на методы, применяемые к кортежам (например, набрать `t.` и нажать *Tab*), то можно заметить, что методов для кортежей сильно меньше по сравнению с методами для списков. "
   ]
  },
  {
   "cell_type": "code",
   "execution_count": 17,
   "metadata": {},
   "outputs": [
    {
     "name": "stdout",
     "output_type": "stream",
     "text": [
      "0\n"
     ]
    }
   ],
   "source": [
    "print(t.index(4)) # индекс элемента"
   ]
  },
  {
   "cell_type": "code",
   "execution_count": 18,
   "metadata": {},
   "outputs": [
    {
     "name": "stdout",
     "output_type": "stream",
     "text": [
      "1\n"
     ]
    }
   ],
   "source": [
    "print(t.count(2)) # считаем 2"
   ]
  },
  {
   "cell_type": "markdown",
   "metadata": {},
   "source": [
    "Во многом это связано с тем, что кортеж нельзя изменить. Но вот «склеивать» кортежи, создавая при этом новый, легко:"
   ]
  },
  {
   "cell_type": "code",
   "execution_count": 19,
   "metadata": {},
   "outputs": [
    {
     "name": "stdout",
     "output_type": "stream",
     "text": [
      "(1, 3, 7, 8)\n"
     ]
    }
   ],
   "source": [
    "res = (1, 3) + (7, 8)\n",
    "print(res)"
   ]
  }
 ],
 "metadata": {
  "kernelspec": {
   "display_name": "Python 3",
   "language": "python",
   "name": "python3"
  },
  "language_info": {
   "codemirror_mode": {
    "name": "ipython",
    "version": 3
   },
   "file_extension": ".py",
   "mimetype": "text/x-python",
   "name": "python",
   "nbconvert_exporter": "python",
   "pygments_lexer": "ipython3",
   "version": "3.7.4"
  }
 },
 "nbformat": 4,
 "nbformat_minor": 2
}
