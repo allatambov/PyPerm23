{
 "cells": [
  {
   "cell_type": "markdown",
   "metadata": {},
   "source": [
    "# Программирование на Python\n",
    "\n",
    "*Алла Тамбовцева, НИУ ВШЭ*\n",
    "\n",
    "## Практикум 5: множества и словари"
   ]
  },
  {
   "cell_type": "markdown",
   "metadata": {},
   "source": [
    "### Задача 1\n",
    "\n",
    "Реализуйте программу, которая помогает двум друзьям выбрать подходящее время для совместной поездки:\n",
    "\n",
    "* В переменную `months_vasya` считывается список названий месяцев (строки) — время, когда Вася может поехать в отпуск.\n",
    "* В переменную `months_dasha` считывается список названий месяцев (строки) — время, когда Даша может поехать в отпуск.\n",
    "* В переменную `bad_weather`  считывается список названий месяцев (строки) — время, когда в стране назначения плохая погода.\n",
    "* Гарантируется, что названия месяцев в каждом из трех списков уникальные и что в каждом списке есть как минимум одно название месяца.\n",
    "* Выведите через запятую с пробелом названия месяцев, в которые Вася и Даша могут вместе поехать в отпуск при условии, что в месте назначения не плохая погода. Названия отсортируйте в алфавитном порядке.\n",
    "\n",
    "**Для примера:**\n",
    "\n",
    "Ввод\n",
    "\n",
    "    январь март февраль ноябрь\n",
    "    январь февраль июль\n",
    "    ноябрь декабрь январь\n",
    "\n",
    "Результат\n",
    "\n",
    "    февраль\n",
    "\n",
    "Ввод\n",
    "\n",
    "    март\n",
    "    май\n",
    "    декабрь\n",
    "\n",
    "Результат\n",
    "\n",
    "    [ничего не выводится]\n",
    "\n",
    "Ввод\n",
    "\n",
    "    июнь июль август октябрь март\n",
    "    июль июнь август\n",
    "    октябрь ноябрь декабрь \n",
    "\n",
    "Результат\n",
    "\n",
    "    август, июль, июнь"
   ]
  },
  {
   "cell_type": "code",
   "execution_count": 1,
   "metadata": {},
   "outputs": [
    {
     "name": "stdout",
     "output_type": "stream",
     "text": [
      "июнь июль август октябрь март\n",
      "июль июнь август\n",
      "октябрь ноябрь декабрь\n",
      "август, июль, июнь\n"
     ]
    }
   ],
   "source": [
    "months_vasya = set(input().split())\n",
    "months_dasha = set(input().split())\n",
    "bad_weather = set(input().split())\n",
    "res = months_vasya.intersection(months_dasha).difference(bad_weather)\n",
    "print(\", \".join(sorted(res)))"
   ]
  },
  {
   "cell_type": "code",
   "execution_count": 2,
   "metadata": {},
   "outputs": [
    {
     "name": "stdout",
     "output_type": "stream",
     "text": [
      "август, июль, июнь\n"
     ]
    }
   ],
   "source": [
    "# альтернатива .join() – более универсальная\n",
    "print(*sorted(res), sep = \", \")"
   ]
  },
  {
   "cell_type": "markdown",
   "metadata": {},
   "source": [
    "### Задача 2\n",
    "\n",
    "Дан словарь с названиями разных рептилий:"
   ]
  },
  {
   "cell_type": "code",
   "execution_count": null,
   "metadata": {},
   "outputs": [],
   "source": [
    "rept = {\"python\" : \" питон\", \n",
    "        \"anaconda\" : \"анаконда\", \n",
    "        \"tortoize\" : \" черепаха\" }"
   ]
  },
  {
   "cell_type": "markdown",
   "metadata": {},
   "source": [
    "* Добавьте в словарь пару \"snake\"-\"змея\".\n",
    "* Исправьте ключ `\"tortoize\"` на правильный `\"tortoise\"`.\n",
    "* Для всех слов в словаре выведите на экран сообщения вида\n",
    "\n",
    "      Питон по-английски будет python."
   ]
  },
  {
   "cell_type": "code",
   "execution_count": 3,
   "metadata": {},
   "outputs": [
    {
     "name": "stdout",
     "output_type": "stream",
     "text": [
      "{'python': ' питон', 'anaconda': 'анаконда', 'tortoize': ' черепаха', 'snake': 'змея'}\n"
     ]
    }
   ],
   "source": [
    "#1\n",
    "rept = {\"python\" : \" питон\", \n",
    "        \"anaconda\" : \"анаконда\", \n",
    "        \"tortoize\" : \" черепаха\" }\n",
    "rept.update({\"snake\" : \"змея\"}) \n",
    "print(rept)"
   ]
  },
  {
   "cell_type": "code",
   "execution_count": 4,
   "metadata": {},
   "outputs": [
    {
     "name": "stdout",
     "output_type": "stream",
     "text": [
      "{'python': ' питон', 'anaconda': 'анаконда', 'snake': 'змея', 'tortoise': ' черепаха'}\n"
     ]
    }
   ],
   "source": [
    "#2\n",
    "old = rept.pop(\"tortoize\")\n",
    "rept.update({\"tortoise\" : old})\n",
    "print(rept)"
   ]
  },
  {
   "cell_type": "code",
   "execution_count": 5,
   "metadata": {},
   "outputs": [
    {
     "name": "stdout",
     "output_type": "stream",
     "text": [
      "Питон по-английски будет python.\n",
      "Анаконда по-английски будет anaconda.\n",
      "Змея по-английски будет snake.\n",
      "Черепаха по-английски будет tortoise.\n"
     ]
    }
   ],
   "source": [
    "#3\n",
    "for en, ru in rept.items():\n",
    "    print(f\"{ru.strip().capitalize()} по-английски будет {en}.\")"
   ]
  },
  {
   "cell_type": "markdown",
   "metadata": {},
   "source": [
    "### Задача 3\n",
    "\n",
    "В списке `cnt` хранятся названия стран, а в списке `ind` – значения некоторого индекса для этих стран. Создайте словарь, используя в качестве ключей названия стран, а в качестве значений – значения индекса."
   ]
  },
  {
   "cell_type": "code",
   "execution_count": 6,
   "metadata": {},
   "outputs": [
    {
     "name": "stdout",
     "output_type": "stream",
     "text": [
      "{'Andorra': 1.0, 'Belarus': 6.0, 'Denmark': 1.0, 'Kenya': 4.0, 'Jamaica': 2.5, 'Romania': 2.0}\n"
     ]
    }
   ],
   "source": [
    "cnt = [\"Andorra\", \"Belarus\", \"Denmark\", \n",
    "       \"Kenya\", \"Jamaica\", \"Romania\"]\n",
    "ind = [1.0, 6.0, 1.0, 4.0, 2.5, 2.0]\n",
    "\n",
    "D = dict(zip(cnt, ind))\n",
    "print(D)"
   ]
  },
  {
   "cell_type": "markdown",
   "metadata": {},
   "source": [
    "### Задача 4\n",
    "\n",
    "Дан список, состоящий из пар чисел:"
   ]
  },
  {
   "cell_type": "code",
   "execution_count": 7,
   "metadata": {},
   "outputs": [],
   "source": [
    "pairs = [(2, 4), (4, 6), (0, 1), (5, 2), (9, 1), (3, 8)]"
   ]
  },
  {
   "cell_type": "markdown",
   "metadata": {},
   "source": [
    "Создайте словарь `calc`, где ключами являются пары чисел, а значениями – их произведение."
   ]
  },
  {
   "cell_type": "code",
   "execution_count": 8,
   "metadata": {},
   "outputs": [
    {
     "name": "stdout",
     "output_type": "stream",
     "text": [
      "{(2, 4): 8, (4, 6): 24, (0, 1): 0, (5, 2): 10, (9, 1): 9, (3, 8): 24}\n"
     ]
    }
   ],
   "source": [
    "calc = {} # calc = dict()\n",
    "for p in pairs:\n",
    "    calc[p] = p[0] * p[1]\n",
    "print(calc)"
   ]
  },
  {
   "cell_type": "code",
   "execution_count": 9,
   "metadata": {},
   "outputs": [
    {
     "name": "stdout",
     "output_type": "stream",
     "text": [
      "[[2, 4], [4, 6], [0, 1], [5, 2], [9, 1], [3, 8]]\n"
     ]
    }
   ],
   "source": [
    "# важно: ключами словаря могут быть только неизменяемые типы\n",
    "# заменим кортежи на списки, уже ничего не получится\n",
    "\n",
    "pairs2 = [list(p) for p in pairs]\n",
    "print(pairs2)"
   ]
  },
  {
   "cell_type": "code",
   "execution_count": 10,
   "metadata": {},
   "outputs": [
    {
     "ename": "TypeError",
     "evalue": "unhashable type: 'list'",
     "output_type": "error",
     "traceback": [
      "\u001b[0;31m---------------------------------------------------------------------------\u001b[0m",
      "\u001b[0;31mTypeError\u001b[0m                                 Traceback (most recent call last)",
      "\u001b[0;32m<ipython-input-10-f6ee35ba9afa>\u001b[0m in \u001b[0;36m<module>\u001b[0;34m\u001b[0m\n\u001b[1;32m      1\u001b[0m \u001b[0mcalc\u001b[0m \u001b[0;34m=\u001b[0m \u001b[0;34m{\u001b[0m\u001b[0;34m}\u001b[0m\u001b[0;34m\u001b[0m\u001b[0;34m\u001b[0m\u001b[0m\n\u001b[1;32m      2\u001b[0m \u001b[0;32mfor\u001b[0m \u001b[0mp\u001b[0m \u001b[0;32min\u001b[0m \u001b[0mpairs2\u001b[0m\u001b[0;34m:\u001b[0m\u001b[0;34m\u001b[0m\u001b[0;34m\u001b[0m\u001b[0m\n\u001b[0;32m----> 3\u001b[0;31m     \u001b[0mcalc\u001b[0m\u001b[0;34m[\u001b[0m\u001b[0mp\u001b[0m\u001b[0;34m]\u001b[0m \u001b[0;34m=\u001b[0m \u001b[0mp\u001b[0m\u001b[0;34m[\u001b[0m\u001b[0;36m0\u001b[0m\u001b[0;34m]\u001b[0m \u001b[0;34m*\u001b[0m \u001b[0mp\u001b[0m\u001b[0;34m[\u001b[0m\u001b[0;36m1\u001b[0m\u001b[0;34m]\u001b[0m\u001b[0;34m\u001b[0m\u001b[0;34m\u001b[0m\u001b[0m\n\u001b[0m\u001b[1;32m      4\u001b[0m \u001b[0mprint\u001b[0m\u001b[0;34m(\u001b[0m\u001b[0mcalc\u001b[0m\u001b[0;34m)\u001b[0m\u001b[0;34m\u001b[0m\u001b[0;34m\u001b[0m\u001b[0m\n",
      "\u001b[0;31mTypeError\u001b[0m: unhashable type: 'list'"
     ]
    }
   ],
   "source": [
    "calc = {}\n",
    "for p in pairs2:\n",
    "    calc[p] = p[0] * p[1]\n",
    "print(calc)"
   ]
  },
  {
   "cell_type": "markdown",
   "metadata": {},
   "source": [
    "### Задача 5\n",
    "\n",
    "Дан словарь `grades` с оценками студентов за контрольную работу в 5-балльной шкале. Напишите код, который сделает следующее:\n",
    "\n",
    "* Выведет на экран имя каждого студента и его оценку (каждый студент – с новой строки).\n",
    "* Сохранит имена студентов, получивших отличные оценки, в список `excel`.\n",
    "* Сохранит имена студентов, получивших хорошие оценки, в список `good`.\n",
    "* Сохранит имена студентов, получивших удовлетворительные оценки, в список `satisf`.\n",
    "* Сохранит имена студентов, получивших плохие оценки, в список `bad`."
   ]
  },
  {
   "cell_type": "code",
   "execution_count": 11,
   "metadata": {},
   "outputs": [
    {
     "name": "stdout",
     "output_type": "stream",
     "text": [
      "Anna 4\n",
      "Bob 3\n",
      "Claire 5\n",
      "Dick 2\n",
      "Elena 5\n",
      "Fred 5\n",
      "George 4\n",
      "Kristina 3\n",
      "Nick 2\n",
      "Ursula 4\n",
      "Viktor 5\n"
     ]
    }
   ],
   "source": [
    "grades = {'Anna': 4, 'Bob': 3, 'Claire': 5, 'Dick': 2, 'Elena': 5, \n",
    "         'Fred': 5, 'George': 4, 'Kristina': 3, 'Nick': 2, \n",
    "         'Ursula': 4, 'Viktor': 5}\n",
    "\n",
    "excel = []\n",
    "good = []\n",
    "satisf = []\n",
    "bad = []\n",
    "\n",
    "for name, mark in grades.items():\n",
    "    print(name, mark)\n",
    "    if mark == 5:\n",
    "        excel.append(name)\n",
    "    elif mark == 4:\n",
    "        good.append(name)\n",
    "    elif mark == 3:\n",
    "        satisf.append(name)\n",
    "    else:\n",
    "        bad.append(name)"
   ]
  },
  {
   "cell_type": "code",
   "execution_count": 12,
   "metadata": {},
   "outputs": [
    {
     "name": "stdout",
     "output_type": "stream",
     "text": [
      "['Claire', 'Elena', 'Fred', 'Viktor']\n",
      "['Anna', 'George', 'Ursula']\n",
      "['Bob', 'Kristina']\n",
      "['Dick', 'Nick']\n"
     ]
    }
   ],
   "source": [
    "print(excel)\n",
    "print(good)\n",
    "print(satisf)\n",
    "print(bad)"
   ]
  }
 ],
 "metadata": {
  "kernelspec": {
   "display_name": "Python 3",
   "language": "python",
   "name": "python3"
  },
  "language_info": {
   "codemirror_mode": {
    "name": "ipython",
    "version": 3
   },
   "file_extension": ".py",
   "mimetype": "text/x-python",
   "name": "python",
   "nbconvert_exporter": "python",
   "pygments_lexer": "ipython3",
   "version": "3.7.4"
  }
 },
 "nbformat": 4,
 "nbformat_minor": 2
}
