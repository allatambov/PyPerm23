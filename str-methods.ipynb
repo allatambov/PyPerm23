{
 "cells": [
  {
   "cell_type": "markdown",
   "metadata": {},
   "source": [
    "# Программирование на Python\n",
    "\n",
    "*Алла Тамбовцева*\n",
    "\n",
    "## Методы на строках"
   ]
  },
  {
   "cell_type": "markdown",
   "metadata": {},
   "source": [
    "Рассмотрим некоторые полезные методы на строках, которые позволяют получить модифицированную копию строки. Почитать про все методы на строках можно [здесь](https://www.w3schools.com/python/python_ref_string.asp). \n",
    "\n",
    "Для экспериментов с различными методами создадим строку с осмысленным и актуальным текстом:"
   ]
  },
  {
   "cell_type": "code",
   "execution_count": 1,
   "metadata": {},
   "outputs": [
    {
     "name": "stdout",
     "output_type": "stream",
     "text": [
      "it is hard to make up texts in the morning\n"
     ]
    }
   ],
   "source": [
    "text = \"it is hard to make up texts in the morning\"\n",
    "print(text)"
   ]
  },
  {
   "cell_type": "markdown",
   "metadata": {},
   "source": [
    "Метод `.split()` позволяет разбить строку на список строк по некоторому разделителю. Очень полезный метод, особенно при обработке ввода с клавиатуры через `input()`, который всегда сохраняется как одна строка. По умолчанию, если разделитель не указан, разбиение производится по пробелу:"
   ]
  },
  {
   "cell_type": "code",
   "execution_count": 2,
   "metadata": {},
   "outputs": [
    {
     "name": "stdout",
     "output_type": "stream",
     "text": [
      "['it', 'is', 'hard', 'to', 'make', 'up', 'texts', 'in', 'the', 'morning']\n"
     ]
    }
   ],
   "source": [
    "# список слов\n",
    "\n",
    "words = text.split()\n",
    "print(words)"
   ]
  },
  {
   "cell_type": "markdown",
   "metadata": {},
   "source": [
    "Посмотрим на пример с другим разделителем – разобьем дату на части:"
   ]
  },
  {
   "cell_type": "code",
   "execution_count": 3,
   "metadata": {},
   "outputs": [
    {
     "name": "stdout",
     "output_type": "stream",
     "text": [
      "['15', '04', '2023']\n"
     ]
    }
   ],
   "source": [
    "date = \"15-04-2023\"\n",
    "print(date.split(\"-\"))"
   ]
  },
  {
   "cell_type": "markdown",
   "metadata": {},
   "source": [
    "Раз строку можно поделить на части, ее можно и собрать из частей. Для склеивания строк используется метод `.join()`. Этот метод применяется к строке с разделителем (он же «соединитель», по которому объединяются части), а в качестве аргумента могут использоваться последовательности разного вида, списки или кортежи:"
   ]
  },
  {
   "cell_type": "code",
   "execution_count": 4,
   "metadata": {},
   "outputs": [
    {
     "name": "stdout",
     "output_type": "stream",
     "text": [
      "one two three\n",
      "15/04/2023\n"
     ]
    }
   ],
   "source": [
    "print(\" \".join([\"one\", \"two\", \"three\"]))\n",
    "print(\"/\".join((\"15\", \"04\", \"2023\")))"
   ]
  },
  {
   "cell_type": "markdown",
   "metadata": {},
   "source": [
    "Метод `.capitalize()` делает первую букву строки заглавной (если на первом месте стоит другой символ – ничего не происходит), а метод `.title()` производит ту же операцию для каждого слова в строке."
   ]
  },
  {
   "cell_type": "code",
   "execution_count": 5,
   "metadata": {},
   "outputs": [
    {
     "name": "stdout",
     "output_type": "stream",
     "text": [
      "It is hard to make up texts in the morning\n"
     ]
    }
   ],
   "source": [
    "print(text.capitalize())"
   ]
  },
  {
   "cell_type": "code",
   "execution_count": 6,
   "metadata": {},
   "outputs": [
    {
     "name": "stdout",
     "output_type": "stream",
     "text": [
      "It Is Hard To Make Up Texts In The Morning\n"
     ]
    }
   ],
   "source": [
    "print(text.title())"
   ]
  },
  {
   "cell_type": "markdown",
   "metadata": {},
   "source": [
    "Обратите внимание: строки – неизменяемые объекты, поэтому все методы, направленные на изменение строки, на самом деле её не меняют, а возвращают изменённую копию. Если мы посмотрим на переменную `text`, мы увидим, что с текстом ничего не произошло:"
   ]
  },
  {
   "cell_type": "code",
   "execution_count": 7,
   "metadata": {},
   "outputs": [
    {
     "name": "stdout",
     "output_type": "stream",
     "text": [
      "it is hard to make up texts in the morning\n"
     ]
    }
   ],
   "source": [
    "print(text)"
   ]
  },
  {
   "cell_type": "markdown",
   "metadata": {},
   "source": [
    "Чтобы сохранить изменения, нужно переприсвоить `text` новое значение через `=`:"
   ]
  },
  {
   "cell_type": "code",
   "execution_count": 8,
   "metadata": {},
   "outputs": [
    {
     "name": "stdout",
     "output_type": "stream",
     "text": [
      "It is hard to make up texts in the morning\n"
     ]
    }
   ],
   "source": [
    "text = text.capitalize()\n",
    "print(text)"
   ]
  },
  {
   "cell_type": "markdown",
   "metadata": {},
   "source": [
    "В Python довольно много методов, которые позволяют работать с регистром строки (верхний регистр – заглавные буквы, нижний регистр – строчные буквы). Так, метод `.lower()` приводит всю строку к нижнему регистру, а метод `.upper()` – к верхнему."
   ]
  },
  {
   "cell_type": "code",
   "execution_count": 9,
   "metadata": {},
   "outputs": [
    {
     "name": "stdout",
     "output_type": "stream",
     "text": [
      "it is hard to make up texts in the morning\n"
     ]
    }
   ],
   "source": [
    "print(text.lower())"
   ]
  },
  {
   "cell_type": "code",
   "execution_count": 10,
   "metadata": {},
   "outputs": [
    {
     "name": "stdout",
     "output_type": "stream",
     "text": [
      "IT IS HARD TO MAKE UP TEXTS IN THE MORNING\n"
     ]
    }
   ],
   "source": [
    "print(text.upper())"
   ]
  },
  {
   "cell_type": "markdown",
   "metadata": {},
   "source": [
    "Кроме того, существует метод `.swapcase()`, он меняет регистр каждого символа – если буква заглавная, он делает её строчной, если строчная – заглавной:"
   ]
  },
  {
   "cell_type": "code",
   "execution_count": 11,
   "metadata": {},
   "outputs": [
    {
     "name": "stdout",
     "output_type": "stream",
     "text": [
      "iT IS HARD TO MAKE UP TEXTS IN THE MORNING\n"
     ]
    }
   ],
   "source": [
    "print(text.swapcase())"
   ]
  },
  {
   "cell_type": "markdown",
   "metadata": {},
   "source": [
    "Вот более яркий пример:"
   ]
  },
  {
   "cell_type": "code",
   "execution_count": 12,
   "metadata": {},
   "outputs": [
    {
     "name": "stdout",
     "output_type": "stream",
     "text": [
      "AbCdw\n"
     ]
    }
   ],
   "source": [
    "print(\"aBcDW\".swapcase())"
   ]
  },
  {
   "cell_type": "markdown",
   "metadata": {},
   "source": [
    "Если нам нужно заменить какой-то символ или подстроку в строке, пригодится метод `.replace()`."
   ]
  },
  {
   "cell_type": "code",
   "execution_count": 13,
   "metadata": {},
   "outputs": [
    {
     "name": "stdout",
     "output_type": "stream",
     "text": [
      "It is hard to read texts in the morning\n"
     ]
    }
   ],
   "source": [
    "# всё ещё актуально\n",
    "\n",
    "print(text.replace(\"make up\", \"read\"))"
   ]
  },
  {
   "cell_type": "markdown",
   "metadata": {},
   "source": [
    "При работе с реальными текстами также может понадобиться метод `.strip()`, он убирает лишние пробелы и отступы в начале и конце строки:"
   ]
  },
  {
   "cell_type": "code",
   "execution_count": 14,
   "metadata": {},
   "outputs": [
    {
     "data": {
      "text/plain": [
       "'hello'"
      ]
     },
     "execution_count": 14,
     "metadata": {},
     "output_type": "execute_result"
    }
   ],
   "source": [
    "s = \"  hello\\n\"\n",
    "s.strip()"
   ]
  },
  {
   "cell_type": "markdown",
   "metadata": {},
   "source": [
    "Но пробелы внутри строки этот метод не трогает:"
   ]
  },
  {
   "cell_type": "code",
   "execution_count": 15,
   "metadata": {},
   "outputs": [
    {
     "name": "stdout",
     "output_type": "stream",
     "text": [
      "It is hard to make up texts in the morning\n"
     ]
    }
   ],
   "source": [
    "print(text.strip())"
   ]
  },
  {
   "cell_type": "markdown",
   "metadata": {},
   "source": [
    "Некоторые методы на строках похожи на методы на списках и на кортежах. Действительно, кто мешает в последовательности символов найти нужные элементы или посчитать их количество:"
   ]
  },
  {
   "cell_type": "code",
   "execution_count": 16,
   "metadata": {},
   "outputs": [
    {
     "name": "stdout",
     "output_type": "stream",
     "text": [
      "6\n"
     ]
    }
   ],
   "source": [
    "print(text.index(\"h\")) # индекс буквы h"
   ]
  },
  {
   "cell_type": "code",
   "execution_count": 17,
   "metadata": {},
   "outputs": [
    {
     "name": "stdout",
     "output_type": "stream",
     "text": [
      "3\n"
     ]
    }
   ],
   "source": [
    "print(text.index(\"i\")) # индекс первой буквы i"
   ]
  },
  {
   "cell_type": "code",
   "execution_count": 18,
   "metadata": {},
   "outputs": [
    {
     "name": "stdout",
     "output_type": "stream",
     "text": [
      "5\n"
     ]
    }
   ],
   "source": [
    "print(text.count(\"t\")) # считаем буквы t"
   ]
  },
  {
   "cell_type": "markdown",
   "metadata": {},
   "source": [
    "А ещё есть методы, которые проверяют соответствие определённым условиям и возвращают ответ логического типа `True` или `False`:"
   ]
  },
  {
   "cell_type": "code",
   "execution_count": 19,
   "metadata": {},
   "outputs": [
    {
     "name": "stdout",
     "output_type": "stream",
     "text": [
      "True\n"
     ]
    }
   ],
   "source": [
    "print(text.startswith(\"I\")) # начинается ли с I"
   ]
  },
  {
   "cell_type": "code",
   "execution_count": 20,
   "metadata": {},
   "outputs": [
    {
     "name": "stdout",
     "output_type": "stream",
     "text": [
      "False\n"
     ]
    }
   ],
   "source": [
    "print(text.startswith(\"i\")) # начинается ли с i"
   ]
  },
  {
   "cell_type": "code",
   "execution_count": 21,
   "metadata": {},
   "outputs": [
    {
     "name": "stdout",
     "output_type": "stream",
     "text": [
      "False\n"
     ]
    }
   ],
   "source": [
    "print(text.isupper()) # все ли маленькими буквами"
   ]
  },
  {
   "cell_type": "markdown",
   "metadata": {},
   "source": [
    "Более специфический метод – метод `.isalnum()`, проверяет, правда ли строка является последовательностью исключительно из букв и цифр (*alpha* + *numeric*):"
   ]
  },
  {
   "cell_type": "code",
   "execution_count": 22,
   "metadata": {},
   "outputs": [
    {
     "name": "stdout",
     "output_type": "stream",
     "text": [
      "False\n"
     ]
    }
   ],
   "source": [
    "print(text.isalnum()) # есть пробелы"
   ]
  },
  {
   "cell_type": "code",
   "execution_count": 23,
   "metadata": {},
   "outputs": [
    {
     "name": "stdout",
     "output_type": "stream",
     "text": [
      "True\n"
     ]
    }
   ],
   "source": [
    "print(\"password1234\".isalnum()) # ok"
   ]
  },
  {
   "cell_type": "markdown",
   "metadata": {},
   "source": [
    "Похожий метод, только исключительно для цифр:"
   ]
  },
  {
   "cell_type": "code",
   "execution_count": 24,
   "metadata": {},
   "outputs": [
    {
     "name": "stdout",
     "output_type": "stream",
     "text": [
      "True\n"
     ]
    }
   ],
   "source": [
    "print(\"12340\".isnumeric())"
   ]
  },
  {
   "cell_type": "code",
   "execution_count": 25,
   "metadata": {},
   "outputs": [
    {
     "name": "stdout",
     "output_type": "stream",
     "text": [
      "False\n"
     ]
    }
   ],
   "source": [
    "print(\"12.67\".isnumeric())"
   ]
  },
  {
   "cell_type": "markdown",
   "metadata": {},
   "source": [
    "Ещё один полезный метод – метод `.zfill()`. Он расшифровывается как *fill with zeroes* и добавляет нули в начало строки, столько нулей, сколько нужно для получения строки заданной длины. Особенно актуален этот метод при работе с файлами. Если у нас есть 100 файлов с названиями вида `1.png`, `2.png`, `100.png`, правильно упорядочить по возрастанию их не получится: Python будет посимвольно сравнивать строки, и тогда файлы `1.png`, `10.png` и `100.png` окажутся рядом, что противоречит выбранной сортировке. Проверим:"
   ]
  },
  {
   "cell_type": "code",
   "execution_count": 26,
   "metadata": {},
   "outputs": [
    {
     "name": "stdout",
     "output_type": "stream",
     "text": [
      "['1.png', '10.png', '100.png', '2.png', '3.png']\n"
     ]
    }
   ],
   "source": [
    "files = [\"1.png\", \"2.png\", \"100.png\", \"3.png\", \"10.png\"]\n",
    "print(sorted(files))"
   ]
  },
  {
   "cell_type": "markdown",
   "metadata": {},
   "source": [
    "Изменим все названия на трёхзначные числа – дозаполним названия нулями:"
   ]
  },
  {
   "cell_type": "code",
   "execution_count": 27,
   "metadata": {},
   "outputs": [
    {
     "name": "stdout",
     "output_type": "stream",
     "text": [
      "['001.png', '002.png', '100.png', '003.png', '010.png']\n"
     ]
    }
   ],
   "source": [
    "# zfill(7): добавить нули в начале, если длина строки не 7\n",
    "# 7 – максимальная длина строки в списке, это 100.png\n",
    "\n",
    "new = []\n",
    "for f in files:\n",
    "    new.append(f.zfill(7)) \n",
    "print(new)"
   ]
  },
  {
   "cell_type": "markdown",
   "metadata": {},
   "source": [
    "Теперь с сортировкой всё в порядке:"
   ]
  },
  {
   "cell_type": "code",
   "execution_count": 28,
   "metadata": {},
   "outputs": [
    {
     "name": "stdout",
     "output_type": "stream",
     "text": [
      "['001.png', '002.png', '003.png', '010.png', '100.png']\n"
     ]
    }
   ],
   "source": [
    "print(sorted(new))"
   ]
  },
  {
   "cell_type": "markdown",
   "metadata": {},
   "source": [
    "By the way, длина строки определяется как и у списков с кортежами:"
   ]
  },
  {
   "cell_type": "code",
   "execution_count": 29,
   "metadata": {},
   "outputs": [
    {
     "name": "stdout",
     "output_type": "stream",
     "text": [
      "42\n"
     ]
    }
   ],
   "source": [
    "print(len(text))"
   ]
  },
  {
   "cell_type": "markdown",
   "metadata": {},
   "source": [
    "Индексация и срезы тоже работают по аналогии со списками:"
   ]
  },
  {
   "cell_type": "code",
   "execution_count": 30,
   "metadata": {},
   "outputs": [
    {
     "name": "stdout",
     "output_type": "stream",
     "text": [
      "I\n",
      " is hard\n"
     ]
    }
   ],
   "source": [
    "print(text[0])\n",
    "print(text[2:10])"
   ]
  }
 ],
 "metadata": {
  "kernelspec": {
   "display_name": "Python 3",
   "language": "python",
   "name": "python3"
  },
  "language_info": {
   "codemirror_mode": {
    "name": "ipython",
    "version": 3
   },
   "file_extension": ".py",
   "mimetype": "text/x-python",
   "name": "python",
   "nbconvert_exporter": "python",
   "pygments_lexer": "ipython3",
   "version": "3.7.4"
  }
 },
 "nbformat": 4,
 "nbformat_minor": 4
}
